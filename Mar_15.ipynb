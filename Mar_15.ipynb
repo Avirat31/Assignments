{
 "cells": [
  {
   "cell_type": "markdown",
   "id": "c1b61650-6ff7-44d7-976d-7b8b26f96bcc",
   "metadata": {},
   "source": [
    "# Assignment"
   ]
  },
  {
   "cell_type": "markdown",
   "id": "6186c23e-c731-4481-8fae-53e15aae4646",
   "metadata": {},
   "source": [
    "## Q1. Explain the following with an example:\n",
    "1) Artificial Intelligence\n",
    "2) Machine Learning\n",
    "3) Deep Learning\n",
    "\n",
    "Ans: \n",
    "1. Artificial Intelligence (AI): Artificial Intelligence involves developing intelligent machines capable of performing tasks that typically require human intelligence. For example, virtual personal assistants like Siri, Alexa, and Google Assistant.\n",
    "\n",
    "2. Machine Learning (ML): Machine Learning focuses on creating algorithms that enable computers to learn from data without explicit programming. An example is email spam filtering.\n",
    "\n",
    "3. Deep Learning (DL): Deep Learning uses artificial neural networks with multiple layers to automatically learn representations of data. It is commonly used for image recognition tasks, such as classifying images of cats and dogs."
   ]
  },
  {
   "cell_type": "markdown",
   "id": "5379c9d6-c966-4373-b52b-b753f892a5d0",
   "metadata": {},
   "source": [
    "## Q2- What is supervised learning? List some example of supervised learning? \n",
    "\n",
    "Ans:  Supervised learning is a machine learning approach where the algorithm learns from labeled data. The labeled data consists of input features and corresponding target labels or output values. The goal of supervised learning is to learn a mapping or function that can predict the correct output for new, unseen input data.\n",
    "\n",
    "Examples of supervised learning algorithms include:\n",
    "\n",
    "1. Linear Regression\n",
    "2. Logistic Regression\n",
    "3. Support Vector Machines (SVM)\n",
    "4. Decision Trees\n",
    "5. Random Forests\n",
    "6. Neural Networks (in a supervised learning setting)"
   ]
  },
  {
   "cell_type": "markdown",
   "id": "8d319294-346c-41a7-960a-4997b476b387",
   "metadata": {},
   "source": [
    "## Q3-What is unsupervised learning? List some example of unsupervised learning.\n",
    "\n",
    "Ans: : Unsupervised learning is a machine learning approach where the algorithm learns from unlabeled data. Unlike supervised learning, there are no predefined target labels or output values. The goal of unsupervised learning is to discover patterns, structures, or relationships in the data.\n",
    "\n",
    "Examples of unsupervised learning algorithms include:\n",
    "\n",
    "1. Clustering algorithms (e.g., K-means, Hierarchical Clustering)\n",
    "2. Dimensionality reduction techniques (e.g., Principal Component Analysis, t-SNE)\n",
    "3. Association rule learning (e.g., Apriori algorithm)\n",
    "4. Anomaly detection algorithms (e.g., Gaussian Mixture Models, Isolation Forest)\n",
    "5. Generative models (e.g., Variational Autoencoders, Generative Adversarial Networks)"
   ]
  },
  {
   "cell_type": "markdown",
   "id": "c0d3020b-1a80-4d21-874e-d97b74236f24",
   "metadata": {},
   "source": [
    "## Q4- What is the difference between AI, ML, DL, and DS?\n",
    "\n",
    "Ans: AI (Artificial Intelligence): The broad field of developing intelligent machines capable of mimicking human intelligence and performing tasks that typically require human cognition.\n",
    "\n",
    "ML (Machine Learning): Subset of AI that focuses on creating algorithms allowing machines to learn from data and make predictions or take actions without explicit programming.\n",
    "\n",
    "DL (Deep Learning): Subset of ML that utilizes artificial neural networks with multiple layers to automatically learn representations of data, particularly useful for complex pattern recognition tasks.\n",
    "\n",
    "DS (Data Science): Multidisciplinary field involving extracting insights and knowledge from data using various techniques, including statistical analysis, ML, and AI. Data scientists analyze data to make data-driven decisions and solve problems."
   ]
  },
  {
   "cell_type": "markdown",
   "id": "0b9fdbd3-25ba-4d22-8ae6-ea2e5355f91f",
   "metadata": {},
   "source": [
    "## Q5- What are the main difference between supervised, unsupervised, and semi-supervised learning?\n",
    "\n",
    "Ans: \n",
    "Supervised Learning: Uses labeled data with input features and corresponding target labels to train a model for predicting correct outputs. It is used for tasks like classification and regression.\n",
    "\n",
    "Unsupervised Learning: Uses unlabeled data to discover patterns, structures, or relationships in the data without predefined target labels. Common tasks include clustering, dimensionality reduction, and anomaly detection.\n",
    "\n",
    "Semi-Supervised Learning: Combines labeled and unlabeled data for training. It utilizes the labeled data to guide learning and the unlabeled data to capture the underlying structure of the data. Useful when labeled data is limited or expensive to obtain."
   ]
  },
  {
   "cell_type": "markdown",
   "id": "cf091bd4-06f2-44eb-b8f2-b9b908655642",
   "metadata": {},
   "source": [
    "## Q6- What is train, test and validation split? Explain theimportance of each them.\n",
    "\n",
    "Ans: Train Set: The train set is used to train the machine learning model. It contains input features and corresponding target labels (in supervised learning) or unlabeled data (in unsupervised learning). The model learns patterns and relationships from the train set.\n",
    "\n",
    "Test Set: The test set is used to evaluate the performance of the trained model. It contains input features and either target labels (in supervised learning) or unlabeled data (in unsupervised learning). The model's predictions on the test set are compared to the actual labels or ground truth to assess its performance.\n",
    "\n",
    "Validation Set: The validation set is an optional subset used during model development and hyperparameter tuning. It helps assess the model's performance on unseen data and make decisions about model selection, regularization, or adjusting hyperparameters. The validation set is used to fine-tune the model without biasing the evaluation on the test set.\n",
    "\n",
    "Importance of each set:\n",
    "\n",
    "Train set: It is crucial for training the model and learning patterns from the data. The model adjusts its internal parameters based on the patterns observed in the train set, enabling it to make accurate predictions or learn representations.\n",
    "\n",
    "Test set: It serves as an unbiased evaluation of the trained model's performance. By testing the model on unseen data, it helps estimate how well the model will perform in real-world scenarios and provides an indication of its generalization ability.\n",
    "\n",
    "Validation set: It aids in selecting the best model and optimizing its performance. The validation set helps identify potential issues like overfitting and allows fine-tuning of hyperparameters or model architecture to achieve better performance on unseen data."
   ]
  },
  {
   "cell_type": "markdown",
   "id": "94dc97df-7d68-4ed0-a0dc-6da7ed4849d5",
   "metadata": {},
   "source": [
    "## Q7- How can unsupervised learning be used in anomaly detection?\n",
    "\n",
    "Ans: Unsupervised learning can be used in anomaly detection by identifying patterns in the data and detecting data points that deviate significantly from those patterns, which are considered anomalies. Clustering, density-based methods, autoencoders, one-class SVM, and isolation forest are common unsupervised techniques used for this purpose."
   ]
  },
  {
   "cell_type": "markdown",
   "id": "3be71096-4b57-457b-be9c-e10d5afdfe5f",
   "metadata": {},
   "source": [
    "## Q8- List down some commonly used supervised learning algorithms and unsupervised learning algorithms.\n",
    "\n",
    "Ans: Commonly used supervised learning algorithms:\n",
    "\n",
    "1. Linear Regression\n",
    "2. Logistic Regression\n",
    "3. Decision Trees\n",
    "4. Random Forests\n",
    "5. Support Vector Machines (SVM)\n",
    "6. Naive Bayes\n",
    "7. k-Nearest Neighbors (k-NN)\n",
    "8. Gradient Boosting algorithms (e.g., XGBoost, LightGBM)\n",
    "9. Neural Networks (e.g., Multi-layer Perceptron)\n",
    "\n",
    "Commonly used unsupervised learning algorithms:\n",
    "\n",
    "1. K-means Clustering\n",
    "2. Hierarchical Clustering\n",
    "3. Principal Component Analysis (PCA)\n",
    "4. t-SNE (t-Distributed Stochastic Neighbor Embedding)\n",
    "5. DBSCAN (Density-Based Spatial Clustering of Applications with Noise)\n",
    "6. Gaussian Mixture Models (GMM)\n",
    "7. Apriori (for association rule learning)\n",
    "8. Isolation Forest\n",
    "9. Autoencoders"
   ]
  },
  {
   "cell_type": "code",
   "execution_count": null,
   "id": "c11e88da-0a79-4f45-aaa7-e106615a89fd",
   "metadata": {},
   "outputs": [],
   "source": []
  }
 ],
 "metadata": {
  "kernelspec": {
   "display_name": "Python 3 (ipykernel)",
   "language": "python",
   "name": "python3"
  },
  "language_info": {
   "codemirror_mode": {
    "name": "ipython",
    "version": 3
   },
   "file_extension": ".py",
   "mimetype": "text/x-python",
   "name": "python",
   "nbconvert_exporter": "python",
   "pygments_lexer": "ipython3",
   "version": "3.10.8"
  }
 },
 "nbformat": 4,
 "nbformat_minor": 5
}
