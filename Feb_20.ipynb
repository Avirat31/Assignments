{
 "cells": [
  {
   "cell_type": "markdown",
   "id": "1739c231-f947-434e-a2fe-7e978402f1c3",
   "metadata": {},
   "source": [
    "# Assignment"
   ]
  },
  {
   "cell_type": "markdown",
   "id": "43637fb0-be90-4195-a118-964407269d31",
   "metadata": {},
   "source": [
    "### Q1. Explain GET and POST methods.\n",
    "\n",
    "Ans: The GET method is used to retrieve data from a server. When a GET request is made, the server sends back the requested data in the response. The data can be included in the URL as query parameters, which are appended to the end of the URL after a question mark.\n",
    "\n",
    "The POST method is used to submit data to a server. When a POST request is made, the data is sent in the request body. This makes it more secure than a GET request, as the data is not visible in the URL."
   ]
  },
  {
   "cell_type": "markdown",
   "id": "7ce95afa-fbd6-47aa-8e60-3d8085fd458e",
   "metadata": {},
   "source": [
    "### Q2. Why is request used in Flask?\n",
    "\n",
    "Ans: \n",
    "1. Parsing request data: The request object allows Flask applications to easily parse data sent in an HTTP request. For example, if a client submits a form on a web page, Flask can use the request.form attribute to retrieve the submitted form data.\n",
    "\n",
    "2. Accessing request metadata: The request object provides access to metadata about the request, such as the request method, URL, and headers. This information can be used to determine how to handle the request and to provide a response.\n",
    "\n",
    "3. Handling file uploads: The request object can handle file uploads sent in a request with the multipart/form-data content type. Flask provides a request.files attribute that allows uploaded files to be accessed and processed."
   ]
  },
  {
   "cell_type": "markdown",
   "id": "f9bed803-d044-40a9-9173-9bef74afcb5e",
   "metadata": {},
   "source": [
    "### Q3. Why is redirect() used in Flask?\n",
    "\n",
    "Ans: 'redirect()' is a function provided by the Flask web framework that is used to redirect a client to a different URL. This function is typically used to handle situations where a client attempts to access a resource or URL that is no longer available or has moved to a different location.\n",
    "\n",
    "In a Flask application, you might use 'redirect()' when you want to:\n",
    "\n",
    "1. Redirect the user after a form submission to prevent resubmission of the same form data\n",
    "2. Redirect the user to a different page if they don't have sufficient permissions to access the requested resource\n",
    "3. Redirect the user after a successful login to their profile page"
   ]
  },
  {
   "cell_type": "markdown",
   "id": "3f8cca3f-4447-4300-840c-21da5ca9a504",
   "metadata": {},
   "source": [
    "### Q4. What are templates in Flask? Why is the render_template() function used?\n",
    "\n",
    "Ans: Templates in Flask are files that contain the structure and layout of the HTML pages that will be displayed to users. Templates are used to separate the presentation logic of a web application from its business logic, making it easier to maintain and modify the application's user interface.\n",
    "\n",
    "he 'render_template()' function in Flask is used to render a template and return the corresponding HTML to the client. It takes the name of the template file as its first argument and any additional arguments as key-value pairs that can be used in the template. The template files should be stored in a folder named \"templates\" in the root directory of your Flask application."
   ]
  },
  {
   "cell_type": "markdown",
   "id": "8b4c8f23-6d51-416c-9c15-25a3cc50c53b",
   "metadata": {},
   "source": []
  }
 ],
 "metadata": {
  "kernelspec": {
   "display_name": "Python 3 (ipykernel)",
   "language": "python",
   "name": "python3"
  },
  "language_info": {
   "codemirror_mode": {
    "name": "ipython",
    "version": 3
   },
   "file_extension": ".py",
   "mimetype": "text/x-python",
   "name": "python",
   "nbconvert_exporter": "python",
   "pygments_lexer": "ipython3",
   "version": "3.10.8"
  }
 },
 "nbformat": 4,
 "nbformat_minor": 5
}
