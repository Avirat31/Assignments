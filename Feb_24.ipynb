{
 "cells": [
  {
   "cell_type": "markdown",
   "id": "ba9518f3-e3e8-45f9-8a7c-53edfca5a54b",
   "metadata": {},
   "source": [
    "# Assignment"
   ]
  },
  {
   "cell_type": "markdown",
   "id": "66bb450b-08b3-4734-9dd3-400976b973a6",
   "metadata": {},
   "source": [
    "## Q1. List any five functions of the pandas library with execution.\n",
    "\n",
    "Ans: read_csv(): This function is used to read a CSV (Comma-Separated Values) file and create a DataFrame from it.\n",
    "\n",
    "head(): This function is used to display the first few rows of a DataFrame.\n",
    "\n",
    "groupby(): This function is used to group rows of a DataFrame based on one or more columns and perform aggregate operations on the grouped data.\n",
    "\n",
    "merge(): This function is used to combine multiple DataFrames based on common columns or indices.\n",
    "\n",
    "fillna(): This function is used to fill missing values in a DataFrame with a specified value or method."
   ]
  },
  {
   "cell_type": "markdown",
   "id": "76b2de33-f892-48c1-bf93-ef6377052c00",
   "metadata": {},
   "source": [
    "## Q2. Given a Pandas DataFrame df with columns 'A', 'B', and 'C', write a Python function to re-index the DataFrame with a new index that starts from 1 and increments by 2 for each row."
   ]
  },
  {
   "cell_type": "code",
   "execution_count": 1,
   "id": "e8ead19d-db9c-4971-9255-f834284252c8",
   "metadata": {},
   "outputs": [
    {
     "name": "stdout",
     "output_type": "stream",
     "text": [
      "    A   B    C\n",
      "1  10  50   90\n",
      "3  20  60  100\n",
      "5  30  70  110\n",
      "7  40  80  120\n"
     ]
    }
   ],
   "source": [
    "import pandas as pd\n",
    "\n",
    "def reindex_dataframe(df):\n",
    "    df = df.reset_index(drop=True)  # Reset the existing index\n",
    "\n",
    "    # Create a new index using lambda function\n",
    "    df.index = df.index.map(lambda x: x * 2 + 1)\n",
    "\n",
    "    return df\n",
    "\n",
    "data = {'A': [10, 20, 30, 40],\n",
    "        'B': [50, 60, 70, 80],\n",
    "        'C': [90, 100, 110, 120]}\n",
    "\n",
    "df = pd.DataFrame(data)\n",
    "\n",
    "# Re-index the DataFrame using the custom function\n",
    "df_reindexed = reindex_dataframe(df)\n",
    "\n",
    "print(df_reindexed)\n"
   ]
  },
  {
   "cell_type": "markdown",
   "id": "9a82959d-ff67-43de-9247-2d94345b89e7",
   "metadata": {},
   "source": [
    "## Q3 You have a Pandas DataFrame df with a column named 'Values'. Write a Python function thatiterates over the DataFrame and calculates the sum of the first three values in the 'Values' column. The function should print the sum to the console."
   ]
  },
  {
   "cell_type": "code",
   "execution_count": 1,
   "id": "528d1683-5299-4f1b-ab50-bd63191e0c26",
   "metadata": {},
   "outputs": [
    {
     "name": "stdout",
     "output_type": "stream",
     "text": [
      "Sum of the first three values: 60\n"
     ]
    }
   ],
   "source": [
    "import pandas as pd\n",
    "\n",
    "def calculate_sum_of_first_three(df):\n",
    "    sum_of_first_three = 0\n",
    "\n",
    "    # Iterate over the DataFrame rows\n",
    "    for index, row in df.iterrows():\n",
    "        if index < 3:\n",
    "            sum_of_first_three += row['Values']\n",
    "\n",
    "    print(\"Sum of the first three values:\", sum_of_first_three)\n",
    "\n",
    "    \n",
    "# sample DataFrame\n",
    "data = {'Values': [10, 20, 30, 40, 50]}\n",
    "df = pd.DataFrame(data)\n",
    "\n",
    "# Calculate the sum of the first three values using the custom function\n",
    "calculate_sum_of_first_three(df)\n",
    "    "
   ]
  },
  {
   "cell_type": "markdown",
   "id": "ffe67b3a-d491-4ffb-aac0-e4de69574a1c",
   "metadata": {},
   "source": [
    "## Q4. Given a Pandas DataFrame df with a column 'Text', write a Python function to create a new column 'Word_Count' that contains the number of words in each row of the 'Text' column."
   ]
  },
  {
   "cell_type": "code",
   "execution_count": 2,
   "id": "0e277b22-475f-4edf-acc0-0a6c28dca839",
   "metadata": {},
   "outputs": [
    {
     "name": "stdout",
     "output_type": "stream",
     "text": [
      "                  Text  Word_Count\n",
      "0  Hello, how are you?           4\n",
      "1     I am doing well.           4\n",
      "2     Python is great!           3\n"
     ]
    }
   ],
   "source": [
    "import pandas as pd\n",
    "\n",
    "def count_words(df):\n",
    "    # Create a new column 'Word_Count' by applying a lambda function\n",
    "    df['Word_Count'] = df['Text'].apply(lambda x: len(str(x).split()))\n",
    "\n",
    "    return df\n",
    "\n",
    "# sample DataFrame\n",
    "data = {'Text': ['Hello, how are you?', 'I am doing well.', 'Python is great!']}\n",
    "df = pd.DataFrame(data)\n",
    "\n",
    "df_with_word_count = count_words(df)\n",
    "\n",
    "# Print the DataFrame with the new column\n",
    "print(df_with_word_count)\n"
   ]
  },
  {
   "cell_type": "markdown",
   "id": "60c77985-8ce3-443b-92d1-1e508d0dc71a",
   "metadata": {},
   "source": [
    "## Q5. How are DataFrame.size() and DataFrame.shape() different?"
   ]
  },
  {
   "cell_type": "markdown",
   "id": "cc35fcb9-22bb-408f-9cfd-306b01cf8be6",
   "metadata": {},
   "source": [
    "The DataFrame.size and DataFrame.shape are both attributes in pandas DataFrame, but they provide different information about the DataFrame.\n",
    "\n",
    "DataFrame.size: This attribute returns the total number of elements in the DataFrame, which is equivalent to the number of rows multiplied by the number of columns. It represents the overall size or total number of cells in the DataFrame.\n",
    "\n",
    "DataFrame.shape: This attribute returns a tuple representing the dimensions of the DataFrame. It provides the number of rows and columns in the DataFrame. The shape attribute returns the tuple (rows, columns)."
   ]
  },
  {
   "cell_type": "code",
   "execution_count": 3,
   "id": "c76618d6-44f4-4156-a746-d2e9db96f7d0",
   "metadata": {},
   "outputs": [
    {
     "name": "stdout",
     "output_type": "stream",
     "text": [
      "9\n",
      "(3, 3)\n"
     ]
    }
   ],
   "source": [
    "import pandas as pd\n",
    "\n",
    "data = {'A': [1, 2, 3],\n",
    "        'B': [4, 5, 6],\n",
    "        'C': [7, 8, 9]}\n",
    "\n",
    "df = pd.DataFrame(data)\n",
    "\n",
    "print(df.size)  # Output: 9 (3 rows * 3 columns)\n",
    "\n",
    "print(df.shape)  # Output: (3, 3) (3 rows, 3 columns)\n"
   ]
  },
  {
   "cell_type": "markdown",
   "id": "8a3d817f-035b-4bf4-8a11-9b21e4ebfec6",
   "metadata": {},
   "source": [
    "## Q6. Which function of pandas do we use to read an excel file?\n",
    "Ans: To read an Excel file in pandas, we can use the read_excel() function."
   ]
  },
  {
   "cell_type": "markdown",
   "id": "6b44c536-5e92-485f-95f9-1ccd96773eec",
   "metadata": {},
   "source": [
    "## Q7. You have a Pandas DataFrame df that contains a column named 'Email' that contains email addresses in the format 'username@domain.com'. Write a Python function that creates a new column 'Username' in df that contains only the username part of each email address."
   ]
  },
  {
   "cell_type": "code",
   "execution_count": 1,
   "id": "405d347d-bf4c-453c-b0b7-5d0b73e763c0",
   "metadata": {},
   "outputs": [
    {
     "name": "stdout",
     "output_type": "stream",
     "text": [
      "                    Email    Username\n",
      "0    john.doe@example.com    john.doe\n",
      "1  jane.smith@example.com  jane.smith\n",
      "2  bob.miller@example.com  bob.miller\n"
     ]
    }
   ],
   "source": [
    "import pandas as pd\n",
    "\n",
    "def extract_username(df):\n",
    "\n",
    "    df['Username'] = df['Email'].str.split('@').str[0]\n",
    "    \n",
    "    return df\n",
    "\n",
    "df = pd.DataFrame({'Email': ['john.doe@example.com', 'jane.smith@example.com', 'bob.miller@example.com']})\n",
    "\n",
    "df = extract_username(df)\n",
    "\n",
    "print(df)\n"
   ]
  },
  {
   "cell_type": "markdown",
   "id": "a07a627e-f3f6-4847-b14e-d8e415748516",
   "metadata": {},
   "source": [
    "## Q8. You have a Pandas DataFrame df with columns 'A', 'B', and 'C'. Write a Python function that selects all rows where the value in column 'A' is greater than 5 and the value in column 'B' is less than 10. The function should return a new DataFrame that contains only the selected rows."
   ]
  },
  {
   "cell_type": "code",
   "execution_count": 2,
   "id": "23017fde-1f4e-47b0-a6bf-8caabe3004f2",
   "metadata": {},
   "outputs": [
    {
     "name": "stdout",
     "output_type": "stream",
     "text": [
      "   A  B  C\n",
      "1  8  2  7\n",
      "2  6  9  4\n",
      "4  9  1  2\n"
     ]
    }
   ],
   "source": [
    "import pandas as pd\n",
    "\n",
    "def select_rows(df):\n",
    "    selected_rows = df[(df['A'] > 5) & (df['B'] < 10)]\n",
    "    return selected_rows\n",
    "\n",
    "df = pd.DataFrame({'A': [3, 8, 6, 2, 9],\n",
    "                   'B': [5, 2, 9, 3, 1],\n",
    "                   'C': [1, 7, 4, 5, 2]})\n",
    "\n",
    "selected_df = select_rows(df)\n",
    "\n",
    "print(selected_df)\n"
   ]
  },
  {
   "cell_type": "markdown",
   "id": "13fbd17e-6096-42f7-b612-42dece35496d",
   "metadata": {},
   "source": [
    "## Q9. Given a Pandas DataFrame df with a column 'Values', write a Python function to calculate the mean,median, and standard deviation of the values in the 'Values' column."
   ]
  },
  {
   "cell_type": "code",
   "execution_count": 3,
   "id": "9c1eb74b-fc64-47e4-935b-3bb5fe8048e0",
   "metadata": {},
   "outputs": [
    {
     "name": "stdout",
     "output_type": "stream",
     "text": [
      "Mean: 15.0\n",
      "Median: 15.0\n",
      "Standard Deviation: 7.905694150420948\n"
     ]
    }
   ],
   "source": [
    "import pandas as pd\n",
    "\n",
    "def calculate_statistics(df):\n",
    "    mean_value = df['Values'].mean()\n",
    "    median_value = df['Values'].median()\n",
    "    std_value = df['Values'].std()\n",
    "    \n",
    "    return mean_value, median_value, std_value\n",
    "\n",
    "df = pd.DataFrame({'Values': [5, 10, 15, 20, 25]})\n",
    "\n",
    "mean, median, std = calculate_statistics(df)\n",
    "\n",
    "print(\"Mean:\", mean)\n",
    "print(\"Median:\", median)\n",
    "print(\"Standard Deviation:\", std)"
   ]
  },
  {
   "cell_type": "markdown",
   "id": "72435f13-991e-4893-b214-50eab1ae7aae",
   "metadata": {},
   "source": [
    "## Q10. Given a Pandas DataFrame df with a column 'Sales' and a column 'Date', write a Python function to create a new column 'MovingAverage' that contains the moving average of the sales for the past 7 days for each row in the DataFrame. The moving average should be calculated using a window of size 7 and should include the current day."
   ]
  },
  {
   "cell_type": "code",
   "execution_count": 4,
   "id": "49627288-30a7-4450-a4b3-42e42fbafae6",
   "metadata": {},
   "outputs": [
    {
     "name": "stdout",
     "output_type": "stream",
     "text": [
      "        Date  Sales  MovingAverage\n",
      "0 2023-01-01     10      10.000000\n",
      "1 2023-01-02     12      11.000000\n",
      "2 2023-01-03      8      10.000000\n",
      "3 2023-01-04     15      11.250000\n",
      "4 2023-01-05     20      13.000000\n",
      "5 2023-01-06     18      13.833333\n",
      "6 2023-01-07     13      13.714286\n",
      "7 2023-01-08      9      13.571429\n",
      "8 2023-01-09     11      13.428571\n",
      "9 2023-01-10     16      14.571429\n"
     ]
    }
   ],
   "source": [
    "import pandas as pd\n",
    "\n",
    "def calculate_moving_average(df):\n",
    "    window_size = 7\n",
    "    df['MovingAverage'] = df['Sales'].rolling(window=window_size, min_periods=1).mean()\n",
    "    return df\n",
    "\n",
    "df = pd.DataFrame({'Date': pd.date_range(start='2023-01-01', periods=10),\n",
    "                   'Sales': [10, 12, 8, 15, 20, 18, 13, 9, 11, 16]})\n",
    "\n",
    "df = calculate_moving_average(df)\n",
    "\n",
    "print(df)\n"
   ]
  },
  {
   "cell_type": "markdown",
   "id": "48042def-e9c0-448c-ac74-1cec7630c742",
   "metadata": {},
   "source": [
    "## Q11. You have a Pandas DataFrame df with a column 'Date'. Write a Python function that creates a new column 'Weekday' in the DataFrame. The 'Weekday' column should contain the weekday name (e.g. Monday, Tuesday) corresponding to each date in the 'Date' column."
   ]
  },
  {
   "cell_type": "code",
   "execution_count": 5,
   "id": "4e99e19a-3070-4921-be51-59bbf4dad54f",
   "metadata": {},
   "outputs": [
    {
     "name": "stdout",
     "output_type": "stream",
     "text": [
      "        Date    Weekday\n",
      "0 2023-01-01     Sunday\n",
      "1 2023-01-02     Monday\n",
      "2 2023-01-03    Tuesday\n",
      "3 2023-01-04  Wednesday\n",
      "4 2023-01-05   Thursday\n"
     ]
    }
   ],
   "source": [
    "import pandas as pd\n",
    "\n",
    "def add_weekday_column(df):\n",
    "    df['Weekday'] = df['Date'].dt.day_name()\n",
    "    return df\n",
    "\n",
    "df = pd.DataFrame({'Date': pd.to_datetime(['2023-01-01', '2023-01-02', '2023-01-03', '2023-01-04', '2023-01-05'])})\n",
    "\n",
    "df = add_weekday_column(df)\n",
    "\n",
    "print(df)\n"
   ]
  },
  {
   "cell_type": "markdown",
   "id": "e0da2bf0-3e24-47d5-896a-add616354ae6",
   "metadata": {},
   "source": [
    "## Q12. Given a Pandas DataFrame df with a column 'Date' that contains timestamps, write a Python function to select all rows where the date is between '2023-01-01' and '2023-01-31'."
   ]
  },
  {
   "cell_type": "code",
   "execution_count": 6,
   "id": "f8094a23-4f32-46d8-87b4-7cfe5391220a",
   "metadata": {},
   "outputs": [
    {
     "name": "stdout",
     "output_type": "stream",
     "text": [
      "        Date\n",
      "0 2023-01-01\n",
      "1 2023-01-15\n",
      "2 2023-01-31\n"
     ]
    }
   ],
   "source": [
    "import pandas as pd\n",
    "\n",
    "def select_rows_by_date(df):\n",
    "    start_date = '2023-01-01'\n",
    "    end_date = '2023-01-31'\n",
    "    \n",
    "    df['Date'] = pd.to_datetime(df['Date'])\n",
    "    \n",
    "    selected_rows = df[(df['Date'] >= start_date) & (df['Date'] <= end_date)]\n",
    "    \n",
    "    return selected_rows\n",
    "\n",
    "df = pd.DataFrame({'Date': ['2023-01-01', '2023-01-15', '2023-01-31', '2023-02-10']})\n",
    "\n",
    "selected_df = select_rows_by_date(df)\n",
    "\n",
    "print(selected_df)\n"
   ]
  },
  {
   "cell_type": "markdown",
   "id": "c619fcdf-507d-4369-9b31-018504cf877a",
   "metadata": {},
   "source": [
    "## Q13. To use the basic functions of pandas, what is the first and foremost necessary library that needs to be imported?\n",
    "\n",
    "Ans: To use the basic functions of Pandas, the first and foremost library that needs to be imported is the Pandas library itself."
   ]
  },
  {
   "cell_type": "code",
   "execution_count": null,
   "id": "aaff5024-8096-4670-b30d-d3239c2e9331",
   "metadata": {},
   "outputs": [],
   "source": []
  }
 ],
 "metadata": {
  "kernelspec": {
   "display_name": "Python 3 (ipykernel)",
   "language": "python",
   "name": "python3"
  },
  "language_info": {
   "codemirror_mode": {
    "name": "ipython",
    "version": 3
   },
   "file_extension": ".py",
   "mimetype": "text/x-python",
   "name": "python",
   "nbconvert_exporter": "python",
   "pygments_lexer": "ipython3",
   "version": "3.10.8"
  }
 },
 "nbformat": 4,
 "nbformat_minor": 5
}
