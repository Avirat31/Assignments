{
 "cells": [
  {
   "cell_type": "markdown",
   "id": "a4b91c22-a803-4376-8692-ed46567a0a43",
   "metadata": {},
   "source": [
    "# Assignment"
   ]
  },
  {
   "cell_type": "markdown",
   "id": "35f1aa3a-7969-4fa0-bbff-3d674e626d5b",
   "metadata": {},
   "source": [
    "## Q1: What are missing values in a dataset? Why is it essential to handle missing values? Name some algorithms that are not affected by missing values.\n",
    "\n",
    "Ans: Missing values in a dataset refer to the absence of data for certain variables or observations. They can occur due to various reasons such as data entry errors, equipment malfunction, or non-response in surveys. Handling missing values is crucial because they can lead to biased or inefficient analysis and modeling results. Missing values can disrupt statistical calculations, reduce the representativeness of the dataset, and affect the performance of machine learning algorithms.\n",
    "\n",
    "Some algorithms that are not affected by missing values are:\n",
    "\n",
    "1. Decision Trees: Decision trees can handle missing values by creating surrogate splits based on available predictors.\n",
    "\n",
    "2. Random Forests: Random forests can handle missing values in a similar way to decision trees by imputing missing values using surrogate splits.\n",
    "\n",
    "3. Gradient Boosting Machines (GBMs): GBMs have built-in handling of missing values by treating them as a separate category during the splitting process."
   ]
  },
  {
   "cell_type": "markdown",
   "id": "59a4ed6b-a301-4a94-ac95-e0fdc6e4ad6c",
   "metadata": {},
   "source": [
    "## Q2: List down techniques used to handle missing data. Give an example of each with python code.\n",
    "\n",
    "Ans: \n",
    "1. Deleting Rows: This technique involves removing rows with missing values. However, it should only be used when the amount of missing data is very small and random."
   ]
  },
  {
   "cell_type": "code",
   "execution_count": null,
   "id": "b9bce3c0-6ab9-45ff-b3d2-8ef376bb7d15",
   "metadata": {},
   "outputs": [],
   "source": [
    "# Example: Deleting rows with missing values\n",
    "import pandas as pd\n",
    "\n",
    "# Assuming 'df' is the DataFrame with missing values\n",
    "df.dropna(inplace=True)\n"
   ]
  },
  {
   "cell_type": "markdown",
   "id": "173d7451-c78b-446d-9764-7386fdedae68",
   "metadata": {},
   "source": [
    "2. Imputation: Imputation involves filling in missing values with estimated or calculated values. One common method is mean imputation."
   ]
  },
  {
   "cell_type": "code",
   "execution_count": null,
   "id": "73eda478-ffaa-4d4b-84c8-63a8acfdc592",
   "metadata": {},
   "outputs": [],
   "source": [
    "# Example: Mean imputation using pandas\n",
    "import pandas as pd\n",
    "\n",
    "# Assuming 'df' is the DataFrame with missing values\n",
    "mean_value = df['column_name'].mean()\n",
    "df['column_name'].fillna(mean_value, inplace=True)\n"
   ]
  },
  {
   "cell_type": "markdown",
   "id": "5c29600f-9c1b-4ae4-8a2c-53575dbb4f28",
   "metadata": {},
   "source": [
    "## Q3: Explain the imbalanced data. What will happen if imbalanced data is not handled?\n",
    "\n",
    "Ans: : Imbalanced data refers to a situation where the classes or categories in the target variable are not represented equally. It commonly occurs in classification problems when one class dominates the dataset, while the other class(es) have significantly fewer instances.\n",
    "\n",
    "If imbalanced data is not handled properly, it can lead to biased model performance. Algorithms trained on imbalanced data tend to favor the majority class, resulting in poor predictions for the minority class. This can be problematic, especially in scenarios where the minority class is of particular interest, such as fraud detection or rare disease diagnosis."
   ]
  },
  {
   "cell_type": "markdown",
   "id": "df4550f4-cd03-4179-b730-1be223d19967",
   "metadata": {},
   "source": [
    "## Q4: What are Up-sampling and Down-sampling? Explain with an example when up-sampling and down-sampling are required.\n",
    "\n",
    "Ans:Up-sampling and down-sampling are techniques used to address imbalanced data.\n",
    "\n",
    "Up-sampling involves increasing the number of instances in the minority class to match the majority class. This can be done by randomly replicating samples from the minority class.\n",
    "\n",
    "Down-sampling involves reducing the number of instances in the majority class to match the minority class. This can be done by randomly removing samples from the majority class.\n",
    "\n",
    "For example, if you have an imbalanced dataset with 100 instances of the majority class and 20 instances of the minority class, you can up-sample the minority class by randomly selecting and replicating instances until both classes have an equal number of instances (e.g., 100 instances each)"
   ]
  },
  {
   "cell_type": "markdown",
   "id": "2efefe07-ae8a-432e-ac47-f07ba43fe1af",
   "metadata": {},
   "source": [
    "## Q5: What is data Augmentation? Explain SMOTE.\n",
    "\n",
    "Ans: Data augmentation is a technique used to artificially increase the size of a dataset by creating variations or modifications of the existing data. It is commonly used in machine learning and computer vision tasks to improve model performance.\n",
    "\n",
    "SMOTE (Synthetic Minority Over-sampling Technique) is a popular data augmentation technique used specifically for imbalanced datasets. It generates synthetic samples for the minority class by interpolating between neighboring instances. SMOTE helps in balancing the class distribution and provides additional training samples for the minority class."
   ]
  },
  {
   "cell_type": "markdown",
   "id": "011d7d77-d4a8-4683-8993-abedc8eb82d5",
   "metadata": {},
   "source": [
    "## Q6: What are outliers in a dataset? Why is it essential to handle outliers?\n",
    "\n",
    "Ans: Outliers in a dataset are data points that significantly deviate from the majority of other data points. They can be caused by measurement errors, data corruption, or genuinely rare events. Handling outliers is essential because they can have a disproportionate influence on statistical analyses and modeling results, leading to biased conclusions or inaccurate predictions.\n",
    "\n",
    "Outliers can affect statistical measures such as the mean and standard deviation, making them less representative of the overall data distribution. They can also impact the performance of machine learning algorithms, particularly those sensitive to the scale and distribution of the data."
   ]
  },
  {
   "cell_type": "markdown",
   "id": "e3e41aa2-86be-4a49-b47c-06a14f42a08b",
   "metadata": {},
   "source": [
    "## Q7: You are working on a project that requires analyzing customer data. However, you notice that some of the data is missing. What are some techniques you can use to handle the missing data in your analysis?\n",
    "\n",
    "Ans:  When handling missing data in customer analysis, some techniques that can be used are:\n",
    "\n",
    "1. Deleting rows with missing values if the amount of missing data is small and random.\n",
    "2. Imputing missing values using mean imputation, median imputation, or mode imputation based on the type of variable.\n",
    "3. Using advanced imputation techniques like KNN imputation or regression imputation if the missingness has a complex pattern."
   ]
  },
  {
   "cell_type": "markdown",
   "id": "00c87f9c-70fe-4cb8-b7d6-5c7ef154d0b6",
   "metadata": {},
   "source": [
    "## Q8: You are working with a large dataset and find that a small percentage of the data is missing. What are some strategies you can use to determine if the missing data is missing at random or if there is a pattern to the missing data?\n",
    "\n",
    "Ans:  To determine if the missing data is missing at random or if there is a pattern, you can employ the following strategies:\n",
    "\n",
    "1. Missing Data Visualization: Plotting missingness patterns across variables and observations can help identify any patterns or correlations.\n",
    "2. Statistical Tests: Conduct statistical tests to examine if the missingness is related to other variables in the dataset. For example, the Chi-square test or correlation tests can be used to check the association between missingness and other variables."
   ]
  },
  {
   "cell_type": "markdown",
   "id": "78396b33-3241-42f9-924b-be7e7a247eb2",
   "metadata": {},
   "source": [
    "## Q9: Suppose you are working on a medical diagnosis project and find that the majority of patients in the dataset do not have the condition of interest, while a small percentage do. What are some strategies you can use to evaluate the performance of your machine learning model on this imbalanced dataset?\n",
    "\n",
    "Ans: Strategies to evaluate the performance of a machine learning model on an imbalanced dataset with a majority of negative instances and a small percentage of positive instances include:\n",
    "\n",
    "1. Confusion Matrix: Calculate metrics such as accuracy, precision, recall, and F1-score to evaluate the model's performance on both the majority and minority classes.\n",
    "2. ROC Curve and AUC: Plot the Receiver Operating Characteristic (ROC) curve and calculate the Area Under the Curve (AUC) to assess the model's ability to discriminate between classes.\n",
    "3. Precision-Recall Curve: Plot the Precision-Recall curve to analyze the trade-off between precision and recall for different classification thresholds.\n"
   ]
  },
  {
   "cell_type": "markdown",
   "id": "27366727-11da-4044-b82b-3502fe719d33",
   "metadata": {},
   "source": [
    "## Q10: When attempting to estimate customer satisfaction for a project, you discover that the dataset is unbalanced, with the bulk of customers reporting being satisfied. What methods can you employ to balance the dataset and down-sample the majority class?\n",
    "\n",
    "Ans:  To balance an unbalanced dataset with the majority class, some methods that can be employed to down-sample the majority class include:\n",
    "\n",
    "1. Random Under-sampling: Randomly select a subset of instances from the majority class to match the number of instances in the minority class.\n",
    "2. Cluster-Based Under-sampling: Use clustering techniques to identify representative instances from the majority class and remove redundant instances."
   ]
  },
  {
   "cell_type": "markdown",
   "id": "729085b1-19ba-49e7-9c75-3f6029618d73",
   "metadata": {},
   "source": [
    "## Q11: You discover that the dataset is unbalanced with a low percentage of occurrences while working on a project that requires you to estimate the occurrence of a rare event. What methods can you employ to balance the dataset and up-sample the minority class?\n",
    "\n",
    "Ans:  To balance an unbalanced dataset with a low percentage of occurrences in the minority class, some methods that can be employed to up-sample the minority class include:\n",
    "\n",
    "1. Random Over-sampling: Randomly replicate instances from the minority class to increase its representation in the dataset.\n",
    "2. Synthetic Minority Over-sampling Technique (SMOTE): Generate synthetic samples for the minority class by interpolating between neighboring instances to create new instances."
   ]
  },
  {
   "cell_type": "code",
   "execution_count": null,
   "id": "17ced7c5-6216-49ab-92b5-d64ea423de82",
   "metadata": {},
   "outputs": [],
   "source": []
  }
 ],
 "metadata": {
  "kernelspec": {
   "display_name": "Python 3 (ipykernel)",
   "language": "python",
   "name": "python3"
  },
  "language_info": {
   "codemirror_mode": {
    "name": "ipython",
    "version": 3
   },
   "file_extension": ".py",
   "mimetype": "text/x-python",
   "name": "python",
   "nbconvert_exporter": "python",
   "pygments_lexer": "ipython3",
   "version": "3.10.8"
  }
 },
 "nbformat": 4,
 "nbformat_minor": 5
}
