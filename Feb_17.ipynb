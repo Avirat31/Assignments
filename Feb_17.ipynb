{
 "cells": [
  {
   "cell_type": "markdown",
   "id": "d6320ad8-6c71-4b86-8d87-2c36057db328",
   "metadata": {},
   "source": [
    "# Assignment"
   ]
  },
  {
   "cell_type": "markdown",
   "id": "f9c1b905-13d6-4d74-85e4-2efcbc09aacf",
   "metadata": {},
   "source": [
    "### Q1. What is MongoDB? Explain non-relational databases in short. In which scenarios it is preferred to use MongoDB over SQL databases?\n",
    "\n",
    "Ans: MongoDB is a document-oriented, NoSQL database that is designed for high scalability, performance, and flexibility. It is an open-source database that uses JSON-like documents with dynamic schemas, which means that it can store and retrieve data in a variety of formats without requiring a predefined schema.\n",
    "\n",
    "Non-relational databases, also known as NoSQL databases, are databases that store and retrieve data using a non-tabular approach. Unlike traditional relational databases, NoSQL databases do not use tables with fixed columns and rows. Instead, they use a flexible schema that can handle a wide range of data formats, including unstructured and semi-structured data.\n",
    "\n",
    "MongoDB is often preferred over SQL databases in scenarios where:\n",
    "\n",
    "1. Handling of large volumes of unstructured data is required.\n",
    "2. Scalability is a key requirement.\n",
    "3. The data schema is expected to change frequently.\n",
    "4. Rapid prototyping and agile development are required.\n",
    "5. Horizontal scaling is important."
   ]
  },
  {
   "cell_type": "markdown",
   "id": "8f289616-67d9-4807-b396-ed20a3f08144",
   "metadata": {},
   "source": [
    "### Q2. State and Explain the features of MongoDB.\n",
    "\n",
    "Ams: MongoDB is a popular NoSQL document-oriented database that is known for its flexibility, scalability, and performance. Some of the key features of MongoDB include:\n",
    "\n",
    "1. Dynamic schema: MongoDB uses a dynamic schema, which means that it can handle a wide range of data formats without requiring a predefined schema. This makes it easy to add or modify fields as needed, without the need for complex migrations.\n",
    "\n",
    "2. High scalability: MongoDB is designed for horizontal scaling, which means that it can easily handle large volumes of data and high traffic loads. It also supports sharding, which allows data to be distributed across multiple servers for increased performance and scalability.\n",
    "\n",
    "3. Document-based storage: MongoDB stores data in flexible, JSON-like documents, which can include nested fields and arrays. This makes it easy to represent complex data structures and relationships.\n",
    "\n",
    "4. Rich query language: MongoDB supports a powerful query language that allows you to query and manipulate data in a variety of ways. It also supports indexing, which can greatly improve query performance.\n",
    "\n",
    "5. High availability: MongoDB supports automatic failover and replication, which ensures that your data is always available and up-to-date, even in the event of a server failure."
   ]
  },
  {
   "cell_type": "markdown",
   "id": "e5155f5d-582d-4bf0-ae10-c5a52fc5d946",
   "metadata": {},
   "source": [
    "### Q3. Write a code to connect MongoDB to Python. Also, create a database and a collection in MongoDB."
   ]
  },
  {
   "cell_type": "code",
   "execution_count": null,
   "id": "cf83bf5e-d758-4712-a6a9-667e81049021",
   "metadata": {},
   "outputs": [],
   "source": [
    "import pymongo\n",
    "\n",
    "# Connect to MongoDB\n",
    "client = pymongo.MongoClient(\"mongodb://localhost:27017/\")\n",
    "\n",
    "db = client[\"mydatabase\"]\n",
    "\n",
    "col = db[\"mycollection\"]\n",
    "\n",
    "doc = {\"name\": \"John\", \"age\": 30}\n",
    "col.insert_one(doc)\n",
    "\n",
    "for doc in col.find():\n",
    "    print(doc)\n",
    "    "
   ]
  },
  {
   "cell_type": "markdown",
   "id": "e09217fa-50b5-4fa8-9cf6-f5e5abba172d",
   "metadata": {},
   "source": [
    "### Q4. Using the database and the collection created in question number 3, write a code to insert one record,and insert many records. Use the find() and find_one() methods to print the inserted record."
   ]
  },
  {
   "cell_type": "code",
   "execution_count": null,
   "id": "84a836ae-46ed-4711-be9c-dc927f19d7e8",
   "metadata": {},
   "outputs": [],
   "source": [
    "import pymongo\n",
    "\n",
    "\n",
    "client = pymongo.MongoClient(\"mongodb://localhost:27017/\")\n",
    "db = client[\"mydatabase\"]\n",
    "col = db[\"mycollection\"]\n",
    "\n",
    "\n",
    "record1 = {\"name\": \"Alice\", \"age\": 25}\n",
    "col.insert_one(record1)\n",
    "\n",
    "\n",
    "records2 = [\n",
    "    {\"name\": \"Bob\", \"age\": 30},\n",
    "    {\"name\": \"Charlie\", \"age\": 35},\n",
    "    {\"name\": \"Dave\", \"age\": 40}\n",
    "]\n",
    "col.insert_many(records2)\n",
    "\n",
    "\n",
    "print(\"Record 1 inserted:\", col.find_one({\"name\": \"Alice\"}))\n",
    "print(\"Records 2-4 inserted:\")\n",
    "for doc in col.find({\"age\": {\"$gt\": 29}}):\n",
    "    print(doc)\n"
   ]
  },
  {
   "cell_type": "markdown",
   "id": "0290666e-f3d7-49ae-bdda-975936a0021f",
   "metadata": {},
   "source": [
    "### Q5. Explain how you can use the find() method to query the MongoDB database. Write a simple code to demonstrate this.\n",
    "\n",
    "Ans: The find() method is used to query the MongoDB database and retrieve documents that match a specific set of criteria. It takes one or more query parameters, which define the criteria for selecting documents, and returns a cursor object that can be used to iterate over the matching documents."
   ]
  },
  {
   "cell_type": "code",
   "execution_count": null,
   "id": "7da7ba7c-724d-49d6-afc7-906cf6ca8856",
   "metadata": {},
   "outputs": [],
   "source": [
    "import pymongo\n",
    "\n",
    "client = pymongo.MongoClient(\"mongodb://localhost:27017/\")\n",
    "db = client[\"mydatabase\"]\n",
    "col = db[\"mycollection\"]\n",
    "\n",
    "docs = col.find()\n",
    "for doc in docs:\n",
    "    print(doc)\n",
    "\n",
    "docs = col.find({\"age\": {\"$gt\": 30}})\n",
    "for doc in docs:\n",
    "    print(doc)\n"
   ]
  },
  {
   "cell_type": "markdown",
   "id": "65e56f48-52b8-4ef4-8f0f-c1aea4f3345e",
   "metadata": {},
   "source": [
    "### Q6. Explain the sort() method. Give an example to demonstrate sorting in MongoDB.\n",
    "\n",
    "\n",
    "Ans: The sort() method is used to sort the results of a MongoDB query by one or more fields. It takes one or more sorting criteria as input, each of which specifies a field to sort on and a sort direction (ascending or descending)."
   ]
  },
  {
   "cell_type": "code",
   "execution_count": null,
   "id": "dfca7277-508a-47f6-ad77-6d9b144af598",
   "metadata": {},
   "outputs": [],
   "source": [
    "import pymongo\n",
    "\n",
    "client = pymongo.MongoClient(\"mongodb://localhost:27017/\")\n",
    "db = client[\"mydatabase\"]\n",
    "col = db[\"mycollection\"]\n",
    "\n",
    "col.insert_many([\n",
    "    {\"name\": \"Alice\", \"age\": 25},\n",
    "    {\"name\": \"Bob\", \"age\": 30},\n",
    "    {\"name\": \"Charlie\", \"age\": 35},\n",
    "    {\"name\": \"Dave\", \"age\": 40}\n",
    "])\n",
    "\n",
    "docs = col.find().sort(\"age\", pymongo.ASCENDING)\n",
    "print(\"Documents sorted by age in ascending order:\")\n",
    "for doc in docs:\n",
    "    print(doc)\n",
    "\n",
    "docs = col.find().sort(\"name\", pymongo.DESCENDING)\n",
    "print(\"Documents sorted by name in descending order:\")\n",
    "for doc in docs:\n",
    "    print(doc)\n"
   ]
  },
  {
   "cell_type": "markdown",
   "id": "3148c42f-eb69-4ddd-9fb2-faf0ab36dc3e",
   "metadata": {},
   "source": [
    "### Q7. Explain why delete_one(), delete_many(), and drop() is used.\n",
    "\n",
    "Ans: In MongoDB, delete_one(), delete_many(), and drop() are used to remove documents or entire collections from a database.\n",
    "\n",
    "Here's a brief explanation of each method:\n",
    "1. delete_one(): This method is used to remove a single document from a collection that matches a specific set of criteria. It takes a filter parameter, which defines the criteria for selecting the document to be deleted. If multiple documents match the filter, only the first one encountered is deleted. If no documents match the filter, nothing happens.\n",
    "\n",
    "2. delete_many(): This method is used to remove multiple documents from a collection that match a specific set of criteria. It takes a filter parameter, which defines the criteria for selecting the documents to be deleted. All documents that match the filter are deleted. If no documents match the filter, nothing happens.\n",
    "\n",
    "3. drop(): This method is used to remove an entire collection from a database. It takes no parameters and simply deletes the entire collection. Any indexes associated with the collection are also deleted."
   ]
  },
  {
   "cell_type": "code",
   "execution_count": null,
   "id": "f1290efd-1709-4968-afab-9bc8a23f4717",
   "metadata": {},
   "outputs": [],
   "source": []
  }
 ],
 "metadata": {
  "kernelspec": {
   "display_name": "Python 3 (ipykernel)",
   "language": "python",
   "name": "python3"
  },
  "language_info": {
   "codemirror_mode": {
    "name": "ipython",
    "version": 3
   },
   "file_extension": ".py",
   "mimetype": "text/x-python",
   "name": "python",
   "nbconvert_exporter": "python",
   "pygments_lexer": "ipython3",
   "version": "3.10.8"
  }
 },
 "nbformat": 4,
 "nbformat_minor": 5
}
