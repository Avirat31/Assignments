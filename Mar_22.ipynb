{
 "cells": [
  {
   "cell_type": "markdown",
   "id": "6af34b84-3bb0-47c5-8c9d-48e4162a85c8",
   "metadata": {},
   "source": [
    "# Assignment "
   ]
  },
  {
   "cell_type": "markdown",
   "id": "9f65c4f0-acba-4405-9050-754e6845b199",
   "metadata": {},
   "source": [
    "## Q1. Pearson correlation coefficient is a measure of the linear relationship between two variables. Suppose you have collected data on the amount of time students spend studying for an exam and their final exam scores. Calculate the Pearson correlation coefficient between these two variables and interpret the result.\n",
    "\n",
    "Ans:  To calculate the Pearson correlation coefficient between the amount of time students spend studying for an exam and their final exam scores, use a statistical package or library like NumPy or pandas. The coefficient will range from -1 to 1. A positive value close to 1 indicates a strong positive linear relationship, implying that more study time is associated with higher exam scores. A negative value close to -1 indicates a strong negative linear relationship, suggesting that more study time is associated with lower exam scores. A value close to 0 suggests a weak or no linear relationship."
   ]
  },
  {
   "cell_type": "markdown",
   "id": "1bcd6718-1361-4f12-b833-d242df183847",
   "metadata": {},
   "source": [
    "## Q2. Spearman's rank correlation is a measure of the monotonic relationship between two variables. Suppose you have collected data on the amount of sleep individuals get each night and their overall job satisfaction level on a scale of 1 to 10. Calculate the Spearman's rank correlation between these two variables and interpret the result.\n",
    "\n",
    "Ans: To calculate the Spearman's rank correlation between the amount of sleep individuals get each night and their overall job satisfaction level, use a statistical package or library. The coefficient will range from -1 to 1. A positive value close to 1 indicates a strong monotonic relationship, suggesting that as sleep duration increases, job satisfaction also tends to increase. A negative value close to -1 indicates a strong inverse monotonic relationship, implying that as sleep duration increases, job satisfaction tends to decrease. A value close to 0 suggests a weak or no monotonic relationship."
   ]
  },
  {
   "cell_type": "markdown",
   "id": "088309c4-22cc-4968-b1a6-ab11b241bfdd",
   "metadata": {},
   "source": [
    "## Q3. Suppose you are conducting a study to examine the relationship between the number of hours of exercise per week and body mass index (BMI) in a sample of adults. You collected data on both variables for 50 participants. Calculate the Pearson correlation coefficient and the Spearman's rank correlation between these two variables and compare the results.\n",
    "\n",
    "Ans: To compare the relationship between the number of hours of exercise per week and body mass index (BMI) using both Pearson correlation coefficient and Spearman's rank correlation, calculate these coefficients using a statistical package or library. The Pearson correlation coefficient measures the linear relationship between the variables, while the Spearman's rank correlation measures the monotonic relationship.\n",
    "\n",
    "If the Pearson correlation coefficient and the Spearman's rank correlation are both close to 1, it indicates a strong positive monotonic relationship. If the Pearson correlation coefficient is close to 1 but the Spearman's rank correlation is not, it suggests a linear relationship but not necessarily monotonic. If the Spearman's rank correlation is close to 1 but the Pearson correlation coefficient is not, it suggests a monotonic relationship but not necessarily linear. Comparing the two coefficients can provide insights into the nature of the relationship between the variables."
   ]
  },
  {
   "cell_type": "markdown",
   "id": "42a6387b-b173-415b-b9d9-985745aa5677",
   "metadata": {},
   "source": [
    "## Q4. A researcher is interested in examining the relationship between the number of hours individuals spend watching television per day and their level of physical activity. The researcher collected data on both variables from a sample of 50 participants. Calculate the Pearson correlation coefficient between these two variables.\n",
    "\n",
    "Ans: To calculate the Pearson correlation coefficient between the number of hours individuals spend watching television per day and their level of physical activity, use a statistical package or library. The coefficient will range from -1 to 1. A positive value close to 1 indicates a strong positive linear relationship, suggesting that more television time is associated with higher physical activity levels. A negative value close to -1 indicates a strong negative linear relationship, implying that more television time is associated with lower physical activity levels. A value close to 0 suggests a weak or no linear relationship between the variables."
   ]
  },
  {
   "cell_type": "markdown",
   "id": "aa3531df-a441-4a1d-8611-24c8aabf437f",
   "metadata": {},
   "source": [
    "## Q5. A survey was conducted to examine the relationship between age and preference for a particular brand of soft drink. The survey results are shown below:\n",
    "\n",
    "1. Frequency Analysis: We can calculate the frequency of each soft drink preference within different age groups. This will help us understand if there are any patterns or preferences based on age.\n",
    "\n",
    "2. Cross-tabulation: Creating a cross-tabulation or contingency table between age and soft drink preference can provide insights into the distribution and association between the two variables.\n",
    "\n",
    "3. Visualization: Creating visualizations such as bar plots, pie charts, or stacked bar plots can help visualize the distribution of soft drink preferences across different age groups.\n",
    "\n",
    "4. Statistical Tests: To determine if there is a significant association between age and soft drink preference, statistical tests like the chi-square test of independence can be performed.\n",
    "\n",
    "5. By applying these methods, we can gain a better understanding of the relationship between age and soft drink preference and identify any potential trends or associations."
   ]
  },
  {
   "cell_type": "markdown",
   "id": "7e9c0194-e3c4-46fb-8872-5004c9a904ca",
   "metadata": {},
   "source": [
    "## Q6. A company is interested in examining the relationship between the number of sales calls made per day and the number of sales made per week. The company collected data on both variables from a sample of 30 sales representatives. Calculate the Pearson correlation coefficient between these two variables.\n",
    "\n",
    "Ans: To calculate the Pearson correlation coefficient between the number of sales calls made per day and the number of sales made per week, use a statistical package or library such as NumPy or pandas. The Pearson correlation coefficient measures the strength and direction of the linear relationship between two variables. The coefficient will range from -1 to 1.\n",
    "\n",
    "The Pearson correlation coefficient will indicate the extent to which the number of sales calls made per day is associated with the number of sales made per week. A positive value close to 1 suggests a strong positive linear relationship, indicating that as the number of sales calls increases, the number of sales made per week also tends to increase. A negative value close to -1 suggests a strong negative linear relationship, implying that as the number of sales calls increases, the number of sales made per week tends to decrease. A value close to 0 suggests a weak or no linear relationship between the variables.\n",
    "\n",
    "Performing the calculation will provide a specific value for the Pearson correlation coefficient, which will indicate the nature and strength of the relationship between the variables in the given dataset of 30 sales representatives."
   ]
  },
  {
   "cell_type": "code",
   "execution_count": null,
   "id": "20f6342a-8cf3-4269-b5bf-0eabaee6e31c",
   "metadata": {},
   "outputs": [],
   "source": []
  }
 ],
 "metadata": {
  "kernelspec": {
   "display_name": "Python 3 (ipykernel)",
   "language": "python",
   "name": "python3"
  },
  "language_info": {
   "codemirror_mode": {
    "name": "ipython",
    "version": 3
   },
   "file_extension": ".py",
   "mimetype": "text/x-python",
   "name": "python",
   "nbconvert_exporter": "python",
   "pygments_lexer": "ipython3",
   "version": "3.10.8"
  }
 },
 "nbformat": 4,
 "nbformat_minor": 5
}
