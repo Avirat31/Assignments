{
 "cells": [
  {
   "cell_type": "markdown",
   "id": "1201bd51-5359-425c-9ec6-2393a78afbfe",
   "metadata": {},
   "source": [
    "# Assignment"
   ]
  },
  {
   "cell_type": "markdown",
   "id": "dcf27c06-c70d-4dc5-b419-95b8319ab675",
   "metadata": {},
   "source": [
    "## Q1. What is Lasso Regression, and how does it differ from other regression techniques?\n",
    "\n",
    "Ans: Lasso Regression:\n",
    "\n",
    "- Lasso Regression is a linear regression technique that adds an L1 regularization penalty to the cost function.\n",
    "- It differs from other regression techniques by using the absolute values of the coefficients in the regularization term.\n",
    "- Lasso can perform feature selection by forcing some coefficients to be exactly zero, effectively eliminating less important predictors from the model."
   ]
  },
  {
   "cell_type": "markdown",
   "id": "10ac0801-a4e5-4500-94ee-35110e5f3835",
   "metadata": {},
   "source": [
    "## Q2. What is the main advantage of using Lasso Regression in feature selection?\n",
    "\n",
    "Ans: Advantage of Lasso Regression in feature selection:\n",
    "\n",
    "- Lasso Regression's main advantage is its ability to automatically perform feature selection by shrinking less important coefficients to zero.\n",
    "- This results in a sparse model, making it easier to identify and focus on the most relevant predictors."
   ]
  },
  {
   "cell_type": "markdown",
   "id": "af77be5a-3fe4-4929-9d3a-d50063d54b30",
   "metadata": {},
   "source": [
    "## Q3. How do you interpret the coefficients of a Lasso Regression model?\n",
    "\n",
    "Ans: Interpreting coefficients in Lasso Regression:\n",
    "\n",
    "- Non-zero coefficients indicate a predictor's importance and the direction of its influence on the target variable.\n",
    "- Zero coefficients indicate that the corresponding predictor has been excluded from the model."
   ]
  },
  {
   "cell_type": "markdown",
   "id": "6606124f-b7b5-4093-8f21-9913a56d1e29",
   "metadata": {},
   "source": [
    "## Q4. What are the tuning parameters that can be adjusted in Lasso Regression, and how do they affect the model's performance?\n",
    "\n",
    "Ans: Tuning parameters in Lasso Regression:\n",
    "\n",
    "- The main tuning parameter is \"lambda\" (also denoted as \"alpha\"), which controls the strength of the regularization.\n",
    "- Larger lambda values increase the penalty, leading to more regularization and a sparser model.\n",
    "- Smaller lambda values reduce the penalty, allowing more predictors to have non-zero coefficients."
   ]
  },
  {
   "cell_type": "markdown",
   "id": "b4420d36-e6f5-430c-8ea0-425c02f4e591",
   "metadata": {},
   "source": [
    "## Q5. Can Lasso Regression be used for non-linear regression problems? If yes, how?\n",
    "\n",
    "Ans: Lasso Regression for non-linear problems:\n",
    "\n",
    "- Lasso Regression itself is a linear regression technique, so it cannot directly handle non-linear regression problems.\n",
    "- For non-linear problems, one can use polynomial features or other non-linear transformations of the data and then apply Lasso Regression."
   ]
  },
  {
   "cell_type": "markdown",
   "id": "7c3d66a7-e01d-4ae2-95d8-5358fdf5e038",
   "metadata": {},
   "source": [
    "## Q6. What is the difference between Ridge Regression and Lasso Regression?\n",
    "\n",
    "Ans: Difference between Ridge Regression and Lasso Regression:\n",
    "\n",
    "- Both Ridge and Lasso add regularization terms to the cost function, but Ridge uses L2 regularization (squares of coefficients), while Lasso uses L1 regularization (absolute values of coefficients).\n",
    "- Ridge can shrink coefficients towards zero, but it rarely sets them exactly to zero, while Lasso can force some coefficients to be exactly zero, performing feature selection."
   ]
  },
  {
   "cell_type": "markdown",
   "id": "a1daac2d-2cf6-4bb1-9d0c-ed738cf58c15",
   "metadata": {},
   "source": [
    "## Q7. Can Lasso Regression handle multicollinearity in the input features? If yes, how?\n",
    "\n",
    "Ans: Handling multicollinearity in Lasso Regression:\n",
    "\n",
    "- Lasso Regression can handle multicollinearity by reducing the impact of highly correlated predictors.\n",
    "- It tends to select one of the correlated predictors and shrink the others to zero, effectively performing feature selection."
   ]
  },
  {
   "cell_type": "markdown",
   "id": "ff96d8c5-5453-4a0b-8705-870328c5e107",
   "metadata": {},
   "source": [
    "## Q8. How do you choose the optimal value of the regularization parameter (lambda) in Lasso Regression?\n",
    "\n",
    "Ans: Choosing the optimal lambda in Lasso Regression:\n",
    "\n",
    "- Cross-validation is commonly used to select the best lambda value that minimizes prediction error on a validation dataset.\n",
    "- The lambda value corresponding to the minimum cross-validation error is chosen as the optimal regularization parameter for the final model."
   ]
  },
  {
   "cell_type": "code",
   "execution_count": null,
   "id": "5da3d799-bea0-439c-9382-08fce04e0add",
   "metadata": {},
   "outputs": [],
   "source": []
  }
 ],
 "metadata": {
  "kernelspec": {
   "display_name": "Python 3 (ipykernel)",
   "language": "python",
   "name": "python3"
  },
  "language_info": {
   "codemirror_mode": {
    "name": "ipython",
    "version": 3
   },
   "file_extension": ".py",
   "mimetype": "text/x-python",
   "name": "python",
   "nbconvert_exporter": "python",
   "pygments_lexer": "ipython3",
   "version": "3.10.8"
  }
 },
 "nbformat": 4,
 "nbformat_minor": 5
}
