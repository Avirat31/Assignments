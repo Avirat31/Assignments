{
 "cells": [
  {
   "cell_type": "markdown",
   "id": "ba3ecf67-4475-4102-893e-dc2beb2c5a63",
   "metadata": {},
   "source": [
    "## Assignment"
   ]
  },
  {
   "cell_type": "markdown",
   "id": "1bce2f2a-9a0d-4590-a72f-c7de7721fc2d",
   "metadata": {},
   "source": [
    "## Q1. Explain the assumptions required to use ANOVA and provide examples of violations that could impact the validity of the results.\n",
    "\n",
    "Ans:  Assumptions for using ANOVA and violations that impact validity:\n",
    "\n",
    "Assumptions of ANOVA:\n",
    "\n",
    "1. Independence: The observations within each group are independent of each other.\n",
    "\n",
    "2. Normality: The dependent variable follows a normal distribution within each group.\n",
    "\n",
    "3. Homogeneity of variances: The variance of the dependent variable is equal across all groups.\n",
    "\n",
    "Violations and their impact on validity:\n",
    "\n",
    "1. Violation of independence: If the observations are not independent, such as in a repeated measures design where measurements are taken from the same subjects over time, it can lead to biased results and inflated Type I error rates.\n",
    "\n",
    "2. Violation of normality: If the dependent variable is not normally distributed within each group, it can affect the accuracy of the p-values and confidence intervals. Non-normality can lead to Type I or Type II errors, depending on the sample size and the extent of the deviation from normality.\n",
    "\n",
    "3. Violation of homogeneity of variances: When the assumption of equal variances is violated, it can impact the F-statistic and lead to incorrect conclusions. If the variances are unequal, the power of the analysis may also be compromised, and the Type I error rate may be inflated if adjustments are not made."
   ]
  },
  {
   "cell_type": "markdown",
   "id": "303b3e56-8bd1-448f-aee4-ff68e0e1246c",
   "metadata": {},
   "source": [
    "## Q2. What are the three types of ANOVA, and in what situations would each be used?\n",
    "\n",
    "Ans: Types of ANOVA and their usage:\n",
    "\n",
    "1. One-way ANOVA: It is used when comparing the means of three or more independent groups on a single dependent variable. For example, comparing the average scores of students from different schools.\n",
    "\n",
    "2. Two-way ANOVA: It is used to examine the main effects and interaction effects of two independent variables on a dependent variable. It is suitable when there are two factors influencing the outcome, such as comparing the effects of two different treatments across different age groups.\n",
    "\n",
    "3. Repeated measures ANOVA: It is used when measuring the same variable multiple times on the same subjects. It analyzes within-subject factors, such as comparing the effectiveness of a treatment before and after administration."
   ]
  },
  {
   "cell_type": "markdown",
   "id": "54c511eb-bb45-489e-bb0f-b84eb6e1d66d",
   "metadata": {},
   "source": [
    "## Q3. What is the partitioning of variance in ANOVA, and why is it important to understand this concept?\n",
    "\n",
    "Ans:  Partitioning of variance in ANOVA and its importance:\n",
    "Partitioning of variance involves dividing the total variability in the data into different sources: the variability between groups and the variability within groups. This partitioning allows us to assess the contribution of each source to the overall variability. By comparing these sources, we can determine if the differences between groups are statistically significant.\n",
    "\n",
    "Understanding the partitioning of variance is important because it provides insight into the factors that influence the dependent variable. It helps us identify whether the variation is primarily due to differences between groups or random variation within groups. This understanding is crucial for drawing valid conclusions and interpreting the results of an ANOVA analysis accurately."
   ]
  },
  {
   "cell_type": "markdown",
   "id": "e3f03a9a-c6d5-4563-bf21-8d91bbba1972",
   "metadata": {},
   "source": [
    "## Q4. How would you calculate the total sum of squares (SST), explained sum of squares (SSE), and residual sum of squares (SSR) in a one-way ANOVA using Python?"
   ]
  },
  {
   "cell_type": "code",
   "execution_count": null,
   "id": "25ff2d6a-59a0-4328-a589-93848f328ecf",
   "metadata": {},
   "outputs": [],
   "source": [
    "import statsmodels.api as sm\n",
    "from statsmodels.formula.api import ols\n",
    "\n",
    "# Assuming your data is stored in a dataframe called 'data' with columns 'group' and 'value'\n",
    "model = ols('value ~ group', data=data).fit()\n",
    "anova_table = sm.stats.anova_lm(model)\n",
    "\n",
    "SST = anova_table['sum_sq']['group'] + anova_table['sum_sq']['Residual']\n",
    "SSE = anova_table['sum_sq']['group']\n",
    "SSR = anova_table['sum_sq']['Residual']\n"
   ]
  },
  {
   "cell_type": "markdown",
   "id": "e32b2e39-5b4f-47d9-bea2-85e6d9cee7d4",
   "metadata": {},
   "source": [
    "## Q5. In a two-way ANOVA, how would you calculate the main effects and interaction effects using Python?"
   ]
  },
  {
   "cell_type": "code",
   "execution_count": null,
   "id": "13dba643-da40-4b79-9df3-5367be0738ba",
   "metadata": {},
   "outputs": [],
   "source": [
    "import statsmodels.api as sm\n",
    "from statsmodels.formula.api import ols\n",
    "\n",
    "# Assuming your data is stored in a dataframe called 'data' with columns 'factor1', 'factor2', and 'value'\n",
    "model = ols('value ~ factor1 + factor2 + factor1:factor2', data=data).fit()\n",
    "anova_table = sm.stats.anova_lm(model)\n",
    "\n",
    "main_effect_factor1 = anova_table['sum_sq']['factor1']\n",
    "main_effect_factor2 = anova_table['sum_sq']['factor2']\n",
    "interaction_effect = anova_table['sum_sq']['factor1:factor2']"
   ]
  },
  {
   "cell_type": "markdown",
   "id": "6d4ed427-b468-4ac5-883f-7f297417fc7e",
   "metadata": {},
   "source": [
    "## Q6. Suppose you conducted a one-way ANOVA and obtained an F-statistic of 5.23 and a p-value of 0.02. What can you conclude about the differences between the groups, and how would you interpret these results?\n",
    "\n",
    "Ans:  Interpretation of one-way ANOVA results:\n",
    "\n",
    "Given an F-statistic of 5.23 and a p-value of 0.02 in a one-way ANOVA, you can conclude that there are statistically significant differences between the groups. The F-statistic indicates the ratio of the variation between groups to the variation within groups. In this case, the obtained F-value is larger than what would be expected by chance alone.\n",
    "\n",
    "The p-value represents the probability of obtaining the observed F-statistic (or a more extreme value) if the null hypothesis of no group differences were true. With a p-value of 0.02, you can reject the null hypothesis at the conventional significance level (e.g., α = 0.05) and conclude that there are significant differences between the groups."
   ]
  },
  {
   "cell_type": "markdown",
   "id": "adeeeff0-b79d-469c-8408-e9c42f489fb5",
   "metadata": {},
   "source": [
    "## Q7. In a repeated measures ANOVA, how would you handle missing data, and what are the potential consequences of using different methods to handle missing data?\n",
    "\n",
    "Ans: Handling missing data in repeated measures ANOVA and potential consequences:\n",
    "\n",
    "When dealing with missing data in a repeated measures ANOVA, different methods can be employed:\n",
    "\n",
    "1. Pairwise deletion: Only complete cases are used for each pairwise comparison, and incomplete cases are excluded. This method reduces the sample size for each comparison and may lead to biased results if the missing data are not missing completely at random. \n",
    "\n",
    "2. Imputation: Missing values can be replaced with estimated values using imputation techniques, such as mean imputation or regression imputation. However, the accuracy of imputed values can impact the validity of the results, especially if the imputation model is misspecified\n",
    "\n",
    "3. Maximum likelihood estimation: This method estimates missing values based on the likelihood of the observed data. It takes into account the covariance structure and can provide unbiased estimates if the data are missing at random.\n",
    "\n",
    "The consequences of using different methods to handle missing data include potential bias in the estimated parameters, reduced statistical power, and invalid inferences. The choice of the appropriate method should consider the missing data mechanism and assumptions associated with each method."
   ]
  },
  {
   "cell_type": "markdown",
   "id": "1bf8dcca-bea8-4980-a2cd-21d979d8c6ca",
   "metadata": {},
   "source": [
    "## Q8. What are some common post-hoc tests used after ANOVA, and when would you use each one? Provide an example of a situation where a post-hoc test might be necessary.\n",
    "\n",
    "Ans: Common post-hoc tests used after ANOVA and their usage:\n",
    "Post-hoc tests are performed after ANOVA to compare group means and identify which specific groups differ significantly. Some commonly used post-hoc tests include:\n",
    "\n",
    "1. Tukey's Honestly Significant Difference (HSD): It compares all possible pairs of group means and controls the familywise error rate. It is suitable when the number of pairwise comparisons is relatively small.\n",
    "\n",
    "2. Bonferroni correction: It adjusts the significance level for each pairwise comparison to maintain the overall familywise error rate. It is more conservative but suitable when there are many pairwise comparisons.\n",
    "\n",
    "3. Scheffé's method: It allows for all possible linear combinations of group means to be compared. It is more robust but less powerful than other post-hoc tests.\n",
    "\n",
    "The choice of post-hoc test depends on the specific research question, the number of pairwise comparisons, and the desired balance between Type I and Type II errors."
   ]
  },
  {
   "cell_type": "markdown",
   "id": "0b8094c0-f564-44ec-835c-283649e41c72",
   "metadata": {},
   "source": [
    "## Q9. A researcher wants to compare the mean weight loss of three diets: A, B, and C. They collect data from 50 participants who were randomly assigned to one of the diets. Conduct a one-way ANOVA using Python to determine if there are any significant differences between the mean weight loss of the three diets. Report the F-statistic and p-value, and interpret the results."
   ]
  },
  {
   "cell_type": "code",
   "execution_count": null,
   "id": "0f47957b-7b8f-4db7-901c-8a8b7d06ab0f",
   "metadata": {},
   "outputs": [],
   "source": [
    "import statsmodels.api as sm\n",
    "from statsmodels.formula.api import ols\n",
    "\n",
    "# Assuming your weight loss data is stored in a dataframe called 'data' with columns 'diet' and 'weight_loss'\n",
    "model = ols('weight_loss ~ diet', data=data).fit()\n",
    "anova_table = sm.stats.anova_lm(model)\n",
    "\n",
    "F_statistic = anova_table['F']['diet']\n",
    "p_value = anova_table['PR(>F)']['diet']\n",
    "\n",
    "print(\"F-statistic:\", F_statistic)\n",
    "print(\"p-value:\", p_value)\n"
   ]
  },
  {
   "cell_type": "markdown",
   "id": "528ad1df-8636-450c-afe1-405dd3a2061f",
   "metadata": {},
   "source": [
    "## Q10. A company wants to know if there are any significant differences in the average time it takes to complete a task using three different software programs: Program A, Program B, and Program C. They randomly assign 30 employees to one of the programs and record the time it takes each employee to complete the task. Conduct a two-way ANOVA using Python to determine if there are any main effects or interaction effects between the software programs and employee experience level (novice vs. experienced). Report the F-statistics and p-values, and interpret the results."
   ]
  },
  {
   "cell_type": "code",
   "execution_count": null,
   "id": "76ad43cf-af7f-4e6c-b3db-fd665f5f96db",
   "metadata": {},
   "outputs": [],
   "source": [
    "import statsmodels.api as sm\n",
    "from statsmodels.formula.api import ols\n",
    "\n",
    "# Assuming your data is stored in a dataframe called 'data' with columns 'program', 'experience', and 'completion_time'\n",
    "model = ols('completion_time ~ program + experience + program:experience', data=data).fit()\n",
    "anova_table = sm.stats.anova_lm(model)\n",
    "\n",
    "program_main_effect = anova_table['sum_sq']['program']\n",
    "experience_main_effect = anova_table['sum_sq']['experience']\n",
    "interaction_effect = anova_table['sum_sq']['program:experience']\n",
    "\n",
    "print(\"Program main effect:\", program_main_effect)\n",
    "print(\"Experience main effect:\", experience_main_effect)\n",
    "print(\"Interaction effect:\", interaction_effect)\n"
   ]
  },
  {
   "cell_type": "markdown",
   "id": "48d11342-21f1-4d12-ab98-21c4786f3f13",
   "metadata": {},
   "source": [
    "## Q11. An educational researcher is interested in whether a new teaching method improves student test scores. They randomly assign 100 students to either the control group (traditional teaching method) or the experimental group (new teaching method) and administer a test at the end of the semester. Conduct a two-sample t-test using Python to determine if there are any significant differences in test scores between the two groups. If the results are significant, follow up with a post-hoc test to determine which group(s) differ significantly from each other."
   ]
  },
  {
   "cell_type": "code",
   "execution_count": null,
   "id": "4fc7490f-7cd1-46cd-98b9-3822aa84c610",
   "metadata": {},
   "outputs": [],
   "source": [
    "import scipy.stats as stats\n",
    "\n",
    "# Assuming your data is stored in separate arrays called 'control_scores' and 'experimental_scores'\n",
    "t_statistic, p_value = stats.ttest_ind(control_scores, experimental_scores)\n",
    "\n",
    "print(\"t-statistic:\", t_statistic)\n",
    "print(\"p-value:\", p_value)\n",
    "\n",
    "# Perform post-hoc test (e.g., Tukey's HSD) if the t-test is significant\n",
    "if p_value < 0.05:\n",
    "    posthoc = sm.stats.multicomp.pairwise_tukeyhsd(np.concatenate([control_scores, experimental_scores]),\n",
    "                                                   np.concatenate([['Control']*len(control_scores),\n",
    "                                                                   ['Experimental']*len(experimental_scores)]))\n",
    "    print(posthoc.summary())"
   ]
  },
  {
   "cell_type": "markdown",
   "id": "a2604aab-24ac-43d1-a73f-26071045fc24",
   "metadata": {},
   "source": [
    "## Q12. A researcher wants to know if there are any significant differences in the average daily sales of three retail stores: Store A, Store B, and Store C. They randomly select 30 days and record the sales for each storeon those days. Conduct a repeated measures ANOVA using Python to determine if there are any significant differences in sales between the three stores. If the results are significant, follow up with a post-hoc test to determine which store(s) differ significantly from each other."
   ]
  },
  {
   "cell_type": "code",
   "execution_count": null,
   "id": "53553096-41d3-4489-ae09-24a881727fd5",
   "metadata": {},
   "outputs": [],
   "source": [
    "import statsmodels.api as sm\n",
    "from statsmodels.formula.api import ols\n",
    "\n",
    "# Assuming your data is stored in a dataframe called 'data' with columns 'store', 'day', and 'sales'\n",
    "model = ols('sales ~ store', data=data).fit()\n",
    "anova_table = sm.stats.anova_lm(model, typ=2)\n",
    "\n",
    "F_statistic = anova_table['F']['store']\n",
    "p_value = anova_table['PR(>F)']['store']\n",
    "\n",
    "print(\"F-statistic:\", F_statistic)\n",
    "print(\"p-value:\", p_value)\n",
    "\n",
    "# Perform post-hoc test (e.g., Tukey's HSD) if the ANOVA is significant\n",
    "if p_value < 0.05:\n",
    "    posthoc = sm.stats.multicomp.pairwise_tukeyhsd(data['sales'], data['store'])\n",
    "    print(posthoc.summary())\n"
   ]
  },
  {
   "cell_type": "code",
   "execution_count": null,
   "id": "42ac1fe2-d123-4b53-8901-186bccf5ad0f",
   "metadata": {},
   "outputs": [],
   "source": []
  }
 ],
 "metadata": {
  "kernelspec": {
   "display_name": "Python 3 (ipykernel)",
   "language": "python",
   "name": "python3"
  },
  "language_info": {
   "codemirror_mode": {
    "name": "ipython",
    "version": 3
   },
   "file_extension": ".py",
   "mimetype": "text/x-python",
   "name": "python",
   "nbconvert_exporter": "python",
   "pygments_lexer": "ipython3",
   "version": "3.10.8"
  }
 },
 "nbformat": 4,
 "nbformat_minor": 5
}
