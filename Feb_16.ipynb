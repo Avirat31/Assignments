{
 "cells": [
  {
   "cell_type": "markdown",
   "id": "bfcaea4b-a404-4964-a9ff-dcb1d53cf1d4",
   "metadata": {},
   "source": [
    "# Assignment"
   ]
  },
  {
   "cell_type": "markdown",
   "id": "4ef040cb-45e5-4db9-9220-c45df3a440e3",
   "metadata": {},
   "source": [
    "### Q1. What is a database? Differentiate between SQL and NoSQL databases.\n",
    "\n",
    "Ans: A database is an organized collection of data that can be accessed, managed, and updated easily. It is typically designed to efficiently store and retrieve large amounts of data in a structured manner. Databases are used in a wide range of applications, including websites, mobile apps, enterprise software, and more.\n",
    "\n",
    "There are two broad categories of databases: SQL and NoSQL. SQL databases are relational databases that store data in tables with rows and columns, which are connected by keys that establish relationships between the data. SQL databases use a standardized language called SQL (Structured Query Language) to interact with the data.\n",
    "\n",
    "NoSQL databases, on the other hand, are non-relational databases that store data in a variety of different formats, such as key-value pairs, documents, or graphs. NoSQL databases are designed to be highly scalable and flexible, making them well-suited for applications that require large volumes of unstructured or semi-structured data.\n",
    "\n",
    "Some key differences between SQL and NoSQL databases include:\n",
    "\n",
    "1. Data structure: SQL databases use a tabular structure with rows and columns, while NoSQL databases use various data models such as document, key-value, graph, and others.\n",
    "\n",
    "2. Scalability: NoSQL databases are highly scalable and can easily handle large amounts of data and high traffic loads, while scaling SQL databases can be more complex.\n",
    "\n",
    "3. Flexibility: NoSQL databases are highly flexible and can adapt to changing data structures and types, while SQL databases have more rigid structures.\n",
    "\n",
    "4. Query language: SQL databases use SQL as a standardized language for querying and managing data, while NoSQL databases use a variety of query languages and APIs.\n",
    "\n",
    "5. ACID compliance: SQL databases are typically ACID-compliant, meaning they provide transactional consistency and data integrity, while NoSQL databases may prioritize availability and partition tolerance over strict consistency."
   ]
  },
  {
   "cell_type": "markdown",
   "id": "ad2c2cbf-12fe-47e9-af72-a6db1972ca17",
   "metadata": {},
   "source": [
    "### Q2. What is DDL? Explain why CREATE, DROP, ALTER, and TRUNCATE are used with an example.\n",
    "\n",
    "Ans: DDL stands for Data Definition Language, which is a subset of SQL (Structured Query Language) that is used to define and modify the structure of a database. DDL statements are used to create, modify, and delete database objects, such as tables, views, indexes, and other schema-level objects.\n",
    "\n",
    "1. CREATE: The CREATE statement is used to create new database objects, such as tables, views, indexes, and constraints. For example, to create a new table named \"employees\" with columns for employee ID, name, and salary, \n",
    "\n",
    "CREATE TABLE employees (\n",
    "\n",
    "   employee_id INT,\n",
    "   \n",
    "   name VARCHAR(50),\n",
    "   \n",
    "   salary DECIMAL(10,2)\n",
    ");\n",
    "\n",
    "\n",
    "2. DROP: The DROP statement is used to delete existing database objects. For example, to delete the \"employees\" table,\n",
    "\n",
    "DROP TABLE employees;\n",
    "\n",
    "\n",
    "3. ALTER: The ALTER statement is used to modify the structure of an existing database object, such as adding, modifying, or deleting columns in a table. For example, to add a new column for employee age to the \"employees\" table\n",
    "\n",
    "ALTER TABLE employees ADD age INT;\n",
    "\n",
    "\n",
    "4. TRUNCATE: The TRUNCATE statement is used to remove all data from a table, while keeping the table structure intact. For example, to remove all data from the \"employees\" table, \n",
    "\n",
    "TRUNCATE TABLE employees;\n"
   ]
  },
  {
   "cell_type": "markdown",
   "id": "3fdb2980-e78b-4b85-92f5-359f0de11922",
   "metadata": {},
   "source": [
    "### Q3. What is DML? Explain INSERT, UPDATE, and DELETE with an example.\n",
    "\n",
    "Ans:DML stands for Data Manipulation Language, which is a subset of SQL (Structured Query Language) used to manipulate data in a database. DML statements are used to insert, update, and delete data from tables in the database.\n",
    "\n",
    "1. INSERT: The INSERT statement is used to add new rows of data to a table. For example, to add a new employee record to the \"employees\" table created earlier with the DDL statement, the following INSERT statement could be used:"
   ]
  },
  {
   "cell_type": "code",
   "execution_count": null,
   "id": "88ba95c5-b615-4eac-a416-5caff819f679",
   "metadata": {},
   "outputs": [],
   "source": [
    "INSERT INTO employees (employee_id, name, salary, age)\n",
    "VALUES (1, 'John Smith', 50000.00, 30);\n",
    "# This statement would add a new employee record to the \"employees\" table with the employee ID of 1,\n",
    "# the name of John Smith, a salary of $50,000, and an age of 30."
   ]
  },
  {
   "cell_type": "markdown",
   "id": "8cc90e59-71e0-46f4-ab67-8f75d655ccb7",
   "metadata": {},
   "source": [
    "2. UPDATE: The UPDATE statement is used to modify existing data in a table. For example, to update the salary of an employee with the employee ID of 1 to $55,000,"
   ]
  },
  {
   "cell_type": "code",
   "execution_count": null,
   "id": "9ad88fec-09e3-4664-bb68-84abf2a9d4a6",
   "metadata": {},
   "outputs": [],
   "source": [
    "UPDATE employees\n",
    "SET salary = 55000.00\n",
    "WHERE employee_id = 1;\n",
    "# This statement would update the salary of the employee with the employee ID of 1 to $55,000 in the\n",
    "# \"employees\" table."
   ]
  },
  {
   "cell_type": "markdown",
   "id": "59c1d7d7-6243-48c4-8ce0-169f1cba5788",
   "metadata": {},
   "source": [
    "3. DELETE: The DELETE statement is used to remove rows of data from a table. For example, to delete the employee record with the employee ID of 1 from the \"employees\" table, "
   ]
  },
  {
   "cell_type": "code",
   "execution_count": null,
   "id": "549064a1-c158-44cc-bd18-9e1219b1aa15",
   "metadata": {},
   "outputs": [],
   "source": [
    "DELETE FROM employees\n",
    "WHERE employee_id = 1;\n",
    "# This statement would remove the employee record with the employee ID of 1 from the \"employees\" table."
   ]
  },
  {
   "cell_type": "markdown",
   "id": "c5b9f508-a644-4f47-a309-c453b0aedbec",
   "metadata": {},
   "source": [
    "### Q4. What is DQL? Explain SELECT with an example.\n",
    "\n",
    "Ans: DQL stands for Data Query Language, which is a subset of SQL (Structured Query Language) used to retrieve data from a database. The SELECT statement is the most commonly used DQL statement, used to retrieve data from one or more tables in a database.\n",
    "\n",
    "SELECT statement retrieves records from a database table according to clauses (for example, FROM and WHERE) that specify criteria. The syntax is:\n",
    "  SELECT * FROM Customers WHERE Last_Name='Smith';"
   ]
  },
  {
   "cell_type": "markdown",
   "id": "40bb1bbe-2a31-4053-9500-02e839248909",
   "metadata": {},
   "source": [
    "### Q5. Explain Primary Key and Foreign Key.\n",
    "\n",
    "Ans: A primary key and a foreign key are both types of constraints that can be used to ensure data integrity in a relational database.\n",
    "\n",
    "A primary key is a column or set of columns that uniquely identifies each row in a table. It is used to enforce the entity integrity constraint, which ensures that each row in the table is unique and can be identified by a unique value. A primary key can be composed of one or more columns in a table and can be either a single column or a combination of columns. The values in the primary key column(s) must be unique, and cannot be null. A primary key can be used as a reference in another table using a foreign key constraint.\n",
    "\n",
    "A foreign key is a column or set of columns in a table that refers to the primary key of another table. It is used to enforce the referential integrity constraint, which ensures that the data in a table is consistent and accurate. The foreign key constraint creates a relationship between two tables, and ensures that the values in the foreign key column(s) in one table correspond to the values in the primary key column(s) in another table. This constraint can prevent the insertion of invalid data, by preventing the insertion of data into the foreign key column(s) that does not exist in the primary key column(s) of the referenced table"
   ]
  },
  {
   "cell_type": "markdown",
   "id": "f8297a46-95ac-40d4-9d64-e4d62d72a9c9",
   "metadata": {},
   "source": [
    "### Q6. Write a python code to connect MySQL to python. Explain the cursor() and execute() method."
   ]
  },
  {
   "cell_type": "code",
   "execution_count": null,
   "id": "08bce439-38f4-4fdf-970e-10df5b1c34f2",
   "metadata": {},
   "outputs": [],
   "source": [
    "import mysql.connector\n",
    "\n",
    "mydb = mysql.connector.connect(\n",
    "  host=\"localhost\",\n",
    "  user=\"yourusername\",\n",
    "  password=\"yourpassword\",\n",
    "  database=\"yourdatabase\"\n",
    ")\n",
    "\n",
    "mycursor = mydb.cursor()\n",
    "\n",
    "mycursor.execute(\"SELECT * FROM yourtable\")\n",
    "\n",
    "myresult = mycursor.fetchall()\n",
    "\n",
    "for x in myresult:\n",
    "  print(x)\n"
   ]
  },
  {
   "cell_type": "markdown",
   "id": "efa44c85-1aec-4353-a491-ee894f2263a6",
   "metadata": {},
   "source": [
    "### Q7. Give the order of execution of SQL clauses in an SQL query.\n",
    "\n",
    "Ans: In an SQL query, the clauses are executed in the following order:\n",
    "\n",
    "1. FROM - This clause specifies the tables from which the data is selected.\n",
    "\n",
    "2. WHERE - This clause specifies the conditions that must be met in order for the rows to be returned.\n",
    "\n",
    "3. GROUP BY - This clause is used to group the rows based on one or more columns.\n",
    "\n",
    "4. HAVING - This clause is used to filter the grouped rows based on certain conditions.\n",
    "\n",
    "5. SELECT - This clause specifies the columns to be included in the result set.\n",
    "\n",
    "6. DISTINCT - This clause is used to remove duplicates from the result set.\n",
    "\n",
    "7. ORDER BY - This clause is used to sort the result set based on one or more columns.\n",
    "\n",
    "8. LIMIT - This clause is used to limit the number of rows returned."
   ]
  },
  {
   "cell_type": "code",
   "execution_count": null,
   "id": "30b4788a-2300-4fc5-8836-e5f4929794df",
   "metadata": {},
   "outputs": [],
   "source": []
  }
 ],
 "metadata": {
  "kernelspec": {
   "display_name": "Python 3 (ipykernel)",
   "language": "python",
   "name": "python3"
  },
  "language_info": {
   "codemirror_mode": {
    "name": "ipython",
    "version": 3
   },
   "file_extension": ".py",
   "mimetype": "text/x-python",
   "name": "python",
   "nbconvert_exporter": "python",
   "pygments_lexer": "ipython3",
   "version": "3.10.8"
  }
 },
 "nbformat": 4,
 "nbformat_minor": 5
}
