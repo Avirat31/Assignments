{
 "cells": [
  {
   "cell_type": "markdown",
   "id": "9238e1ac-76e9-4988-9870-8fce82739044",
   "metadata": {},
   "source": [
    "# Assignment"
   ]
  },
  {
   "cell_type": "markdown",
   "id": "3f50b9df-51e9-47b2-a09b-63b5af4013bb",
   "metadata": {},
   "source": [
    "### Q1. Explain Class and Object with respect to Object-Oriented Programming. Give a suitable example.\n",
    "\n",
    "Ans: Object-oriented programming (OOP) is a programming language model in which programs are organized around objects rather than \"actions\" and data rather than logic. A class is a blueprint or template from which objects are created. An object is an instance of a class.\n",
    "An example of class and object in OOP would be a car class. The car class would contain properties such as number of doors, color, engine type, and other features. An object of the car class would be a specific car, such as a red four-door sedan with a V6 engine."
   ]
  },
  {
   "cell_type": "markdown",
   "id": "8cfa5475-c264-4b5d-aa01-029dbffe3c34",
   "metadata": {},
   "source": [
    "### Q2. Name the four pillars of OOPs.\n",
    "\n",
    "Ans: The four pillars of OOPs are: encapsulation, abstraction, inheritance, and polymorphism."
   ]
  },
  {
   "cell_type": "markdown",
   "id": "0c20f611-67e8-4859-a004-60f8a924ab01",
   "metadata": {},
   "source": [
    "### Q3. Explain why the __init__() function is used. Give a suitable example.\n",
    "\n",
    "Ans: The __init__() function is used to initialize objects in Python classes. This function is called when an object of a class is created. The __init__() function is used to set default attributes for the class, so that all objects of the class have the same set of attributes. \n",
    "\n",
    "For example, a class Animal could have the __init__() function set the attributes of ‘name’, ‘age’, and ‘weight’ for each Animal object, so that all Animal objects have the same set of attributes."
   ]
  },
  {
   "cell_type": "code",
   "execution_count": 1,
   "id": "2e6359c1-3d6d-4f3f-bb7d-778f46126b2d",
   "metadata": {},
   "outputs": [],
   "source": [
    "class Animal():\n",
    "    def __init__(self, name, age, weight):\n",
    "        self.name = name\n",
    "        self.age = age\n",
    "        self.weight = weight"
   ]
  },
  {
   "cell_type": "markdown",
   "id": "d886c8fd-2d69-46eb-aace-2d0548a31279",
   "metadata": {},
   "source": [
    "### Q4. Why self is used in OOPs?\n",
    "\n",
    "Ans: In object-oriented programming, the self keyword is used as a reference to the current instance of the class. It is used to access variables that belongs to the class, allowing for better organization of the class’s methods and variables.\n",
    "\n",
    "For example, if you want to access a variable from within an instance of a class, you can use the self keyword to access that variable. This makes it easier to refer to the object's variables without having to specify the object each time."
   ]
  },
  {
   "cell_type": "code",
   "execution_count": 2,
   "id": "c556021f-5726-4bf4-804a-652bdd4578f4",
   "metadata": {},
   "outputs": [
    {
     "name": "stdout",
     "output_type": "stream",
     "text": [
      "Name: Avirat\n",
      "Age: 20\n"
     ]
    }
   ],
   "source": [
    "class Person: \n",
    "    def __init__(self, name, age): \n",
    "        self.name = name \n",
    "        self.age = age \n",
    "\n",
    "    def show_name_age(self): \n",
    "        print(\"Name:\", self.name) \n",
    "        print(\"Age:\", self.age) \n",
    "\n",
    "p1 = Person(\"Avirat\", 20) \n",
    "p1.show_name_age()"
   ]
  },
  {
   "cell_type": "markdown",
   "id": "28d73656-fd21-480d-80d4-431bd18e8d3b",
   "metadata": {},
   "source": [
    "### Q5. What is inheritance? Give an example for each type of inheritance.\n",
    "\n",
    "Ans: Inheritance is a concept in object-oriented programming that allows one class to use the properties and methods of another class. It is used to share the common characteristics of related classes and to reduce the amount of code that needs to be written.\n",
    "There are three types of inheritance: single inheritance, multiple inheritance, and hierarchical inheritance.\n",
    "\n",
    "Single Inheritance: A single class is derived from a single base class. For example, a Student class can have a single parent class of Person.\n",
    "\n",
    "Multiple Inheritance: A single class is derived from multiple base classes. For example, a UniversityStudent class can have multiple parent classes of Person, Student, and University.\n",
    "\n",
    "Hierarchical Inheritance: Multiple classes are derived from a single base class. For example, a Teacher class and a Student class can both be derived from a Person class."
   ]
  },
  {
   "cell_type": "code",
   "execution_count": null,
   "id": "d58c3abf-d5f0-4b90-946d-d0d8fe25dcfd",
   "metadata": {},
   "outputs": [],
   "source": []
  }
 ],
 "metadata": {
  "kernelspec": {
   "display_name": "Python 3 (ipykernel)",
   "language": "python",
   "name": "python3"
  },
  "language_info": {
   "codemirror_mode": {
    "name": "ipython",
    "version": 3
   },
   "file_extension": ".py",
   "mimetype": "text/x-python",
   "name": "python",
   "nbconvert_exporter": "python",
   "pygments_lexer": "ipython3",
   "version": "3.10.8"
  }
 },
 "nbformat": 4,
 "nbformat_minor": 5
}
