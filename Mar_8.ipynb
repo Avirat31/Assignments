{
 "cells": [
  {
   "cell_type": "markdown",
   "id": "cd910301-6c9d-41cb-9b0c-88839da193b2",
   "metadata": {},
   "source": [
    "# Assignment "
   ]
  },
  {
   "cell_type": "markdown",
   "id": "18bae1f0-a11d-4df7-b97c-1446132839b3",
   "metadata": {},
   "source": [
    "## Q1. What is the Probability density function?\n",
    "\n",
    "Ans. The Probability Density Function (PDF) is a function that describes the likelihood of a random variable taking on a specific value within a continuous probability distribution. In other words, it defines the probability of a random variable falling within a particular range of values. For continuous distributions, the PDF represents the area under the curve of the probability distribution function."
   ]
  },
  {
   "cell_type": "markdown",
   "id": "e496e49a-a655-4e87-8501-e3dea8c64249",
   "metadata": {},
   "source": [
    "## Q2. What are the types of Probability distribution?\n",
    "\n",
    "Ans There are several types of probability distributions, including:\n",
    "Normal distribution\n",
    "\n",
    "Binomial distribution\n",
    "\n",
    "Poisson distribution\n",
    "\n",
    "Exponential distribution\n",
    "\n",
    "Uniform distribution\n",
    "\n",
    "Log-normal distribution"
   ]
  },
  {
   "cell_type": "markdown",
   "id": "c56d3d1d-c4b3-4248-8859-6cf894636b30",
   "metadata": {},
   "source": [
    "## Q3. Write a Python function to calculate the probability density function of a normal distribution with given mean and standard deviation at a given point."
   ]
  },
  {
   "cell_type": "code",
   "execution_count": 1,
   "id": "1c3b73aa-84a2-40cb-8f44-26b5877970e6",
   "metadata": {},
   "outputs": [],
   "source": [
    "import math\n",
    "\n",
    "def normal_pdf(x, mean, std_dev):\n",
    "    coefficient = 1 / (std_dev * math.sqrt(2 * math.pi))\n",
    "    exponent = -(math.pow(x - mean, 2) / (2 * math.pow(std_dev, 2)))\n",
    "    return coefficient * math.exp(exponent)\n"
   ]
  },
  {
   "cell_type": "markdown",
   "id": "9a6b97a5-b002-4073-b486-a5446d6d2ba9",
   "metadata": {},
   "source": [
    "## Q4. What are the properties of Binomial distribution? Give two examples of events where binomial distribution can be applied.\n",
    "\n",
    "Ans:  The properties of a Binomial distribution are as follows:\n",
    "\n",
    "It models a discrete random variable that represents the number of successes in a fixed number of independent Bernoulli trials.\n",
    "\n",
    "Each trial has only two possible outcomes: success or failure.\n",
    "\n",
    "The trials are independent and have the same probability of success.\n",
    "\n",
    "The random variable follows a binomial distribution with parameters n (the number of trials) and p (the probability of success in each trial).\n",
    "\n",
    "The mean of a binomial distribution is given by μ = np, and the variance is given by σ^2 = np(1 - p).\n",
    "\n",
    "Example: Flipping a fair coin multiple times and counting the number of heads. Each flip can be considered a Bernoulli trial with a success being a heads and a failure being a tails.\n",
    "\n",
    "Testing a batch of electronic components for defects. Each component is tested independently, and the outcome of each test is either defective (success) or non-defective (failure)."
   ]
  },
  {
   "cell_type": "markdown",
   "id": "c647aba8-d6e0-467c-a52b-5612cb64e913",
   "metadata": {},
   "source": [
    "## Q5. Generate a random sample of size 1000 from a binomial distribution with probability of success 0.4 and plot a histogram of the results using matplotlib."
   ]
  },
  {
   "cell_type": "code",
   "execution_count": 2,
   "id": "e407343b-223a-4a55-bc30-45dc38c931bb",
   "metadata": {},
   "outputs": [
    {
     "data": {
      "image/png": "[encoded data removed]",
      "text/plain": [
       "<Figure size 640x480 with 1 Axes>"
      ]
     },
     "metadata": {},
     "output_type": "display_data"
    }
   ],
   "source": [
    "import numpy as np\n",
    "import matplotlib.pyplot as plt\n",
    "\n",
    "sample_size = 1000\n",
    "probability_success = 0.4\n",
    "\n",
    "# Generate random sample from binomial distribution\n",
    "sample = np.random.binomial(1, probability_success, sample_size)\n",
    "\n",
    "# Plot histogram\n",
    "plt.hist(sample, bins=2, edgecolor='black')\n",
    "plt.xlabel('Success')\n",
    "plt.ylabel('Frequency')\n",
    "plt.title('Binomial Distribution Sample')\n",
    "plt.show()\n"
   ]
  },
  {
   "cell_type": "markdown",
   "id": "8ab78601-7e37-4d62-92d7-fc8bcc9fe905",
   "metadata": {},
   "source": [
    "## Q6. Write a Python function to calculate the cumulative distribution function of a Poisson distribution with given mean at a given point."
   ]
  },
  {
   "cell_type": "code",
   "execution_count": 4,
   "id": "cdeae09d-1876-4fd9-8faa-b79769bce5cc",
   "metadata": {},
   "outputs": [],
   "source": [
    "import math\n",
    "\n",
    "def poisson_cdf(k, mean):\n",
    "    cdf = 0.0\n",
    "    for i in range(k + 1):\n",
    "        cdf += math.exp(-mean) * math.pow(mean, i) / math.factorial(i)\n",
    "    return cdf\n"
   ]
  },
  {
   "cell_type": "markdown",
   "id": "a53941c8-62d4-4933-8561-ecc8a07370e0",
   "metadata": {},
   "source": [
    "## Q7. How Binomial distribution different from Poisson distribution?\n",
    "\n",
    "Ans: The main differences between the Binomial distribution and the Poisson distribution are as follows:\n",
    "\n",
    "The Binomial distribution models the number of successes in a fixed number of independent Bernoulli trials, where each trial has two possible outcomes (success or failure) and the trials are independent. The Poisson distribution models the number of events occurring in a fixed interval of time or space, where the events occur randomly and independently of each other.\n",
    "\n",
    "The Binomial distribution has two parameters: the number of trials (n) and the probability of success in each trial (p). The Poisson distribution has only one parameter: the average rate of events occurring per unit of time or space (λ).\n",
    "\n",
    "The Binomial distribution is discrete, meaning it deals with a discrete random variable that takes on integer values. The Poisson distribution is also discrete, representing the number of events, but it can take on any non-negative integer value.\n",
    "\n",
    "The Poisson distribution is often used as an approximation to the Binomial distribution when the number of trials is large and the probability of success is small, resulting in a low average rate of events."
   ]
  },
  {
   "cell_type": "markdown",
   "id": "0b7d6ce2-fabb-42a9-a671-5a696fa6c1be",
   "metadata": {},
   "source": [
    "## Q8. Generate a random sample of size 1000 from a Poisson distribution with mean 5 and calculate the sample mean and variance."
   ]
  },
  {
   "cell_type": "code",
   "execution_count": 5,
   "id": "596c7bea-4644-4f81-9f8d-69942259fb28",
   "metadata": {},
   "outputs": [
    {
     "name": "stdout",
     "output_type": "stream",
     "text": [
      "Sample Mean: 4.982\n",
      "Sample Variance: 5.255676000000001\n"
     ]
    }
   ],
   "source": [
    "import numpy as np\n",
    "\n",
    "sample_size = 1000\n",
    "mean = 5\n",
    "\n",
    "# Generate random sample from Poisson distribution\n",
    "sample = np.random.poisson(mean, sample_size)\n",
    "\n",
    "# Calculate sample mean and variance\n",
    "sample_mean = np.mean(sample)\n",
    "sample_variance = np.var(sample)\n",
    "\n",
    "print(\"Sample Mean:\", sample_mean)\n",
    "print(\"Sample Variance:\", sample_variance)\n"
   ]
  },
  {
   "cell_type": "markdown",
   "id": "5cfd6bd1-de96-4f76-8210-62971de31ca8",
   "metadata": {},
   "source": [
    "## Q9. How mean and variance are related in Binomial distribution and Poisson distribution?\n",
    "\n",
    "Ans: In both the Binomial distribution and the Poisson distribution, the mean (μ) and variance (σ^2) are related as follows:\n",
    "\n",
    "For the Binomial distribution, the mean is given by μ = np, where n is the number of trials and p is the probability of success in each trial. The variance is given by σ^2 = np(1 - p). The mean and variance are directly related to each other in the Binomial distribution.\n",
    "\n",
    "For the Poisson distribution, the mean is given by μ = λ, where λ is the average rate of events occurring per unit of time or space. The variance is also given by σ^2 = λ. In the Poisson distribution, the mean and variance are equal to each other.\n"
   ]
  },
  {
   "cell_type": "markdown",
   "id": "f4bd9a10-7cee-461e-b7e9-0bb07f49d816",
   "metadata": {},
   "source": [
    "## Q10. In normal distribution with respect to mean position, where does the least frequent data appear?\n",
    "\n",
    "Ans: In a normal distribution, the least frequent data points appear in the tails of the distribution, which are the regions farther away from the mean. The probability density function (PDF) of a normal distribution is symmetric, with the highest point at the mean and gradually decreasing as we move away from the mean in both directions. Therefore, the data points in the tails of the distribution, whether they are on the left tail (less than the mean) or the right tail (greater than the mean), have lower frequencies compared to the data points closer to the mean."
   ]
  },
  {
   "cell_type": "code",
   "execution_count": null,
   "id": "0b083e15-35dc-40ef-b3d7-545aad6b9604",
   "metadata": {},
   "outputs": [],
   "source": []
  }
 ],
 "metadata": {
  "kernelspec": {
   "display_name": "Python 3 (ipykernel)",
   "language": "python",
   "name": "python3"
  },
  "language_info": {
   "codemirror_mode": {
    "name": "ipython",
    "version": 3
   },
   "file_extension": ".py",
   "mimetype": "text/x-python",
   "name": "python",
   "nbconvert_exporter": "python",
   "pygments_lexer": "ipython3",
   "version": "3.10.8"
  }
 },
 "nbformat": 4,
 "nbformat_minor": 5
}
