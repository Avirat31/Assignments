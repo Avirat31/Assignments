{
 "cells": [
  {
   "cell_type": "markdown",
   "id": "d35daf27-9b0f-45eb-bf95-0efa654b920e",
   "metadata": {},
   "source": [
    "# Assignment"
   ]
  },
  {
   "cell_type": "markdown",
   "id": "c75e9e89-0918-4ca3-880e-30e1f5a8cfab",
   "metadata": {},
   "source": [
    "### Q1. Which keyword is used to create a function? Create a function to return a list of odd numbers in the range of 1 to 25.\n",
    "\n",
    "Ans: def keyword is used to create a function in python."
   ]
  },
  {
   "cell_type": "code",
   "execution_count": 1,
   "id": "be828061-8fc2-4e80-aca6-00a66a99d4c0",
   "metadata": {},
   "outputs": [],
   "source": [
    "def func(n):\n",
    "    oddList = [] \n",
    "    for i in range(1, n+1): \n",
    "        if(i%2 != 0): \n",
    "            oddList.append(i) \n",
    "    return oddList\n"
   ]
  },
  {
   "cell_type": "code",
   "execution_count": 2,
   "id": "7d3312c2-8bf4-4deb-97a7-f44d1778bd89",
   "metadata": {},
   "outputs": [
    {
     "data": {
      "text/plain": [
       "[1, 3, 5, 7, 9, 11, 13, 15, 17, 19, 21, 23, 25]"
      ]
     },
     "execution_count": 2,
     "metadata": {},
     "output_type": "execute_result"
    }
   ],
   "source": [
    "func(25)"
   ]
  },
  {
   "cell_type": "markdown",
   "id": "a782d167-ff50-4dcb-a254-a47752acc9e5",
   "metadata": {},
   "source": [
    "### Q2. Why *args and **kwargs is used in some functions? Create a function each for *args and **kwargs todemonstrate their use.\n",
    "\n",
    "Ans: *args in function is used to pass a variable number of arguments to a function. It is used to pass a non-key worded, variable-length argument list.\n",
    "     ** kwargs in function is used to pass a keyworded, variable-length argument list. We use the name kwargs with the double star. The reason is that the double star allows us to pass through keyword arguments (and any number of them)."
   ]
  },
  {
   "cell_type": "code",
   "execution_count": 3,
   "id": "0bedac23-61b9-4dfc-836b-234940799ae2",
   "metadata": {},
   "outputs": [],
   "source": [
    "# Examplw of *args\n",
    "def myFun(*args):\n",
    "    for i in args:\n",
    "        print(i)\n",
    " "
   ]
  },
  {
   "cell_type": "code",
   "execution_count": 4,
   "id": "67ee9b55-e784-4e94-8193-3aefa64e8fdd",
   "metadata": {},
   "outputs": [
    {
     "name": "stdout",
     "output_type": "stream",
     "text": [
      "I\n",
      "am\n",
      "student of\n",
      "Data Science\n",
      "Masters\n"
     ]
    }
   ],
   "source": [
    "myFun('I','am','student of','Data Science','Masters')"
   ]
  },
  {
   "cell_type": "code",
   "execution_count": 5,
   "id": "f73a47a0-f5e7-4e5a-8ba7-540eeb244129",
   "metadata": {},
   "outputs": [],
   "source": [
    "# Example of **kwargs\n",
    "def myFun1(**kwargs):\n",
    "    for key, value in kwargs.items():\n",
    "        print(\"%s == %s\" % (key, value))\n",
    " "
   ]
  },
  {
   "cell_type": "code",
   "execution_count": 6,
   "id": "0ee89382-d27f-4163-876c-757f60f4780e",
   "metadata": {},
   "outputs": [
    {
     "name": "stdout",
     "output_type": "stream",
     "text": [
      "first == PW\n",
      "mid == Data Science\n",
      "last == Masters\n"
     ]
    }
   ],
   "source": [
    "myFun1(first='PW', mid='Data Science', last='Masters')"
   ]
  },
  {
   "cell_type": "markdown",
   "id": "ed85ccee-61e6-434b-a886-a094b05a6553",
   "metadata": {},
   "source": [
    "### Q3. What is an iterator in python? Name the method used to initialise the iterator object and the method used for iteration. Use these methods to print the first five elements of the given list [2, 4, 6, 8, 10, 12, 14, 16,18, 20].\n",
    "\n",
    "Ans: Iterator in Python is an object that is used to iterate over iterable objects like lists, tuples, dicts, and        sets. \n",
    "     The iter() method is called for the initialization of an iterator. This returns an iterator object and the          next() method is used for iteration."
   ]
  },
  {
   "cell_type": "code",
   "execution_count": 7,
   "id": "e38864d4-3af8-4334-bb7a-e6afeb372098",
   "metadata": {},
   "outputs": [],
   "source": [
    "class Iterator: \n",
    "    def __init__(self, lst): \n",
    "        self.lst = lst \n",
    "        self.index = 0\n",
    "\n",
    "    def __iter__(self): \n",
    "        return self\n",
    "\n",
    "    def __next__(self): \n",
    "        if self.index < len(self.lst): \n",
    "            item = self.lst[self.index] \n",
    "            self.index += 1\n",
    "            return item \n",
    "        else: \n",
    "            raise StopIteration\n"
   ]
  },
  {
   "cell_type": "code",
   "execution_count": 8,
   "id": "5cb01ddb-f30d-405e-859e-b767e3d5acc8",
   "metadata": {},
   "outputs": [
    {
     "name": "stdout",
     "output_type": "stream",
     "text": [
      "2\n",
      "4\n",
      "6\n",
      "8\n",
      "10\n"
     ]
    }
   ],
   "source": [
    "my_list = [2, 4, 6, 8, 10, 12, 14, 16, 18, 20]\n",
    "my_iter = Iterator(my_list) \n",
    "\n",
    "print(next(my_iter)) \n",
    "print(next(my_iter)) \n",
    "print(next(my_iter)) \n",
    "print(next(my_iter)) \n",
    "print(next(my_iter)) "
   ]
  },
  {
   "cell_type": "markdown",
   "id": "c49b1591-7e75-4936-83b7-8cd96728061c",
   "metadata": {},
   "source": [
    "### Q4. What is a generator function in python? Why yield keyword is used? Give an example of a generator function.\n",
    "\n",
    "Ans:  Generator functions provide a powerful alternative: they allow you to define an iterative algorithm by writing a single function whose execution is not continuous.\n",
    "\n",
    "yield keyword is used to create a generator function. A type of function that is memory efficient and can be used like an iterator object."
   ]
  },
  {
   "cell_type": "code",
   "execution_count": 9,
   "id": "948276ee-216d-4661-86ec-b64852904a94",
   "metadata": {},
   "outputs": [
    {
     "name": "stdout",
     "output_type": "stream",
     "text": [
      "<class 'generator'>\n",
      "Avirat Sharma\n",
      "Artificial Intelligence and Data Science Student\n"
     ]
    }
   ],
   "source": [
    "# Example of Generator Function\n",
    "def func2():\n",
    "    yield \"Avirat Sharma\"\n",
    "    yield \"Artificial Intelligence and Data Science Student\"\n",
    " \n",
    " \n",
    "obj = func2()\n",
    " \n",
    "print(type(obj))\n",
    " \n",
    "print(next(obj))\n",
    "print(next(obj))"
   ]
  },
  {
   "cell_type": "markdown",
   "id": "127e61cc-c589-45ae-a4d1-12d1fa33ffc5",
   "metadata": {},
   "source": [
    "### Q5. Create a generator function for prime numbers less than 1000. Use the next() method to print the first 20 prime numbers."
   ]
  },
  {
   "cell_type": "code",
   "execution_count": 10,
   "id": "8524f951-88cc-4935-97be-ac621a0818ad",
   "metadata": {},
   "outputs": [
    {
     "name": "stdout",
     "output_type": "stream",
     "text": [
      "2\n",
      "3\n",
      "5\n",
      "7\n",
      "11\n",
      "13\n",
      "17\n",
      "19\n",
      "23\n",
      "29\n",
      "31\n",
      "37\n",
      "41\n",
      "43\n",
      "47\n",
      "53\n",
      "59\n",
      "61\n",
      "67\n",
      "71\n",
      "73\n"
     ]
    }
   ],
   "source": [
    "def prime_gen(): \n",
    "    for num in range(2, 1000): \n",
    "        for i in range(2, num): \n",
    "            if (num % i == 0): \n",
    "                break \n",
    "        else: \n",
    "            yield num \n",
    "\n",
    "# Create a generator object \n",
    "prime_no = prime_gen() \n",
    "\n",
    "# Print the first 20 prime numbers \n",
    "print(next(prime_no)) \n",
    "print(next(prime_no)) \n",
    "print(next(prime_no)) \n",
    "print(next(prime_no)) \n",
    "print(next(prime_no)) \n",
    "print(next(prime_no)) \n",
    "print(next(prime_no)) \n",
    "print(next(prime_no)) \n",
    "print(next(prime_no)) \n",
    "print(next(prime_no)) \n",
    "print(next(prime_no))\n",
    "print(next(prime_no)) \n",
    "print(next(prime_no)) \n",
    "print(next(prime_no)) \n",
    "print(next(prime_no)) \n",
    "print(next(prime_no)) \n",
    "print(next(prime_no)) \n",
    "print(next(prime_no)) \n",
    "print(next(prime_no)) \n",
    "print(next(prime_no)) \n",
    "print(next(prime_no)) "
   ]
  },
  {
   "cell_type": "code",
   "execution_count": null,
   "id": "86cfc398-ee7e-4fb8-b99b-f6e2e6f54091",
   "metadata": {},
   "outputs": [],
   "source": []
  }
 ],
 "metadata": {
  "kernelspec": {
   "display_name": "Python 3 (ipykernel)",
   "language": "python",
   "name": "python3"
  },
  "language_info": {
   "codemirror_mode": {
    "name": "ipython",
    "version": 3
   },
   "file_extension": ".py",
   "mimetype": "text/x-python",
   "name": "python",
   "nbconvert_exporter": "python",
   "pygments_lexer": "ipython3",
   "version": "3.10.8"
  }
 },
 "nbformat": 4,
 "nbformat_minor": 5
}
