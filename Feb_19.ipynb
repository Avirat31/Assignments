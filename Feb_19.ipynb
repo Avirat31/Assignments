{
 "cells": [
  {
   "cell_type": "markdown",
   "id": "8eed9088-43d8-4805-8951-e0cb903b9cec",
   "metadata": {},
   "source": [
    "# Assignment"
   ]
  },
  {
   "cell_type": "markdown",
   "id": "60f58bc6-2735-493a-88b0-bde6e3c2cb90",
   "metadata": {},
   "source": [
    "### Q1. What is Flask Framework? What are the advantages of Flask Framework?\n",
    "\n",
    "Ans: Flask is a lightweight and flexible web application framework written in Python. It is designed to make web development easy and enjoyable by providing simple and intuitive APIs for handling HTTP requests, managing sessions, and rendering templates.\n",
    "\n",
    "Some advantages of using Flask framework for web development are:\n",
    "\n",
    "1. Lightweight: Flask is a lightweight framework that does not come with any extra dependencies or overhead, making it easy to learn and use.\n",
    "\n",
    "2. Flexibility: Flask provides a flexible architecture that allows developers to choose the tools and libraries they need for their projects.\n",
    "\n",
    "3. Extensibility: Flask is highly extensible and supports a wide range of third-party extensions for adding functionality to your web application.\n",
    "\n",
    "4. Easy to learn: Flask has a simple and intuitive API that makes it easy for developers to learn and use. It also has a large community of developers who provide support and resourse"
   ]
  },
  {
   "cell_type": "markdown",
   "id": "c1d3f159-762d-49ed-bcc7-c0002a6bb23c",
   "metadata": {},
   "source": [
    "### Q2. Create a simple Flask application to display ‘Hello World!!’. Attach the screenshot of the output in Jupyter Notebook."
   ]
  },
  {
   "cell_type": "markdown",
   "id": "5a0749de-8ec4-4553-8ab2-518d9cbf7e21",
   "metadata": {},
   "source": [
    "<img src=\"Screenshot (1).png\"/>"
   ]
  },
  {
   "cell_type": "markdown",
   "id": "3ea3f350-66ca-4801-953a-fc27903b04cd",
   "metadata": {},
   "source": [
    "### Q3. What is App routing in Flask? Why do we use app routes?\n",
    "\n",
    "Ans: In Flask, app routing refers to the mechanism used to map URL requests to specific functions within a Flask application. App routing is used to define how URLs are handled by a Flask application.\n",
    "\n",
    "When a user sends a request to a Flask application, the request URL is checked against the app routes defined in the application. If the URL matches a route, the corresponding function is called to handle the request. The function can then generate a response, which is returned to the user.\n",
    "\n",
    "We use app routes in Flask for several reasons:\n",
    "\n",
    "1. Routing allows us to define the behavior of our Flask application based on the URL requested by the user. By defining app routes, we can create a mapping between a URL and a specific function that will handle the request.\n",
    "\n",
    "2. App routes make our Flask application more organized and easier to maintain. By separating the application logic into different functions that are mapped to specific routes, we can keep our code more modular and easier to understand.\n",
    "\n",
    "3. Routing allows us to create dynamic web pages that can display different content based on the user's input. For example, we can use routing to create a blog website where each blog post has its own URL and can be accessed through a separate route."
   ]
  },
  {
   "cell_type": "markdown",
   "id": "4176fb60-0297-4da1-8750-91523efef877",
   "metadata": {},
   "source": [
    "### Q4. Create a “/welcome” route to display the welcome message “Welcome to ABC Corporation” and a “/” route to show the following details:\n",
    "Company Name: ABC Corporation\n",
    "Location: India\n",
    "Contact Detail: 999-999-9999"
   ]
  },
  {
   "cell_type": "markdown",
   "id": "7a40329b-2fe9-4a8d-8b69-19f6884881d1",
   "metadata": {},
   "source": [
    "<img src=\"Screenshot (2).png\"/>"
   ]
  },
  {
   "cell_type": "markdown",
   "id": "140c9984-e72a-48a5-96ac-fc2c3830643f",
   "metadata": {},
   "source": [
    "<img src=\"Screenshot (12).png\"/>"
   ]
  },
  {
   "cell_type": "markdown",
   "id": "9a212c81-1167-41dc-b83c-c936bccf09a6",
   "metadata": {},
   "source": [
    "<img src=\"Screenshot (13).png\"/>"
   ]
  },
  {
   "cell_type": "markdown",
   "id": "ec8e2e93-d74d-4218-b366-3ca62755c959",
   "metadata": {},
   "source": [
    "### Q5. What function is used in Flask for URL Building? Write a Python code to demonstrate the working of the url_for() function.\n",
    "\n",
    "Ans: In Flask, the 'url_for()' function is used for URL building. It generates a URL to a specific function, based on the endpoint name and any arguments provided."
   ]
  },
  {
   "cell_type": "code",
   "execution_count": null,
   "id": "65f3ef9c-dae8-49e5-816f-d8f3734d97fd",
   "metadata": {},
   "outputs": [],
   "source": [
    "from flask import Flask, url_for\n",
    "\n",
    "app = Flask(__name__)\n",
    "\n",
    "@app.route('/')\n",
    "def index():\n",
    "    return 'Hello, World!'\n",
    "\n",
    "@app.route('/user/<username>')\n",
    "def user_profile(username):\n",
    "    return f'Welcome to your profile, {username}!'\n",
    "\n",
    "with app.test_request_context():\n",
    "    print(url_for('index'))\n",
    "    print(url_for('user_profile', username='Avirat'))"
   ]
  }
 ],
 "metadata": {
  "kernelspec": {
   "display_name": "Python 3 (ipykernel)",
   "language": "python",
   "name": "python3"
  },
  "language_info": {
   "codemirror_mode": {
    "name": "ipython",
    "version": 3
   },
   "file_extension": ".py",
   "mimetype": "text/x-python",
   "name": "python",
   "nbconvert_exporter": "python",
   "pygments_lexer": "ipython3",
   "version": "3.10.8"
  }
 },
 "nbformat": 4,
 "nbformat_minor": 5
}
