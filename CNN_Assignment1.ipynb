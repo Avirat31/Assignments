{
 "cells": [
  {
   "cell_type": "markdown",
   "id": "b9b8bd83-39ab-4192-a5d1-ad1a6cb6a4c4",
   "metadata": {},
   "source": [
    "# Assignment"
   ]
  },
  {
   "cell_type": "markdown",
   "id": "2e605658-9adf-4fa1-85a7-67f785c63977",
   "metadata": {},
   "source": [
    "## TOPIC: Understanding Pooling and Padding in CNN"
   ]
  },
  {
   "cell_type": "markdown",
   "id": "5409c49c-a88b-4f28-ae08-bf4143c32212",
   "metadata": {},
   "source": [
    "## 1. Describe the purpose and benefits of pooling in CNN"
   ]
  },
  {
   "cell_type": "markdown",
   "id": "7c04e08e-2d1e-4317-90c4-54c9784fd617",
   "metadata": {},
   "source": [
    "Ans: Pooling in Convolutional Neural Networks (CNNs) is a crucial operation that serves several purposes and offers various benefits. Here’s an overview:\n",
    "\n",
    "### Purpose of Pooling\n",
    "\n",
    "1. **Dimensionality Reduction**: Pooling reduces the spatial dimensions (height and width) of the input volume. This results in fewer parameters and less computation, which speeds up the training process and reduces the memory footprint.\n",
    "\n",
    "2. **Feature Extraction**: Pooling helps to retain important information while discarding less important details. It focuses on the most prominent features, which are likely to be more useful for the task at hand.\n",
    "\n",
    "3. **Translation Invariance**: Pooling provides a degree of translational invariance. Small translations or shifts in the input image do not significantly affect the pooled output, making the model more robust to variations in the input.\n",
    "\n",
    "### Benefits of Pooling\n",
    "\n",
    "1. **Reduction in Overfitting**: By reducing the spatial size of the representations, pooling helps to control overfitting. Fewer parameters mean the model is less likely to memorize the training data, promoting better generalization to unseen data.\n",
    "\n",
    "2. **Improved Computational Efficiency**: Pooling layers reduce the number of operations required for the following layers. This reduction in computation allows for deeper networks and faster training and inference times.\n",
    "\n",
    "3. **Hierarchical Feature Extraction**: Pooling enables the network to build a hierarchy of features by progressively reducing the spatial dimensions. This hierarchical representation is essential for recognizing complex patterns in the data.\n",
    "\n",
    "4. **Noise Reduction**: Pooling can help to eliminate noisy activations by summarizing activations in a small region. This makes the network more robust to noise in the input data.\n",
    "\n",
    "### Types of Pooling\n",
    "\n",
    "1. **Max Pooling**: This involves selecting the maximum value from each pooling region. It emphasizes the strongest features detected in each region and is the most commonly used pooling technique.\n",
    "\n",
    "2. **Average Pooling**: This involves taking the average of all values in the pooling region. It provides a smoother representation by considering the average feature value.\n",
    "\n",
    "3. **Global Pooling**: This reduces each feature map to a single value by taking either the maximum or average value of the entire feature map. It is often used at the end of the network before the fully connected layers.\n",
    "\n",
    "### Practical Example\n",
    "\n",
    "Consider a CNN processing a 32x32 image. After several convolutional layers, a max pooling layer with a 2x2 filter and a stride of 2 will reduce the dimensions of the feature map from 32x32 to 16x16. This pooling operation would:\n",
    "- Preserve the most salient features from each 2x2 region.\n",
    "- Halve the dimensions, thus reducing computational complexity.\n",
    "- Provide translational invariance, making the network more robust to small positional changes in the input image.\n",
    "\n",
    "In summary, pooling is a fundamental operation in CNNs that helps manage computational resources, enhances feature extraction, and improves the robustness and generalization of the network."
   ]
  },
  {
   "cell_type": "markdown",
   "id": "a21c3f38-e1b1-40a5-a13c-e026399a2ee4",
   "metadata": {},
   "source": [
    "## 2. Explain the difference between min pooling and max pooling"
   ]
  },
  {
   "cell_type": "markdown",
   "id": "8a2919de-4df1-4404-8a4c-58f9910ad323",
   "metadata": {},
   "source": [
    "Ans: Min pooling and max pooling are both pooling techniques used in Convolutional Neural Networks (CNNs) to downsample feature maps, but they differ in how they aggregate information from the pooling region.\n",
    "\n",
    "### Max Pooling\n",
    "\n",
    "**Definition**: Max pooling involves selecting the maximum value from each pooling region.\n",
    "\n",
    "**Purpose and Characteristics**:\n",
    "- **Feature Emphasis**: Max pooling emphasizes the most prominent features detected in the region. By selecting the maximum value, it captures the strongest activation, which often corresponds to the most significant features.\n",
    "- **Noise Reduction**: It effectively reduces the effect of small variations or noise in the input, as only the maximum value is considered.\n",
    "- **Common Use**: Max pooling is the most commonly used pooling method in CNNs because it often leads to better performance by highlighting the most important features.\n",
    "\n",
    "**Example**:\n",
    "If a 2x2 pooling region contains values [1, 3; 2, 4], max pooling would output 4 (the maximum value in the region).\n",
    "\n",
    "### Min Pooling\n",
    "\n",
    "**Definition**: Min pooling involves selecting the minimum value from each pooling region.\n",
    "\n",
    "**Purpose and Characteristics**:\n",
    "- **Feature Suppression**: Min pooling emphasizes the least prominent features in the region by selecting the minimum value. This can be useful in specific contexts where the lowest values carry important information.\n",
    "- **Less Common**: Min pooling is less commonly used compared to max pooling, as the minimum values may not always represent the most relevant features for many tasks. However, it can be useful in certain applications, such as anomaly detection, where identifying minimal activations is important.\n",
    "- **Contrast Enhancement**: In some scenarios, min pooling can help to highlight contrasts between different features by suppressing the higher activations.\n",
    "\n",
    "**Example**:\n",
    "If a 2x2 pooling region contains values [1, 3; 2, 4], min pooling would output 1 (the minimum value in the region).\n",
    "\n",
    "### Comparison\n",
    "\n",
    "- **Focus**: Max pooling focuses on the most significant (strongest) features, while min pooling focuses on the least significant (weakest) features.\n",
    "- **Usage**: Max pooling is widely used in standard CNN architectures because it generally improves performance by capturing key features. Min pooling is used less frequently but can be valuable for specific tasks that benefit from highlighting lower activations.\n",
    "\n",
    "### Practical Consideration\n",
    "\n",
    "The choice between max pooling and min pooling depends on the specific needs of the task:\n",
    "- **Max Pooling**: Typically used in tasks like image classification, object detection, and general feature extraction where the most prominent features are the most relevant.\n",
    "- **Min Pooling**: May be used in niche applications such as anomaly detection or specific types of signal processing where the smallest values carry critical information.\n",
    "\n",
    "In summary, max pooling and min pooling serve different purposes by focusing on the maximum and minimum values, respectively, within the pooling region. Max pooling is more commonly used due to its effectiveness in highlighting key features, while min pooling is applied in specialized contexts where minimal values are significant."
   ]
  },
  {
   "cell_type": "markdown",
   "id": "16d00a66-86d2-4c41-b2ce-d18691620786",
   "metadata": {},
   "source": [
    "## 3. Discuss the concept of padding in CNN and its significance"
   ]
  },
  {
   "cell_type": "markdown",
   "id": "c5c56924-220a-478d-86e2-248fd01c795c",
   "metadata": {},
   "source": [
    "Ans: Padding in Convolutional Neural Networks (CNNs) refers to the process of adding extra pixels around the borders of an input image or feature map. This can be done with various values, typically zeros (zero-padding), and it plays a crucial role in controlling the spatial dimensions of the output feature maps, as well as influencing the learning of edge features. Here's an in-depth look at the concept and significance of padding in CNNs:\n",
    "\n",
    "### Concept of Padding\n",
    "\n",
    "**Types of Padding**:\n",
    "1. **Zero Padding**: The most common form of padding, where the added pixels are zeros.\n",
    "2. **Same Padding**: Padding is added such that the output dimensions are the same as the input dimensions. This usually involves adding different numbers of rows and columns to the top/bottom and left/right sides.\n",
    "3. **Valid Padding**: No padding is added, so the output dimensions are reduced compared to the input dimensions.\n",
    "\n",
    "\n",
    "### Significance of Padding\n",
    "\n",
    "1. **Preserving Spatial Dimensions**:\n",
    "   - Padding allows for the control of output spatial dimensions. For example, with same padding, the output dimensions remain the same as the input, which is crucial for building deep networks where dimension preservation is required to maintain consistent feature map sizes.\n",
    "\n",
    "2. **Handling Edge Features**:\n",
    "   - Without padding, the receptive field of the convolution operation would decrease near the edges, resulting in less information being captured from the borders. Padding ensures that edge pixels are treated similarly to central pixels, allowing the network to learn edge features more effectively.\n",
    "\n",
    "3. **Avoiding Dimensional Reduction**:\n",
    "   - Convolution operations without padding (valid padding) reduce the spatial dimensions of the feature maps. With padding, this reduction can be controlled or avoided, enabling deeper architectures without excessively shrinking the feature maps.\n",
    "\n",
    "4. **Improving Performance**:\n",
    "   - By maintaining larger feature maps through padding, the network retains more spatial information, which can improve performance in tasks that rely on spatial hierarchies, such as object detection and segmentation.\n",
    "\n",
    "5. **Facilitating Symmetric Convolutions**:\n",
    "   - For symmetric kernel sizes (e.g., 3x3, 5x5), padding ensures that each pixel in the output feature map has an equal contribution from the input pixels, maintaining the symmetry of the convolution process.\n",
    "\n",
    "### Example\n",
    "\n",
    "Consider a simple example with a 5x5 input, a 3x3 kernel, and stride 1:\n",
    "\n",
    "- **Without Padding (Valid Padding)**:\n",
    "  - The output dimensions would be \\((5 - 3 + 1) \\times (5 - 3 + 1) = 3 \\times 3\\).\n",
    "  - The convolution operation reduces the feature map size.\n",
    "\n",
    "- **With Zero Padding (Same Padding)**:\n",
    "  - By adding a padding of 1 pixel around the input, the new dimensions become 7x7.\n",
    "  - The output dimensions would be \\((5 + 2 \\times 1 - 3 + 1) \\times (5 + 2 \\times 1 - 3 + 1) = 5 \\times 5\\).\n",
    "  - The feature map size is preserved.\n",
    "\n",
    "### Conclusion\n",
    "\n",
    "Padding is a fundamental technique in CNNs that ensures the effective processing of input images by preserving spatial dimensions, enabling the learning of edge features, and maintaining the integrity of the feature maps throughout deep networks. By allowing control over the output size and ensuring that all pixels, including those at the borders, are treated equally, padding contributes significantly to the robustness and performance of convolutional neural networks."
   ]
  },
  {
   "cell_type": "markdown",
   "id": "236a5659-54af-4745-b051-d8d4cbb20323",
   "metadata": {},
   "source": [
    "## 4. Compare and concept zero-padding and valid-padding in terms of their effects on the output feature map size."
   ]
  },
  {
   "cell_type": "markdown",
   "id": "5c395784-b282-4e98-b151-d86da0e763f6",
   "metadata": {},
   "source": [
    "Ans: Zero-padding and valid-padding are two common padding techniques used in Convolutional Neural Networks (CNNs), and they have different effects on the output feature map size.\n",
    "\n",
    "### Zero-padding\n",
    "\n",
    "**Definition**: Zero-padding involves adding extra pixels with a value of zero around the borders of the input image or feature map.\n",
    "\n",
    "**Effect on Output Size**:\n",
    "- **Preservation or Increase in Size**: Zero-padding preserves or increases the size of the output feature map compared to the input.\n",
    "- **Control over Output Size**: With zero-padding, the output dimensions can be controlled to match the desired size, especially when using same padding, where the input and output dimensions are the same.\n",
    "\n",
    "### Valid-padding\n",
    "\n",
    "**Definition**: Valid-padding, also known as no padding, involves performing convolutions without adding any extra pixels around the borders of the input image or feature map.\n",
    "\n",
    "**Effect on Output Size**:\n",
    "- **Reduction in Size**: Valid-padding reduces the size of the output feature map compared to the input.\n",
    "- **Dimensionality Reduction**: Without padding, the convolution operation moves the kernel across the input, and the output size decreases based on the kernel size and the stride, resulting in a smaller feature map.\n",
    "\n",
    "### Comparison\n",
    "\n",
    "1. **Output Size**:\n",
    "   - Zero-padding either preserves the input size (with same padding) or increases it, while valid-padding reduces the output size.\n",
    "  \n",
    "2. **Control over Output Size**:\n",
    "   - Zero-padding provides more control over the output size, as the amount of padding can be adjusted to achieve specific dimensions.\n",
    "   - Valid-padding results in a more straightforward computation of output size, as it depends only on the input size, kernel size, and stride, without any additional padding.\n",
    "\n",
    "3. **Feature Preservation**:\n",
    "   - Zero-padding ensures that edge features are preserved and treated equally to central features, enhancing the network's ability to learn spatial hierarchies.\n",
    "   - Valid-padding may lead to the loss of information near the borders, potentially affecting the network's ability to capture edge features effectively.\n",
    "\n",
    "### Practical Example\n",
    "\n",
    "Consider a 5x5 input image and a 3x3 kernel with a stride of 1:\n",
    "\n",
    "- **Zero-padding (Same Padding)**:\n",
    "  - With padding of 1 pixel around the input, the new dimensions become 7x7.\n",
    "  - After convolution, the output feature map remains 5x5 (assuming same padding).\n",
    "\n",
    "- **Valid-padding (No Padding)**:\n",
    "  - Without padding, the convolution reduces the input size to 3x3.\n",
    "  - The output feature map size becomes 3x3.\n",
    "\n",
    "### Conclusion\n",
    "\n",
    "Zero-padding and valid-padding serve different purposes in CNNs:\n",
    "- Zero-padding helps maintain spatial information and control output size.\n",
    "- Valid-padding reduces the output size and may lead to the loss of edge information.\n",
    "The choice between these padding techniques depends on factors such as network architecture, task requirements, and the desired balance between spatial preservation and computational efficiency."
   ]
  },
  {
   "cell_type": "markdown",
   "id": "384387c0-214c-432c-ab5f-68e001c82a90",
   "metadata": {},
   "source": [
    "## TOPIC: Exploring LeNet"
   ]
  },
  {
   "cell_type": "markdown",
   "id": "d430a727-7c14-4c94-9188-8ad1108c747e",
   "metadata": {},
   "source": [
    "## 1. Provide a brief overview of LeNet-5 architecture "
   ]
  },
  {
   "cell_type": "markdown",
   "id": "747568d5-e688-4ac5-9e7a-0add858de3d7",
   "metadata": {},
   "source": [
    "LeNet-5 is a pioneering convolutional neural network (CNN) architecture developed by Yann LeCun and his colleagues in the late 1990s. It was designed for handwritten digit recognition, particularly for the MNIST dataset. Here’s a brief overview of the LeNet-5 architecture:\n",
    "\n",
    "### Architecture Overview\n",
    "\n",
    "LeNet-5 consists of seven layers (excluding the input layer) with learnable parameters. These layers include convolutional layers, pooling layers (subsampling), and fully connected layers. Here's a detailed breakdown:\n",
    "\n",
    "1. **Input Layer**:\n",
    "   - **Dimensions**: 32x32 pixels, grayscale image.\n",
    "   - **Preprocessing**: The original 28x28 MNIST images are padded to 32x32 to fit the input layer.\n",
    "\n",
    "2. **Layer 1: Convolutional Layer (C1)**:\n",
    "   - **Filters**: 6 filters.\n",
    "   - **Filter Size**: 5x5.\n",
    "   - **Stride**: 1.\n",
    "   - **Output Dimensions**: 28x28x6 (since no padding is used, output size is reduced).\n",
    "\n",
    "3. **Layer 2: Subsampling/Pooling Layer (S2)**:\n",
    "   - **Type**: Average pooling (also known as subsampling).\n",
    "   - **Filter Size**: 2x2.\n",
    "   - **Stride**: 2.\n",
    "   - **Output Dimensions**: 14x14x6 (halves the spatial dimensions).\n",
    "\n",
    "4. **Layer 3: Convolutional Layer (C3)**:\n",
    "   - **Filters**: 16 filters.\n",
    "   - **Filter Size**: 5x5.\n",
    "   - **Connections**: Each filter is connected to a subset of the previous layer's feature maps in a complex pattern to capture more varied features.\n",
    "   - **Output Dimensions**: 10x10x16.\n",
    "\n",
    "5. **Layer 4: Subsampling/Pooling Layer (S4)**:\n",
    "   - **Type**: Average pooling.\n",
    "   - **Filter Size**: 2x2.\n",
    "   - **Stride**: 2.\n",
    "   - **Output Dimensions**: 5x5x16.\n",
    "\n",
    "6. **Layer 5: Convolutional Layer (C5)**:\n",
    "   - **Filters**: 120 filters.\n",
    "   - **Filter Size**: 5x5.\n",
    "   - **Connections**: Fully connected to the previous layer.\n",
    "   - **Output Dimensions**: 1x1x120 (since the filter size matches the input dimensions).\n",
    "\n",
    "7. **Layer 6: Fully Connected Layer (F6)**:\n",
    "   - **Units**: 84 neurons.\n",
    "   - **Activation**: Typically uses the sigmoid or tanh activation function.\n",
    "\n",
    "8. **Output Layer**:\n",
    "   - **Units**: 10 neurons (one for each digit class from 0 to 9).\n",
    "   - **Activation**: Softmax activation function to produce a probability distribution over the 10 classes.\n",
    "\n",
    "### Summary\n",
    "\n",
    "The LeNet-5 architecture can be summarized as:\n",
    "- **Input**: 32x32 grayscale image.\n",
    "- **C1**: Convolutional layer with 6x 5x5 filters.\n",
    "- **S2**: Average pooling layer with 2x2 filters.\n",
    "- **C3**: Convolutional layer with 16x 5x5 filters.\n",
    "- **S4**: Average pooling layer with 2x2 filters.\n",
    "- **C5**: Convolutional layer with 120x 5x5 filters.\n",
    "- **F6**: Fully connected layer with 84 units.\n",
    "- **Output**: Fully connected layer with 10 units (softmax).\n",
    "\n",
    "### Significance\n",
    "\n",
    "LeNet-5 was one of the earliest successful applications of CNNs and laid the foundation for modern deep learning architectures. It demonstrated the effectiveness of convolutional layers for feature extraction and pooling layers for dimensionality reduction, which are now standard components in CNNs."
   ]
  },
  {
   "cell_type": "markdown",
   "id": "14dbe8ff-2421-46b7-9165-05b087f30788",
   "metadata": {},
   "source": [
    "## 2. Describe the key components of LeNet-5 and their respective purposes"
   ]
  },
  {
   "cell_type": "markdown",
   "id": "ff10e393-9014-4815-b096-b43985c210e0",
   "metadata": {},
   "source": [
    "Ans: LeNet-5 is a seminal convolutional neural network (CNN) architecture designed for handwritten digit recognition, specifically for the MNIST dataset. It was developed by Yann LeCun and his collaborators. The architecture consists of several key components, each serving specific purposes to facilitate the learning and recognition of visual patterns in images. Here’s a detailed look at the key components and their respective purposes:\n",
    "\n",
    "### Key Components of LeNet-5\n",
    "\n",
    "1. **Input Layer**:\n",
    "   - **Dimensions**: 32x32 pixels, grayscale image.\n",
    "   - **Purpose**: To receive the raw pixel values of the input image. The original 28x28 MNIST images are padded to 32x32 to standardize the input size and ensure consistent processing through the network.\n",
    "\n",
    "2. **Convolutional Layer 1 (C1)**:\n",
    "   - **Filters**: 6 filters.\n",
    "   - **Filter Size**: 5x5.\n",
    "   - **Stride**: 1.\n",
    "   - **Output Dimensions**: 28x28x6.\n",
    "   - **Purpose**: To detect local features such as edges, textures, and simple patterns in the input image. Each filter creates a feature map by convolving across the input image.\n",
    "\n",
    "3. **Subsampling/Pooling Layer 1 (S2)**:\n",
    "   - **Type**: Average pooling.\n",
    "   - **Filter Size**: 2x2.\n",
    "   - **Stride**: 2.\n",
    "   - **Output Dimensions**: 14x14x6.\n",
    "   - **Purpose**: To reduce the spatial dimensions of the feature maps, thereby reducing the computational complexity and providing translational invariance. This layer downsamples the input while preserving important features.\n",
    "\n",
    "4. **Convolutional Layer 2 (C3)**:\n",
    "   - **Filters**: 16 filters.\n",
    "   - **Filter Size**: 5x5.\n",
    "   - **Output Dimensions**: 10x10x16.\n",
    "   - **Purpose**: To detect more complex patterns by combining features from the previous layer. Each filter is connected to a subset of the previous layer’s feature maps, allowing for a rich representation of the input data.\n",
    "\n",
    "5. **Subsampling/Pooling Layer 2 (S4)**:\n",
    "   - **Type**: Average pooling.\n",
    "   - **Filter Size**: 2x2.\n",
    "   - **Stride**: 2.\n",
    "   - **Output Dimensions**: 5x5x16.\n",
    "   - **Purpose**: Similar to S2, this layer further reduces the spatial dimensions of the feature maps, helping to manage the number of parameters and making the network more robust to variations in the input.\n",
    "\n",
    "6. **Convolutional Layer 3 (C5)**:\n",
    "   - **Filters**: 120 filters.\n",
    "   - **Filter Size**: 5x5.\n",
    "   - **Output Dimensions**: 1x1x120.\n",
    "   - **Purpose**: To perform a fully connected convolution, where each filter is connected to all activations in the previous layer. This layer acts as a bridge between the convolutional and fully connected layers, synthesizing features into a compact representation.\n",
    "\n",
    "7. **Fully Connected Layer (F6)**:\n",
    "   - **Units**: 84 neurons.\n",
    "   - **Purpose**: To integrate the features extracted by the convolutional layers and map them to a higher-level representation. This layer typically uses activation functions like sigmoid or tanh to introduce non-linearity and enable complex decision boundaries.\n",
    "\n",
    "8. **Output Layer**:\n",
    "   - **Units**: 10 neurons (corresponding to the 10 digit classes: 0-9).\n",
    "   - **Activation**: Softmax.\n",
    "   - **Purpose**: To produce a probability distribution over the 10 classes, indicating the likelihood of each class. The softmax function ensures that the outputs sum to 1, making them interpretable as probabilities.\n",
    "\n",
    "### Summary of Purposes\n",
    "\n",
    "- **Convolutional Layers (C1, C3, C5)**: Detect and extract hierarchical features from the input image.\n",
    "- **Pooling Layers (S2, S4)**: Reduce spatial dimensions, control overfitting, and provide translational invariance.\n",
    "- **Fully Connected Layer (F6)**: Integrate features for higher-level abstraction and classification.\n",
    "- **Output Layer**: Provide class probabilities for the final classification decision.\n",
    "\n",
    "Each component of LeNet-5 works together to transform the input image into a set of features and ultimately classify it into one of the digit classes, leveraging the strengths of convolutional and pooling operations."
   ]
  },
  {
   "cell_type": "markdown",
   "id": "60155f49-2397-4b06-8cdb-9eb906fad948",
   "metadata": {},
   "source": [
    "## 3. Discuss the advantages and limitations of LeNet-5 in the context of image classification tasks"
   ]
  },
  {
   "cell_type": "markdown",
   "id": "51487305-1e91-40c9-a920-92e9d42fa8ed",
   "metadata": {},
   "source": [
    "Ans: LeNet-5, developed by Yann LeCun and his collaborators in the late 1990s, was a groundbreaking architecture for its time and played a crucial role in the development of Convolutional Neural Networks (CNNs). Here, we discuss its advantages and limitations in the context of image classification tasks.\n",
    "\n",
    "### Advantages of LeNet-5\n",
    "\n",
    "1. **Pioneering Architecture**:\n",
    "   - **Foundation for Modern CNNs**: LeNet-5 introduced several concepts that are now fundamental in CNN design, such as convolutional layers, pooling layers, and fully connected layers.\n",
    "   - **End-to-End Learning**: It demonstrated the power of end-to-end learning, where the network learns feature extraction and classification simultaneously.\n",
    "\n",
    "2. **Efficient Feature Extraction**:\n",
    "   - **Convolutional Layers**: These layers effectively capture spatial hierarchies and local patterns, which are essential for image classification.\n",
    "   - **Pooling Layers**: Pooling layers reduce the dimensionality of feature maps, making the network more computationally efficient and less prone to overfitting.\n",
    "\n",
    "3. **Robust to Variations**:\n",
    "   - **Translation Invariance**: The use of pooling layers provides translation invariance, making the model robust to minor shifts and distortions in the input images.\n",
    "\n",
    "4. **Scalability**:\n",
    "   - **Modular Design**: The modular structure of alternating convolutional and pooling layers can be scaled and adapted to larger and more complex tasks.\n",
    "\n",
    "5. **Practical Implementation**:\n",
    "   - **Early Success in Handwritten Digit Recognition**: LeNet-5 was highly successful in recognizing handwritten digits in the MNIST dataset, which was a significant practical achievement at the time.\n",
    "\n",
    "### Limitations of LeNet-5\n",
    "\n",
    "1. **Limited Depth and Complexity**:\n",
    "   - **Shallow Architecture**: LeNet-5 has a relatively shallow architecture by modern standards, with only three convolutional layers. This limits its ability to learn complex and abstract features from more sophisticated datasets.\n",
    "\n",
    "2. **Fixed Filter Sizes and Simple Structures**:\n",
    "   - **Lack of Flexibility**: The fixed 5x5 filter sizes and the simple architecture do not adapt well to the diverse and complex features present in more complex images, such as those in the CIFAR-10 or ImageNet datasets.\n",
    "\n",
    "3. **Computational Constraints**:\n",
    "   - **Inefficiency with Larger Images**: Designed for 32x32 pixel inputs, LeNet-5 is not well-suited for handling larger, high-resolution images without significant modifications.\n",
    "\n",
    "4. **Limited Regularization**:\n",
    "   - **Overfitting on Complex Data**: Without advanced regularization techniques like dropout (which were developed later), LeNet-5 may overfit more complex datasets.\n",
    "\n",
    "5. **Inadequate for Modern Large-Scale Tasks**:\n",
    "   - **Scaling Issues**: The architecture does not scale efficiently to modern, large-scale image classification tasks that involve millions of parameters and require deeper networks.\n",
    "\n",
    "6. **Outdated Activation Functions**:\n",
    "   - **Sigmoid/Tanh Limitations**: LeNet-5 originally used sigmoid or tanh activation functions, which can suffer from vanishing gradient problems. Modern architectures typically use ReLU or its variants, which help mitigate these issues.\n",
    "\n",
    "### Conclusion\n",
    "\n",
    "**LeNet-5** was a pioneering model that laid the groundwork for many advancements in CNNs and deep learning. Its advantages include efficient feature extraction, robustness to variations, and practical success in early applications like handwritten digit recognition. However, its limitations, such as shallow architecture, fixed filter sizes, computational inefficiency with larger images, and lack of advanced regularization, make it less suitable for modern, large-scale image classification tasks. Despite these limitations, LeNet-5 remains a historically significant model that influenced the design of more advanced and capable neural network architectures.\n"
   ]
  },
  {
   "cell_type": "markdown",
   "id": "45329c0f-00ea-4b88-9cb5-1b1237273960",
   "metadata": {},
   "source": [
    "## 4. Implement LeNet-5 using a deep learning framework of your choice (e.g., TensorFlow, PyTorch) and train it on a publicly available dataset (e.g., MNIST). Evaluate its performance and provide insights."
   ]
  },
  {
   "cell_type": "code",
   "execution_count": 2,
   "id": "32d96473-87ed-4d49-80cc-a1cf8be16cae",
   "metadata": {},
   "outputs": [],
   "source": [
    "import tensorflow as tf\n",
    "from tensorflow.keras import datasets, layers, models\n",
    "import matplotlib.pyplot as plt\n",
    "\n",
    "# Ensure reproducibility\n",
    "import numpy as np\n",
    "np.random.seed(42)\n",
    "tf.random.set_seed(42)\n"
   ]
  },
  {
   "cell_type": "code",
   "execution_count": 4,
   "id": "c8beb77a-131e-4851-9f75-3a58cc61bcb0",
   "metadata": {},
   "outputs": [
    {
     "name": "stdout",
     "output_type": "stream",
     "text": [
      "(60000, 32, 32, 1)\n",
      "(10000, 32, 32, 1)\n"
     ]
    }
   ],
   "source": [
    "# Load the MNIST dataset\n",
    "(train_images, train_labels), (test_images, test_labels) = tf.keras.datasets.mnist.load_data()\n",
    "\n",
    "# Normalize the pixel values to [0, 1]\n",
    "train_images, test_images = train_images / 255.0, test_images / 255.0\n",
    "\n",
    "# Reshape the images to add the channel dimension (28x28 to 28x28x1)\n",
    "train_images = train_images.reshape((train_images.shape[0], 28, 28, 1))\n",
    "test_images = test_images.reshape((test_images.shape[0], 28, 28, 1))\n",
    "\n",
    "# Pad the images from 28x28 to 32x32\n",
    "train_images = tf.pad(train_images, [[0,0], [2,2], [2,2], [0,0]], 'CONSTANT')\n",
    "test_images = tf.pad(test_images, [[0,0], [2,2], [2,2], [0,0]], 'CONSTANT')\n",
    "\n",
    "# Verify the new shape of the images\n",
    "print(train_images.shape)  # Should be (60000, 32, 32, 1)\n",
    "print(test_images.shape)   # Should be (10000, 32, 32, 1)\n"
   ]
  },
  {
   "cell_type": "code",
   "execution_count": 5,
   "id": "9d6459e9-7cf5-45e6-8bae-49295cadceae",
   "metadata": {},
   "outputs": [
    {
     "name": "stdout",
     "output_type": "stream",
     "text": [
      "Model: \"sequential\"\n",
      "_________________________________________________________________\n",
      " Layer (type)                Output Shape              Param #   \n",
      "=================================================================\n",
      " conv2d (Conv2D)             (None, 28, 28, 6)         156       \n",
      "                                                                 \n",
      " average_pooling2d (Average  (None, 14, 14, 6)         0         \n",
      " Pooling2D)                                                      \n",
      "                                                                 \n",
      " conv2d_1 (Conv2D)           (None, 10, 10, 16)        2416      \n",
      "                                                                 \n",
      " average_pooling2d_1 (Avera  (None, 5, 5, 16)          0         \n",
      " gePooling2D)                                                    \n",
      "                                                                 \n",
      " conv2d_2 (Conv2D)           (None, 1, 1, 120)         48120     \n",
      "                                                                 \n",
      " flatten (Flatten)           (None, 120)               0         \n",
      "                                                                 \n",
      " dense (Dense)               (None, 84)                10164     \n",
      "                                                                 \n",
      " dense_1 (Dense)             (None, 10)                850       \n",
      "                                                                 \n",
      "=================================================================\n",
      "Total params: 61706 (241.04 KB)\n",
      "Trainable params: 61706 (241.04 KB)\n",
      "Non-trainable params: 0 (0.00 Byte)\n",
      "_________________________________________________________________\n"
     ]
    }
   ],
   "source": [
    "def build_lenet5():\n",
    "    model = models.Sequential()\n",
    "    model.add(layers.Conv2D(6, (5, 5), activation='tanh', input_shape=(32, 32, 1)))\n",
    "    model.add(layers.AveragePooling2D((2, 2), strides=2))\n",
    "    model.add(layers.Conv2D(16, (5, 5), activation='tanh'))\n",
    "    model.add(layers.AveragePooling2D((2, 2), strides=2))\n",
    "    model.add(layers.Conv2D(120, (5, 5), activation='tanh'))\n",
    "    model.add(layers.Flatten())\n",
    "    model.add(layers.Dense(84, activation='tanh'))\n",
    "    model.add(layers.Dense(10, activation='softmax'))\n",
    "    return model\n",
    "\n",
    "# Build the model\n",
    "model = build_lenet5()\n",
    "model.summary()\n"
   ]
  },
  {
   "cell_type": "code",
   "execution_count": 6,
   "id": "810eab77-b7fb-4f51-af7f-bb3d9315a927",
   "metadata": {},
   "outputs": [],
   "source": [
    "model.compile(optimizer='adam',\n",
    "              loss='sparse_categorical_crossentropy',\n",
    "              metrics=['accuracy'])\n"
   ]
  },
  {
   "cell_type": "code",
   "execution_count": 7,
   "id": "cdd41087-baf9-49a2-a1a3-ebbbf20f7701",
   "metadata": {},
   "outputs": [
    {
     "name": "stdout",
     "output_type": "stream",
     "text": [
      "Epoch 1/10\n",
      "1875/1875 [==============================] - 15s 7ms/step - loss: 0.2324 - accuracy: 0.9291 - val_loss: 0.1072 - val_accuracy: 0.9676\n",
      "Epoch 2/10\n",
      "1875/1875 [==============================] - 14s 7ms/step - loss: 0.0899 - accuracy: 0.9734 - val_loss: 0.0674 - val_accuracy: 0.9803\n",
      "Epoch 3/10\n",
      "1875/1875 [==============================] - 14s 7ms/step - loss: 0.0609 - accuracy: 0.9809 - val_loss: 0.0558 - val_accuracy: 0.9814\n",
      "Epoch 4/10\n",
      "1875/1875 [==============================] - 14s 7ms/step - loss: 0.0452 - accuracy: 0.9857 - val_loss: 0.0564 - val_accuracy: 0.9821\n",
      "Epoch 5/10\n",
      "1875/1875 [==============================] - 14s 7ms/step - loss: 0.0363 - accuracy: 0.9888 - val_loss: 0.0607 - val_accuracy: 0.9800\n",
      "Epoch 6/10\n",
      "1875/1875 [==============================] - 14s 7ms/step - loss: 0.0315 - accuracy: 0.9899 - val_loss: 0.0490 - val_accuracy: 0.9851\n",
      "Epoch 7/10\n",
      "1875/1875 [==============================] - 14s 7ms/step - loss: 0.0265 - accuracy: 0.9915 - val_loss: 0.0447 - val_accuracy: 0.9850\n",
      "Epoch 8/10\n",
      "1875/1875 [==============================] - 14s 7ms/step - loss: 0.0215 - accuracy: 0.9927 - val_loss: 0.0522 - val_accuracy: 0.9854\n",
      "Epoch 9/10\n",
      "1875/1875 [==============================] - 14s 7ms/step - loss: 0.0179 - accuracy: 0.9939 - val_loss: 0.0503 - val_accuracy: 0.9860\n",
      "Epoch 10/10\n",
      "1875/1875 [==============================] - 14s 7ms/step - loss: 0.0177 - accuracy: 0.9941 - val_loss: 0.0458 - val_accuracy: 0.9861\n"
     ]
    }
   ],
   "source": [
    "history = model.fit(train_images, train_labels, epochs=10, \n",
    "                    validation_data=(test_images, test_labels))\n"
   ]
  },
  {
   "cell_type": "code",
   "execution_count": 8,
   "id": "4a03e871-f184-4da7-afab-6c5155bc8fd3",
   "metadata": {},
   "outputs": [
    {
     "name": "stdout",
     "output_type": "stream",
     "text": [
      "313/313 - 1s - loss: 0.0458 - accuracy: 0.9861 - 1s/epoch - 4ms/step\n",
      "Test accuracy: 0.9861000180244446\n"
     ]
    }
   ],
   "source": [
    "test_loss, test_acc = model.evaluate(test_images, test_labels, verbose=2)\n",
    "print(f\"Test accuracy: {test_acc}\")\n"
   ]
  },
  {
   "cell_type": "code",
   "execution_count": 9,
   "id": "fe5a1c16-2b98-416f-9e72-13ac23c6aafa",
   "metadata": {},
   "outputs": [
    {
     "data": {
      "image/png": "[encoded data removed]",
      "text/plain": [
       "<Figure size 1200x400 with 2 Axes>"
      ]
     },
     "metadata": {},
     "output_type": "display_data"
    }
   ],
   "source": [
    "# Plot training & validation accuracy values\n",
    "plt.figure(figsize=(12, 4))\n",
    "plt.subplot(1, 2, 1)\n",
    "plt.plot(history.history['accuracy'])\n",
    "plt.plot(history.history['val_accuracy'])\n",
    "plt.title('Model accuracy')\n",
    "plt.ylabel('Accuracy')\n",
    "plt.xlabel('Epoch')\n",
    "plt.legend(['Train', 'Test'], loc='upper left')\n",
    "\n",
    "# Plot training & validation loss values\n",
    "plt.subplot(1, 2, 2)\n",
    "plt.plot(history.history['loss'])\n",
    "plt.plot(history.history['val_loss'])\n",
    "plt.title('Model loss')\n",
    "plt.ylabel('Loss')\n",
    "plt.xlabel('Epoch')\n",
    "plt.legend(['Train', 'Test'], loc='upper left')\n",
    "\n",
    "plt.show()\n"
   ]
  },
  {
   "cell_type": "markdown",
   "id": "69cdb30e-fa34-4418-a8d7-3c99400c54be",
   "metadata": {},
   "source": [
    "## TOPIC: Analyzing AlexNet"
   ]
  },
  {
   "cell_type": "markdown",
   "id": "4ddfbc6d-3f7d-455b-ba12-6253e0b86ce7",
   "metadata": {},
   "source": [
    "## 1. present an overview of the AlexNet architectuce"
   ]
  },
  {
   "cell_type": "markdown",
   "id": "b1ff1fc7-6c17-41d8-8e5a-619962b290e1",
   "metadata": {},
   "source": [
    "Ans: AlexNet is a pioneering convolutional neural network (CNN) architecture designed by Alex Krizhevsky, Ilya Sutskever, and Geoffrey Hinton, which won the ImageNet Large Scale Visual Recognition Challenge (ILSVRC) in 2012, dramatically advancing the field of computer vision. Here's an overview of the AlexNet architecture:\n",
    "\n",
    "### Architecture Overview\n",
    "\n",
    "1. **Input Layer**:\n",
    "   - AlexNet accepts input images of size 227x227x3 (RGB images).\n",
    "\n",
    "2. **Convolutional Layers**:\n",
    "   - The network consists of five convolutional layers:\n",
    "     - Conv1: 96 filters of size 11x11 with a stride of 4 and ReLU activation.\n",
    "     - Conv2: 256 filters of size 5x5 with a stride of 1 and ReLU activation.\n",
    "     - Conv3: 384 filters of size 3x3 with a stride of 1 and ReLU activation.\n",
    "     - Conv4: 384 filters of size 3x3 with a stride of 1 and ReLU activation.\n",
    "     - Conv5: 256 filters of size 3x3 with a stride of 1 and ReLU activation.\n",
    "   - These convolutional layers are followed by max-pooling layers.\n",
    "\n",
    "3. **Pooling Layers**:\n",
    "   - AlexNet uses max-pooling layers after some of the convolutional layers to reduce spatial dimensions and create translation invariance.\n",
    "   - Pooling is performed over a 3x3 window with a stride of 2 after Conv1, Conv2, and Conv5.\n",
    "\n",
    "4. **Fully Connected Layers**:\n",
    "   - After the convolutional and pooling layers, there are three fully connected layers:\n",
    "     - FC6: 4096 neurons with ReLU activation and dropout.\n",
    "     - FC7: 4096 neurons with ReLU activation and dropout.\n",
    "     - FC8: 1000 neurons with softmax activation for ImageNet's 1000 classes.\n",
    "   - The dropout layers help prevent overfitting by randomly dropping neurons during training.\n",
    "\n",
    "5. **Output Layer**:\n",
    "   - The output layer consists of 1000 neurons with softmax activation, corresponding to the 1000 classes in the ImageNet dataset.\n",
    "\n",
    "### Key Features and Contributions\n",
    "\n",
    "1. **Deep Architecture**:\n",
    "   - AlexNet was one of the first CNNs to demonstrate the effectiveness of deep architectures for image classification tasks.\n",
    "   - Its depth (number of layers) helped capture increasingly abstract features at higher levels of the network.\n",
    "\n",
    "2. **ReLU Activation**:\n",
    "   - AlexNet used the Rectified Linear Unit (ReLU) activation function, which helped alleviate the vanishing gradient problem and accelerated training convergence.\n",
    "\n",
    "3. **Local Response Normalization (LRN)**:\n",
    "   - Local response normalization was applied after the ReLU activation in Conv1 and Conv2 layers to provide local contrast enhancement.\n",
    "\n",
    "4. **Data Augmentation**:\n",
    "   - AlexNet employed data augmentation techniques such as cropping and horizontal flipping, which helped improve generalization and reduce overfitting.\n",
    "\n",
    "5. **Dropout Regularization**:\n",
    "   - Dropout layers were introduced to prevent overfitting by randomly dropping neurons during training, thus forcing the network to learn more robust features.\n",
    "\n",
    "### Impact and Legacy\n",
    "\n",
    "1. **Revolutionized Computer Vision**:\n",
    "   - AlexNet significantly advanced the field of computer vision, demonstrating the power of deep learning for image recognition tasks.\n",
    "\n",
    "2. **Catalyzed Deep Learning Research**:\n",
    "   - Its success sparked widespread interest in deep learning, leading to a surge in research and development of deep neural network architectures.\n",
    "\n",
    "3. **Benchmark for Performance**:\n",
    "   - AlexNet's performance on the ImageNet challenge set a benchmark for subsequent CNN architectures, inspiring the development of even more sophisticated models.\n",
    "\n",
    "4. **Real-World Applications**:\n",
    "   - The techniques and insights gained from AlexNet have been applied to a wide range of real-world applications, including object recognition, medical image analysis, autonomous vehicles, and more.\n",
    "\n",
    "Overall, AlexNet's innovative architecture and remarkable success in the ImageNet challenge marked a pivotal moment in the history of artificial intelligence and propelled the widespread adoption of deep learning in various domains."
   ]
  },
  {
   "cell_type": "markdown",
   "id": "bf18180d-af94-4df1-81cd-3773aa3eccb8",
   "metadata": {},
   "source": [
    "## 2. Explain the architectural innovations introduced in AlexNet that contributed to its breakthrough performance"
   ]
  },
  {
   "cell_type": "markdown",
   "id": "d3e93c27-9f8b-4459-a5b8-4206a6a6efe8",
   "metadata": {},
   "source": [
    "Ans: AlexNet introduced several architectural innovations that contributed to its breakthrough performance in the ImageNet Large Scale Visual Recognition Challenge (ILSVRC) in 2012. These innovations significantly advanced the field of computer vision and paved the way for the dominance of deep learning in image recognition tasks. Here are the key architectural innovations introduced in AlexNet:\n",
    "\n",
    "1. **Deep Architecture**:\n",
    "   - AlexNet was one of the first CNNs to utilize a deep architecture, consisting of multiple layers of convolutional and fully connected layers. Its depth allowed the network to learn hierarchical features of increasing complexity, leading to superior performance in image classification tasks.\n",
    "\n",
    "2. **Large Convolutional Filters**:\n",
    "   - AlexNet used large convolutional filters compared to previous architectures. The first convolutional layer (Conv1) employed filters of size 11x11, followed by 5x5 filters in subsequent layers. These larger filters enabled the network to capture more global patterns and learn richer feature representations from the input images.\n",
    "\n",
    "3. **ReLU Activation Function**:\n",
    "   - AlexNet replaced traditional activation functions like sigmoid and tanh with the Rectified Linear Unit (ReLU) activation function. ReLU offers several advantages, including faster convergence during training and alleviation of the vanishing gradient problem. By using ReLU, AlexNet accelerated the learning process and improved the overall performance of the network.\n",
    "\n",
    "4. **Local Response Normalization (LRN)**:\n",
    "   - AlexNet introduced Local Response Normalization (LRN) after the ReLU activation in the first two convolutional layers (Conv1 and Conv2). LRN provided local contrast normalization, which enhanced the response of neurons to specific patterns and helped improve generalization performance.\n",
    "\n",
    "5. **Overlapping Max-Pooling**:\n",
    "   - AlexNet employed max-pooling layers with overlapping pooling regions and larger strides. This overlapping pooling strategy helped reduce overfitting by providing a form of spatial feature translation invariance while preserving spatial information from neighboring regions.\n",
    "\n",
    "6. **Data Augmentation and Dropout**:\n",
    "   - AlexNet incorporated data augmentation techniques such as cropping and horizontal flipping during training to increase the diversity of the training data and improve generalization. Additionally, dropout regularization was applied to the fully connected layers (FC6 and FC7) to prevent overfitting by randomly dropping neurons during training.\n",
    "\n",
    "7. **GPU Acceleration**:\n",
    "   - AlexNet was one of the first CNN architectures to leverage the computational power of Graphics Processing Units (GPUs) for training. The use of GPUs enabled faster computation of convolutions and backpropagation, significantly reducing training times and accelerating experimentation with deep neural networks.\n",
    "\n",
    "These architectural innovations collectively contributed to the breakthrough performance of AlexNet in the ILSVRC 2012 competition, demonstrating the effectiveness of deep learning for image recognition tasks and catalyzing a rapid advancement in the field of computer vision."
   ]
  },
  {
   "cell_type": "markdown",
   "id": "76542849-816d-4690-80be-98f0d2fe855e",
   "metadata": {},
   "source": [
    "## 3. Discuss the role of convolutional layers, pooling layers, and fully connected layers in AlexNet"
   ]
  },
  {
   "cell_type": "markdown",
   "id": "ceeb6b94-d34e-4fb5-a593-7f47952a2447",
   "metadata": {},
   "source": [
    "Ans: In AlexNet, convolutional layers, pooling layers, and fully connected layers play crucial roles in extracting features from input images, reducing spatial dimensions, and making classification decisions. Here's a detailed discussion of each component's role in AlexNet:\n",
    "\n",
    "### 1. Convolutional Layers:\n",
    "\n",
    "- **Feature Extraction**:\n",
    "  - Convolutional layers in AlexNet perform feature extraction by applying a set of learnable filters (kernels) to input images.\n",
    "  - These filters slide (convolve) across the input image, capturing local patterns and features such as edges, textures, and shapes.\n",
    "  - The depth of the output feature maps increases with the number of filters, allowing the network to learn increasingly abstract representations of the input data.\n",
    "\n",
    "- **Hierarchical Representation**:\n",
    "  - Through multiple convolutional layers, AlexNet learns hierarchical representations of the input images, where lower layers capture low-level features (e.g., edges, corners) and higher layers capture more complex and abstract features.\n",
    "\n",
    "- **Non-linearity**:\n",
    "  - ReLU activation functions applied after convolution introduce non-linearity, enabling the network to learn complex and nonlinear relationships between input features.\n",
    "\n",
    "### 2. Pooling Layers:\n",
    "\n",
    "- **Dimensionality Reduction**:\n",
    "  - Pooling layers in AlexNet reduce the spatial dimensions of feature maps generated by convolutional layers.\n",
    "  - By selecting the maximum or average value within each pooling region, pooling layers preserve the most important features while discarding irrelevant details.\n",
    "\n",
    "- **Translation Invariance**:\n",
    "  - Pooling layers introduce translation invariance, making the network less sensitive to small translations or distortions in the input image.\n",
    "  - This property improves the network's ability to generalize across different positions of objects in the input images.\n",
    "\n",
    "### 3. Fully Connected Layers:\n",
    "\n",
    "- **High-Level Representation**:\n",
    "  - Fully connected layers in AlexNet process the high-level features extracted by convolutional and pooling layers.\n",
    "  - These layers integrate the spatial information captured in feature maps and combine them to form a compact representation suitable for classification.\n",
    "\n",
    "- **Classification**:\n",
    "  - The final fully connected layer (FC8) in AlexNet performs classification by mapping the learned features to the output classes (e.g., ImageNet's 1000 classes) using a softmax activation function.\n",
    "  - Each neuron in the output layer represents the probability of the input belonging to a particular class.\n",
    "\n",
    "- **Regularization**:\n",
    "  - Dropout regularization is applied to fully connected layers (e.g., FC6 and FC7) to prevent overfitting by randomly dropping neurons during training.\n",
    "  - Dropout helps the network generalize better to unseen data by reducing co-adaptation among neurons and promoting robust feature learning.\n",
    "\n",
    "### Overall Role:\n",
    "\n",
    "- **Feature Hierarchy**:\n",
    "  - The combination of convolutional, pooling, and fully connected layers in AlexNet creates a hierarchical representation of input images, where features at different levels of abstraction are learned and combined to make accurate predictions.\n",
    "\n",
    "- **End-to-End Learning**:\n",
    "  - By incorporating convolutional, pooling, and fully connected layers into a unified architecture, AlexNet enables end-to-end learning, where features are learned directly from raw input images without the need for manual feature engineering.\n",
    "\n",
    "In summary, convolutional layers extract hierarchical features, pooling layers reduce spatial dimensions and introduce translation invariance, and fully connected layers integrate features for classification in AlexNet. Together, these components enable AlexNet to achieve state-of-the-art performance in image classification tasks and demonstrate the effectiveness of deep learning for computer vision."
   ]
  },
  {
   "cell_type": "markdown",
   "id": "423c169f-633f-417c-ad4b-65e6adde8f4e",
   "metadata": {},
   "source": [
    "## 4. Implement AlexNet using a deep learning framework tensorflow evaluate its performance on a MNIST dataset."
   ]
  },
  {
   "cell_type": "code",
   "execution_count": 11,
   "id": "15d9adc3-f9e0-491c-8b5d-6a79cd20bd79",
   "metadata": {},
   "outputs": [],
   "source": [
    "import tensorflow as tf\n",
    "from tensorflow.keras import layers, models\n",
    "\n",
    "# Load MNIST dataset\n",
    "mnist = tf.keras.datasets.mnist\n",
    "(train_images, train_labels), (test_images, test_labels) = mnist.load_data()"
   ]
  },
  {
   "cell_type": "code",
   "execution_count": 12,
   "id": "9addb6ab-140d-4220-9bf6-42852134dd7e",
   "metadata": {},
   "outputs": [],
   "source": [
    "train_images, test_images = train_images / 255.0, test_images / 255.0\n",
    "\n",
    "# Add channel dimension to images\n",
    "train_images = train_images[..., tf.newaxis]\n",
    "test_images = test_images[..., tf.newaxis]\n"
   ]
  },
  {
   "cell_type": "code",
   "execution_count": 13,
   "id": "fd853775-e415-43ef-b7e9-a04846e36ada",
   "metadata": {},
   "outputs": [],
   "source": [
    "# Define the model\n",
    "model = models.Sequential([\n",
    "    layers.Conv2D(32, (3, 3), activation='relu', input_shape=(28, 28, 1)),\n",
    "    layers.MaxPooling2D((2, 2)),\n",
    "    layers.Conv2D(64, (3, 3), activation='relu'),\n",
    "    layers.MaxPooling2D((2, 2)),\n",
    "    layers.Conv2D(64, (3, 3), activation='relu'),\n",
    "    layers.Flatten(),\n",
    "    layers.Dense(64, activation='relu'),\n",
    "    layers.Dense(10, activation='softmax')\n",
    "])\n",
    "\n",
    "# Compile the model\n",
    "model.compile(optimizer='adam',\n",
    "              loss='sparse_categorical_crossentropy',\n",
    "              metrics=['accuracy'])\n"
   ]
  },
  {
   "cell_type": "code",
   "execution_count": 14,
   "id": "b79347cf-15d0-4c61-af6f-f63d8afee8b5",
   "metadata": {},
   "outputs": [
    {
     "name": "stdout",
     "output_type": "stream",
     "text": [
      "Epoch 1/5\n",
      "1875/1875 [==============================] - 22s 11ms/step - loss: 0.1507 - accuracy: 0.9538 - val_loss: 0.0502 - val_accuracy: 0.9842\n",
      "Epoch 2/5\n",
      "1875/1875 [==============================] - 22s 12ms/step - loss: 0.0483 - accuracy: 0.9849 - val_loss: 0.0663 - val_accuracy: 0.9786\n",
      "Epoch 3/5\n",
      "1875/1875 [==============================] - 23s 12ms/step - loss: 0.0345 - accuracy: 0.9886 - val_loss: 0.0293 - val_accuracy: 0.9896\n",
      "Epoch 4/5\n",
      "1875/1875 [==============================] - 23s 12ms/step - loss: 0.0258 - accuracy: 0.9920 - val_loss: 0.0291 - val_accuracy: 0.9902\n",
      "Epoch 5/5\n",
      "1875/1875 [==============================] - 22s 12ms/step - loss: 0.0200 - accuracy: 0.9933 - val_loss: 0.0317 - val_accuracy: 0.9903\n"
     ]
    }
   ],
   "source": [
    "# Train the model\n",
    "history = model.fit(train_images, train_labels, epochs=5, validation_data=(test_images, test_labels))\n"
   ]
  },
  {
   "cell_type": "code",
   "execution_count": 15,
   "id": "dabeac0a-4108-4612-bed1-4e6062b3aafa",
   "metadata": {},
   "outputs": [
    {
     "name": "stdout",
     "output_type": "stream",
     "text": [
      "313/313 - 1s - loss: 0.0317 - accuracy: 0.9903 - 1s/epoch - 4ms/step\n",
      "Test accuracy: 0.9902999997138977\n"
     ]
    }
   ],
   "source": [
    "# Evaluate the model\n",
    "test_loss, test_acc = model.evaluate(test_images, test_labels, verbose=2)\n",
    "print(f'Test accuracy: {test_acc}')"
   ]
  },
  {
   "cell_type": "code",
   "execution_count": null,
   "id": "3dda54db-1624-4ed0-b24c-597900303fb3",
   "metadata": {},
   "outputs": [],
   "source": []
  }
 ],
 "metadata": {
  "kernelspec": {
   "display_name": "Python 3 (ipykernel)",
   "language": "python",
   "name": "python3"
  },
  "language_info": {
   "codemirror_mode": {
    "name": "ipython",
    "version": 3
   },
   "file_extension": ".py",
   "mimetype": "text/x-python",
   "name": "python",
   "nbconvert_exporter": "python",
   "pygments_lexer": "ipython3",
   "version": "3.10.7"
  }
 },
 "nbformat": 4,
 "nbformat_minor": 5
}
