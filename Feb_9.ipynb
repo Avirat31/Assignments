{
 "cells": [
  {
   "cell_type": "markdown",
   "id": "a510d572-3e22-4425-bc32-17b7b6231052",
   "metadata": {},
   "source": [
    "# Assignment"
   ]
  },
  {
   "cell_type": "markdown",
   "id": "fabb5e21-2c00-4495-a3e6-95cbe9cd5960",
   "metadata": {},
   "source": [
    "### Q1, Create a vehicle class with an init method having instance variables as name_of_vehicle, max_speed and average_of_vehicle."
   ]
  },
  {
   "cell_type": "code",
   "execution_count": 1,
   "id": "ee255c22-5640-400a-8785-9079c2f45fd6",
   "metadata": {},
   "outputs": [],
   "source": [
    "class Vehicle :\n",
    "    def __init__(self, name_of_vehicle, max_speed, average_of_vehicle):\n",
    "        self.name_of_vehicle = name_of_vehicle\n",
    "        self.max_speed = max_speed\n",
    "        self.average_of_vehicle = average_of_vehicle\n",
    "        "
   ]
  },
  {
   "cell_type": "markdown",
   "id": "20c52416-7093-44cc-8ac2-99ff3f6792b3",
   "metadata": {},
   "source": [
    "### Q2. Create a child class car from the vehicle class created in Que 1, which will inherit the vehicle class. Create a method named seating_capacity which takes capacity as an argument and returns the name of the vehicle and its seating capacity."
   ]
  },
  {
   "cell_type": "code",
   "execution_count": 2,
   "id": "aee14a2e-b2e8-407c-817d-22918ccd77e1",
   "metadata": {},
   "outputs": [],
   "source": [
    "class Car(Vehicle):\n",
    "    def __init__(self, name_of_vehicle, max_speed, average_of_vehicle, capacity):\n",
    "        super().__init__(name_of_vehicle, max_speed, average_of_vehicle)\n",
    "        self.capacity = capacity\n",
    "\n",
    "    def seating_capacity(self):\n",
    "        return f\"{self.name_of_vehicle} has a seating capacity of {self.capacity}.\"\n"
   ]
  },
  {
   "cell_type": "markdown",
   "id": "bb7b8ea4-6d6d-489d-964b-739468192e5d",
   "metadata": {},
   "source": [
    "### Q3. What is multiple inheritance? Write a python code to demonstrate multiple inheritance.\n",
    "\n",
    "Ans: Multiple inheritance is a feature in object-oriented programming languages that allows a class to inherit attributes and methods from more than one parent class. In other words, a child class can inherit attributes and methods from multiple parent classes."
   ]
  },
  {
   "cell_type": "code",
   "execution_count": 3,
   "id": "63f11f43-4893-4d89-aa46-e44b2d418386",
   "metadata": {},
   "outputs": [
    {
     "name": "stdout",
     "output_type": "stream",
     "text": [
      "Method 1 from Parent 1\n",
      "Method 2 from Parent 2\n"
     ]
    }
   ],
   "source": [
    "class Parent1:\n",
    "    def method1(self):\n",
    "        print(\"Method 1 from Parent 1\")\n",
    "\n",
    "class Parent2:\n",
    "    def method2(self):\n",
    "        print(\"Method 2 from Parent 2\")\n",
    "\n",
    "class Child(Parent1, Parent2):\n",
    "    pass\n",
    "\n",
    "child = Child()\n",
    "child.method1() \n",
    "child.method2() \n"
   ]
  },
  {
   "cell_type": "markdown",
   "id": "67b8002b-6a96-4770-bdf2-b908f754a832",
   "metadata": {},
   "source": [
    "### Q4. What are getter and setter in python? Create a class and create a getter and a setter method in this class.\n",
    "\n",
    "Ans: Getter and setter methods, also known as accessor and mutator methods, are used to control access to and modification of an object's attributes. In Python, you can create these methods to control the behavior of the class's attributes and ensure that the attributes are set and retrieved correctly."
   ]
  },
  {
   "cell_type": "code",
   "execution_count": 4,
   "id": "ce177ebd-b249-4dc1-b40a-d8c10af91f79",
   "metadata": {},
   "outputs": [
    {
     "name": "stdout",
     "output_type": "stream",
     "text": [
      "Kunal\n",
      "Abhay\n"
     ]
    }
   ],
   "source": [
    "class Person:\n",
    "    def __init__(self, name):\n",
    "        self._name = name\n",
    "\n",
    "    def get_name(self):\n",
    "        return self._name\n",
    "\n",
    "    def set_name(self, name):\n",
    "        self._name = name\n",
    "\n",
    "person = Person(\"Kunal\")\n",
    "print(person.get_name()) \n",
    "person.set_name(\"Abhay\")\n",
    "print(person.get_name()) \n"
   ]
  },
  {
   "cell_type": "markdown",
   "id": "66edfa4d-ca06-4f49-8f6e-8bd71d7491c2",
   "metadata": {},
   "source": [
    "### Q5.What is method overriding in python? Write a python code to demonstrate method overriding.\n",
    "\n",
    "Ans: Method overriding is a feature of object-oriented programming languages that allows a child class to provide its own implementation for a method that is already defined in its parent class. This new implementation \"overrides\" the original implementation and is called instead of the parent class's method when the method is invoked on an object of the child class."
   ]
  },
  {
   "cell_type": "code",
   "execution_count": 5,
   "id": "e7891600-7fa2-429c-9a8a-e3e6e2366bf7",
   "metadata": {},
   "outputs": [
    {
     "name": "stdout",
     "output_type": "stream",
     "text": [
      "25\n"
     ]
    }
   ],
   "source": [
    "class Shape:\n",
    "    def area(self):\n",
    "        return 0\n",
    "\n",
    "class Square(Shape):\n",
    "    def __init__(self, length):\n",
    "        self.length = length\n",
    "\n",
    "    def area(self):\n",
    "        return self.length * self.length\n",
    "\n",
    "square = Square(5)\n",
    "print(square.area())\n"
   ]
  },
  {
   "cell_type": "code",
   "execution_count": null,
   "id": "b60040bb-4600-43c9-ab70-51049af55efc",
   "metadata": {},
   "outputs": [],
   "source": []
  }
 ],
 "metadata": {
  "kernelspec": {
   "display_name": "Python 3 (ipykernel)",
   "language": "python",
   "name": "python3"
  },
  "language_info": {
   "codemirror_mode": {
    "name": "ipython",
    "version": 3
   },
   "file_extension": ".py",
   "mimetype": "text/x-python",
   "name": "python",
   "nbconvert_exporter": "python",
   "pygments_lexer": "ipython3",
   "version": "3.10.8"
  }
 },
 "nbformat": 4,
 "nbformat_minor": 5
}
