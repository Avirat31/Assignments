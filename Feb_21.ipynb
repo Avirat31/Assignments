{
 "cells": [
  {
   "cell_type": "markdown",
   "id": "30c5d31f-f73d-4cd9-a191-210b86160f77",
   "metadata": {},
   "source": [
    "# Assignment"
   ]
  },
  {
   "cell_type": "markdown",
   "id": "c89caaee-051f-4ae8-ac15-f676236000be",
   "metadata": {},
   "source": [
    "### Q1. What is Web Scraping? Why is it Used? Give three areas where Web Scraping is used to get data.\n",
    "\n",
    "\n",
    "Ans: Web scraping is the process of extracting data or information from websites, typically using software or scripts that simulate human browsing. It involves retrieving structured data from websites, usually in an automated fashion, by sending HTTP requests to the website's server and parsing the HTML response.\n",
    "\n",
    "Web scraping is used for a variety of reasons, such as market research, data analysis, content aggregation, and monitoring. It enables users to extract large volumes of data quickly and efficiently, which can be useful for various purposes, including:\n",
    "\n",
    "1. Business intelligence: Web scraping is used to collect data about competitors, market trends, customer reviews, and product information to make informed business decisions.\n",
    "\n",
    "2. Academic research: Researchers use web scraping to collect and analyze data from various sources, such as social media, news articles, and scientific publications, for academic studies and research papers.\n",
    "\n",
    "3. Price monitoring: Web scraping is used to monitor prices of products across different websites and marketplaces, helping businesses to stay competitive and adjust their prices accordingly."
   ]
  },
  {
   "cell_type": "markdown",
   "id": "390c5061-1891-4ae0-ab7b-3e2438d46de9",
   "metadata": {},
   "source": [
    "### Q2. What are the different methods used for Web Scraping?\n",
    "\n",
    "Some of the commonly used web scraping methods are:\n",
    "Ther web scraping  are several methods used for , depending on the specific requirements and the type of data being scraped.\n",
    "\n",
    "1. HTML Parsing: This method involves parsing the HTML code of a webpage using programming languages like Python or JavaScript, to extract the desired data. The BeautifulSoup library in Python and jQuery in JavaScript are popular tools for this approach.\n",
    "\n",
    "2. Web Scraping Software: There are several web scraping software tools available that can extract data from websites. These tools usually have a user-friendly interface that makes it easy for non-technical users to extract data from websites without any programming knowledge.\n",
    "\n",
    "3. Using APIs: Some websites provide APIs (Application Programming Interfaces) that allow users to access their data in a structured format. This approach requires knowledge of programming and APIs, but it can be more efficient than other methods.\n",
    "\n",
    "4. Browser Extensions: Browser extensions like Web Scraper, Data Miner, and Scraper can be used to scrape data from websites without any programming knowledge. These extensions allow users to visually select the data to be scraped and export it to a spreadsheet or a database."
   ]
  },
  {
   "cell_type": "markdown",
   "id": "2af6473b-d59d-42ac-a32f-2986e1bfade2",
   "metadata": {},
   "source": [
    "### Q3. What is Beautiful Soup? Why is it used?\n",
    "\n",
    "Ans: Beautiful Soup is a Python library that is commonly used for web scraping. It is designed to parse HTML and XML documents and extract useful information from them.\n",
    "\n",
    "Beautiful Soup is used for web scraping because it makes it easy to extract data from HTML and XML documents. It provides a set of tools that allow users to navigate the HTML and XML document structures and extract data based on various criteria, such as tag names, attributes, and text content."
   ]
  },
  {
   "cell_type": "markdown",
   "id": "4a553110-72f0-4d9c-a0fd-864af3537b1a",
   "metadata": {},
   "source": [
    "### Q4. Why is flask used in this Web Scraping project?\n",
    "\n",
    "Ans: In a web scraping project, Flask can be used to build a web application that allows users to interact with the scraped data. For example, the Flask application could provide a user interface where users can search and filter the scraped data, or it could expose the scraped data through a REST API that can be consumed by other applications.\n",
    "\n",
    "Flask can also be used to automate the scraping process by providing a scheduler that runs the scraping script at regular intervals. This allows the scraped data to be kept up-to-date with the latest changes on the website."
   ]
  },
  {
   "cell_type": "markdown",
   "id": "82bed483-5dbf-4da6-ad7f-d94b028061c3",
   "metadata": {},
   "source": [
    "### Q5. Write the names of AWS services used in this project. Also, explain the use of each service.\n",
    "\n",
    "Ans: "
   ]
  },
  {
   "cell_type": "code",
   "execution_count": null,
   "id": "49e18c9e-a428-4f67-9fe7-4cbd91b6d3e8",
   "metadata": {},
   "outputs": [],
   "source": []
  }
 ],
 "metadata": {
  "kernelspec": {
   "display_name": "Python 3 (ipykernel)",
   "language": "python",
   "name": "python3"
  },
  "language_info": {
   "codemirror_mode": {
    "name": "ipython",
    "version": 3
   },
   "file_extension": ".py",
   "mimetype": "text/x-python",
   "name": "python",
   "nbconvert_exporter": "python",
   "pygments_lexer": "ipython3",
   "version": "3.10.8"
  }
 },
 "nbformat": 4,
 "nbformat_minor": 5
}
