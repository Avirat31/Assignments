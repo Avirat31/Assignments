{
 "cells": [
  {
   "cell_type": "markdown",
   "id": "3952a666-e3bd-475e-a956-5b953eac9b0c",
   "metadata": {},
   "source": [
    "# Assignment"
   ]
  },
  {
   "cell_type": "markdown",
   "id": "f4079198-eaa6-4a2e-901d-524a18380754",
   "metadata": {},
   "source": [
    "### Q1 Write a program to accept percentage from the user and display the grade according to the following crireria?"
   ]
  },
  {
   "cell_type": "code",
   "execution_count": 1,
   "id": "c5ab2f0f-30f7-465d-b9cc-63fa689fda4c",
   "metadata": {},
   "outputs": [
    {
     "name": "stdin",
     "output_type": "stream",
     "text": [
      "Enter your percentage:  86\n"
     ]
    },
    {
     "name": "stdout",
     "output_type": "stream",
     "text": [
      "Your grade is: B\n"
     ]
    }
   ],
   "source": [
    "def get_grade(percentage):\n",
    "    if percentage >= 90:\n",
    "        return \"A\"\n",
    "    elif percentage >= 80:\n",
    "        return \"B\"\n",
    "    elif percentage >= 70:\n",
    "        return \"C\"\n",
    "    elif percentage >= 60:\n",
    "        return \"D\"\n",
    "    else:\n",
    "        return \"F\"\n",
    "\n",
    "percentage = float(input(\"Enter your percentage: \"))\n",
    "\n",
    "grade = get_grade(percentage)\n",
    "\n",
    "print(\"Your grade is:\", grade)\n"
   ]
  },
  {
   "cell_type": "markdown",
   "id": "c4e04ee4-c1b9-4c62-9ed9-b2f2a120166c",
   "metadata": {},
   "source": [
    "### Q2 Write a program to accept the cost proce of a bike and display the road tax to paid according to the following criteria?"
   ]
  },
  {
   "cell_type": "code",
   "execution_count": 2,
   "id": "4cca1030-c6d4-4ad2-80a7-1bda6ae19666",
   "metadata": {},
   "outputs": [
    {
     "name": "stdin",
     "output_type": "stream",
     "text": [
      "Enter the cost price of the bike:  50089\n"
     ]
    },
    {
     "name": "stdout",
     "output_type": "stream",
     "text": [
      "The road tax to be paid is: 5008.900000000001\n"
     ]
    }
   ],
   "source": [
    "def get_road_tax(cost_price):\n",
    "    if cost_price <= 50000:\n",
    "        return cost_price * 0.05\n",
    "    elif cost_price <= 100000:\n",
    "        return cost_price * 0.1\n",
    "    else:\n",
    "        return cost_price * 0.15\n",
    "\n",
    "cost_price = float(input(\"Enter the cost price of the bike: \"))\n",
    "\n",
    "road_tax = get_road_tax(cost_price)\n",
    "\n",
    "print(\"The road tax to be paid is:\", road_tax)"
   ]
  },
  {
   "cell_type": "markdown",
   "id": "9ba46312-4f9d-4a7a-9268-49144d80b55b",
   "metadata": {},
   "source": [
    "### Q3 Accept any city from the user and display monuments of that city?"
   ]
  },
  {
   "cell_type": "code",
   "execution_count": 4,
   "id": "2a389405-41af-4595-8dfd-b86b58f34bbd",
   "metadata": {},
   "outputs": [
    {
     "name": "stdin",
     "output_type": "stream",
     "text": [
      "Enter the name of a city:  agra\n"
     ]
    },
    {
     "name": "stdout",
     "output_type": "stream",
     "text": [
      "The monument of agra is: Taj Mahal\n"
     ]
    }
   ],
   "source": [
    "def get_monument(city):\n",
    "    if city.lower() == \"delhi\":\n",
    "        return \"Red Fort\"\n",
    "    elif city.lower() == \"agra\":\n",
    "        return \"Taj Mahal\"\n",
    "    elif city.lower() == \"jaipur\":\n",
    "        return \"Jal Mahal\"\n",
    "    else:\n",
    "        return \"Monument not found\"\n",
    "\n",
    "city = input(\"Enter the name of a city: \")\n",
    "\n",
    "monument = get_monument(city)\n",
    "\n",
    "print(\"The monument of\", city, \"is:\", monument)\n"
   ]
  },
  {
   "cell_type": "markdown",
   "id": "b471fadd-8dd4-4f75-94e0-4bdc227d50f1",
   "metadata": {},
   "source": [
    "### Q4 Check how many times a given number can be divided by 3 before it is less than or equal to 1o."
   ]
  },
  {
   "cell_type": "code",
   "execution_count": 6,
   "id": "4fba3141-00e7-4371-8808-2bae1ac51dc0",
   "metadata": {},
   "outputs": [
    {
     "name": "stdin",
     "output_type": "stream",
     "text": [
      "Enter a number:  33333\n"
     ]
    },
    {
     "name": "stdout",
     "output_type": "stream",
     "text": [
      "The number can be divided by 3, 8 times before it is less than or equal to 10.\n"
     ]
    }
   ],
   "source": [
    "def get_divisions(number):\n",
    "    divisions = 0\n",
    "    while number > 10:\n",
    "        number = number / 3\n",
    "        divisions += 1\n",
    "    return divisions\n",
    "\n",
    "number = int(input(\"Enter a number: \"))\n",
    "\n",
    "divisions = get_divisions(number)\n",
    "\n",
    "print(\"The number can be divided by 3,\", divisions, \"times before it is less than or equal to 10.\")\n"
   ]
  },
  {
   "cell_type": "markdown",
   "id": "757823b1-45ca-470b-aea7-99499f3c4af3",
   "metadata": {},
   "source": [
    "### Q5 Why and When to use while loop in python give a detailed description with example?\n",
    "\n",
    "Ans: In Python, the 'while' loop is used to execute a block of code repeatedly as long as a given condition is true. The 'while' loop continues to execute until the condition becomes false."
   ]
  },
  {
   "cell_type": "code",
   "execution_count": 7,
   "id": "a5f7bd3d-a8d8-4558-a403-100c86a4ba29",
   "metadata": {},
   "outputs": [
    {
     "name": "stdout",
     "output_type": "stream",
     "text": [
      "1\n",
      "2\n",
      "3\n",
      "4\n",
      "5\n",
      "6\n",
      "7\n",
      "8\n",
      "9\n",
      "10\n"
     ]
    }
   ],
   "source": [
    "# Example of 'While' loop\n",
    "count = 1\n",
    "\n",
    "while count <= 10:\n",
    "    print(count)\n",
    "    count += 1\n"
   ]
  },
  {
   "cell_type": "markdown",
   "id": "3d0055a8-48bd-48d2-afa4-3ef75fcc1176",
   "metadata": {},
   "source": [
    "### Q6 Use nested while loop to print 3 different patten"
   ]
  },
  {
   "cell_type": "code",
   "execution_count": 8,
   "id": "3818afb8-1ff4-4e5c-90d3-87a81d675131",
   "metadata": {},
   "outputs": [
    {
     "name": "stdin",
     "output_type": "stream",
     "text": [
      "Enter the number of rows:  8\n"
     ]
    },
    {
     "name": "stdout",
     "output_type": "stream",
     "text": [
      "*\n",
      "**\n",
      "***\n",
      "****\n",
      "*****\n",
      "******\n",
      "*******\n",
      "********\n"
     ]
    }
   ],
   "source": [
    "# Right angled triangled\n",
    "rows = int(input(\"Enter the number of rows: \"))\n",
    "\n",
    "count = 1\n",
    "\n",
    "while count <= rows:\n",
    "    inner_count = 1\n",
    "    while inner_count <= count:\n",
    "        print(\"*\", end=\"\")\n",
    "        inner_count += 1\n",
    "    print(\"\")\n",
    "    count += 1\n"
   ]
  },
  {
   "cell_type": "code",
   "execution_count": 9,
   "id": "f42fc49f-a5b8-4e24-9a0c-bee3cc83d537",
   "metadata": {},
   "outputs": [
    {
     "name": "stdin",
     "output_type": "stream",
     "text": [
      "Enter the number of rows:  10\n"
     ]
    },
    {
     "name": "stdout",
     "output_type": "stream",
     "text": [
      "**********\n",
      "*        *\n",
      "*        *\n",
      "*        *\n",
      "*        *\n",
      "*        *\n",
      "*        *\n",
      "*        *\n",
      "*        *\n",
      "**********\n"
     ]
    }
   ],
   "source": [
    "# Hollow square\n",
    "rows = int(input(\"Enter the number of rows: \"))\n",
    "\n",
    "count = 1\n",
    "\n",
    "while count <= rows:\n",
    "    inner_count = 1\n",
    "    while inner_count <= rows:\n",
    "        if count == 1 or count == rows or inner_count == 1 or inner_count == rows:\n",
    "            print(\"*\", end=\"\")\n",
    "        else:\n",
    "            print(\" \", end=\"\")\n",
    "        inner_count += 1\n",
    "    print(\"\")\n",
    "    count += 1\n"
   ]
  },
  {
   "cell_type": "code",
   "execution_count": 10,
   "id": "7f8c4332-7f0b-48d2-bc93-cd15585e6c63",
   "metadata": {},
   "outputs": [
    {
     "name": "stdin",
     "output_type": "stream",
     "text": [
      "Enter the number of rows:  10\n"
     ]
    },
    {
     "name": "stdout",
     "output_type": "stream",
     "text": [
      "         *\n",
      "        ***\n",
      "       *****\n",
      "      *******\n",
      "     *********\n",
      "    ***********\n",
      "   *************\n",
      "  ***************\n",
      " *****************\n",
      "*******************\n"
     ]
    }
   ],
   "source": [
    "# Pyramid\n",
    "rows = int(input(\"Enter the number of rows: \"))\n",
    "\n",
    "count = 1\n",
    "\n",
    "while count <= rows:\n",
    "    spaces = rows - count\n",
    "    while spaces > 0:\n",
    "        print(\" \", end=\"\")\n",
    "        spaces -= 1\n",
    "    inner_count = 1\n",
    "    while inner_count <= (2 * count - 1):\n",
    "        print(\"*\", end=\"\")\n",
    "        inner_count += 1\n",
    "    print(\"\")\n",
    "    count += 1\n"
   ]
  },
  {
   "cell_type": "markdown",
   "id": "45516d81-f264-4ea9-94fd-c25e360c80b6",
   "metadata": {},
   "source": [
    "### Q7 Reverse a while loop to display number from 10 to 1."
   ]
  },
  {
   "cell_type": "code",
   "execution_count": 11,
   "id": "ae82c706-dfcf-460a-8412-8bd43b9f5d67",
   "metadata": {},
   "outputs": [
    {
     "name": "stdout",
     "output_type": "stream",
     "text": [
      "10\n",
      "9\n",
      "8\n",
      "7\n",
      "6\n",
      "5\n",
      "4\n",
      "3\n",
      "2\n",
      "1\n"
     ]
    }
   ],
   "source": [
    "count = 10\n",
    "\n",
    "while count >= 1:\n",
    "    print(count)\n",
    "    count -= 1\n"
   ]
  },
  {
   "cell_type": "markdown",
   "id": "0c097008-542a-4cba-8dad-495adbcaf41c",
   "metadata": {},
   "source": [
    "### Q8 Reverse a while loop to display number from 10 to 1."
   ]
  },
  {
   "cell_type": "code",
   "execution_count": 12,
   "id": "2d599cc3-2d07-4914-ada9-2a7ed9dc7d55",
   "metadata": {},
   "outputs": [
    {
     "name": "stdout",
     "output_type": "stream",
     "text": [
      "10\n",
      "9\n",
      "8\n",
      "7\n",
      "6\n",
      "5\n",
      "4\n",
      "3\n",
      "2\n",
      "1\n"
     ]
    }
   ],
   "source": [
    "count = 10\n",
    "\n",
    "while count >= 1:\n",
    "    print(count)\n",
    "    count -= 1\n"
   ]
  },
  {
   "cell_type": "code",
   "execution_count": null,
   "id": "a430e76a-db9d-4032-bc73-a1481f6f4906",
   "metadata": {},
   "outputs": [],
   "source": []
  }
 ],
 "metadata": {
  "kernelspec": {
   "display_name": "Python 3 (ipykernel)",
   "language": "python",
   "name": "python3"
  },
  "language_info": {
   "codemirror_mode": {
    "name": "ipython",
    "version": 3
   },
   "file_extension": ".py",
   "mimetype": "text/x-python",
   "name": "python",
   "nbconvert_exporter": "python",
   "pygments_lexer": "ipython3",
   "version": "3.10.8"
  }
 },
 "nbformat": 4,
 "nbformat_minor": 5
}
