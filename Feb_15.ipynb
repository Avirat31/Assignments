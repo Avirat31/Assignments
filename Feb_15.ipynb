{
 "cells": [
  {
   "cell_type": "markdown",
   "id": "847d2338-3e9b-44ec-867d-83c9619d4115",
   "metadata": {},
   "source": [
    "# Assignment"
   ]
  },
  {
   "cell_type": "markdown",
   "id": "0f0dc2eb-8138-4a59-a302-697d739f708d",
   "metadata": {},
   "source": [
    "### Q1. What is multiprocessing in python? Why is it useful?\n",
    "\n",
    "Ans:  Multiprocessing in Python is a way of running multiple processes concurrently to take advantage of the multiple cores of modern processors. It is a built-in Python module called multiprocessing which provides a simple and efficient way to spawn new processes.\n",
    "\n",
    "In a single process, code runs sequentially, one instruction after the other. However, when using multiprocessing, the code is executed in parallel, with multiple processes executing simultaneously. This can lead to significant improvements in performance, especially when dealing with CPU-bound tasks.\n",
    "\n",
    "Multiprocessing is useful in many scenarios, including:\n",
    "\n",
    "1. Improving performance: By running multiple processes in parallel, multiprocessing can significantly speed up the execution of CPU-bound tasks.\n",
    "\n",
    "2. Utilizing multiple CPU cores: Modern processors often have multiple cores, which can be utilized by multiprocessing to run multiple processes at the same time.\n",
    "\n",
    "3. Running parallel I/O operations: Multiprocessing can be used to perform multiple I/O operations simultaneously, which can help reduce the time it takes to complete these operations.\n",
    "\n",
    "4. Resilience: If a process fails, it won't take down the entire application."
   ]
  },
  {
   "cell_type": "markdown",
   "id": "63a0f3c5-3be9-4908-86e0-2bcf00e8c759",
   "metadata": {},
   "source": [
    "### Q2. What are the differences between multiprocessing and multithreading?\n",
    "\n",
    "Ans: Multiprocessing and multithreading are two techniques used to achieve concurrency in a program, but they differ in several important ways.\n",
    "\n",
    "1. Execution Model: Multiprocessing is based on the execution of multiple processes, each running in its own separate memory space, while multithreading is based on the execution of multiple threads within a single process, sharing the same memory space.\n",
    "\n",
    "2. Resource Management: In multiprocessing, each process has its own resources, such as memory and file handles, and the operating system handles resource allocation and scheduling. In multithreading, all threads share the same resources, which requires careful management of shared data to avoid conflicts.\n",
    "\n",
    "3. CPU Utilization: Multiprocessing can take advantage of multiple CPUs or cores, allowing the parallel execution of multiple tasks. Multithreading can also take advantage of multiple CPUs, but this requires careful management of threads and data to avoid contention and race conditions.\n",
    "\n",
    "4. Memory Overhead: Multiprocessing requires more memory than multithreading, since each process has its own memory space. In contrast, threads share the same memory space, which reduces memory overhead.\n",
    "\n",
    "5. Inter-Process Communication: In multiprocessing, inter-process communication (IPC) is necessary for processes to communicate and synchronize. IPC can be achieved using pipes, queues, shared memory, or other mechanisms. In multithreading, threads can communicate and synchronize using shared memory and locks."
   ]
  },
  {
   "cell_type": "markdown",
   "id": "7a115ad2-61a6-4170-850b-9fbb570d38ae",
   "metadata": {},
   "source": [
    "### Q3. Write a python code to create a process using the multiprocessing module."
   ]
  },
  {
   "cell_type": "code",
   "execution_count": 1,
   "id": "caa79b8a-3b05-4ed7-96c3-2c57017a34d1",
   "metadata": {},
   "outputs": [
    {
     "name": "stdout",
     "output_type": "stream",
     "text": [
      "Worker 1 starting...\n",
      "Worker 1 exiting...\n"
     ]
    }
   ],
   "source": [
    "import multiprocessing\n",
    "\n",
    "def worker(num):\n",
    "    \"\"\"Function to be run in a separate process\"\"\"\n",
    "    print(f\"Worker {num} starting...\")\n",
    "    # do some work here...\n",
    "    print(f\"Worker {num} exiting...\")\n",
    "\n",
    "if __name__ == '__main__':\n",
    "    # Create a new process\n",
    "    p = multiprocessing.Process(target=worker, args=(1,))\n",
    "    # Start the process\n",
    "    p.start()\n",
    "    # Wait for the process to finish\n",
    "    p.join()\n"
   ]
  },
  {
   "cell_type": "markdown",
   "id": "01d9325c-3410-4ea5-bed5-6c8b3d892308",
   "metadata": {},
   "source": [
    "### Q4. What is a multiprocessing pool in python? Why is it used?\n",
    "\n",
    "Ans: A multiprocessing pool in Python is a way to create a group of worker processes that can be used to execute a function on a set of inputs in parallel. The multiprocessing.Pool class provides a simple way to create a pool of worker processes and distribute the workload across them.\n",
    "\n",
    "The Pool class creates a set of worker processes that are available to execute tasks in parallel. The map method of the Pool class can be used to apply a function to a list of inputs, distributing the work across the worker processes. The map method takes a function and an iterable as input, and returns a list of results."
   ]
  },
  {
   "cell_type": "code",
   "execution_count": 2,
   "id": "ba6b81fa-c606-4df9-a064-8592c1220413",
   "metadata": {},
   "outputs": [
    {
     "name": "stdout",
     "output_type": "stream",
     "text": [
      "[1, 4, 9, 16, 25]\n"
     ]
    }
   ],
   "source": [
    "import multiprocessing\n",
    "\n",
    "def square(x):\n",
    "    return x**2\n",
    "\n",
    "if __name__ == '__main__':\n",
    "    # Create a pool with 4 worker processes\n",
    "    with multiprocessing.Pool(processes=4) as pool:\n",
    "        # Apply the square function to a list of numbers using the pool\n",
    "        results = pool.map(square, [1, 2, 3, 4, 5])\n",
    "    print(results)\n"
   ]
  },
  {
   "cell_type": "markdown",
   "id": "b7002390-8bd8-40f9-ab44-2727270d914f",
   "metadata": {},
   "source": [
    "### Q5. How can we create a pool of worker processes in python using the multiprocessing module?"
   ]
  },
  {
   "cell_type": "code",
   "execution_count": 3,
   "id": "356a7f29-44b6-4233-b917-6e22b6e2e710",
   "metadata": {},
   "outputs": [
    {
     "name": "stdout",
     "output_type": "stream",
     "text": [
      "Worker 0 starting...Worker 2 starting...Worker 1 starting...Worker 3 starting...\n",
      "\n",
      "\n",
      "\n",
      "Worker 0 exiting...Worker 2 exiting...Worker 1 exiting...Worker 3 exiting...\n",
      "\n",
      "\n",
      "\n"
     ]
    }
   ],
   "source": [
    "import multiprocessing\n",
    "\n",
    "def worker(num):\n",
    "    \"\"\"Function to be run in a separate process\"\"\"\n",
    "    print(f\"Worker {num} starting...\")\n",
    "    # do some work here...\n",
    "    print(f\"Worker {num} exiting...\")\n",
    "\n",
    "if __name__ == '__main__':\n",
    "    # Create a pool with 4 worker processes\n",
    "    with multiprocessing.Pool(processes=4) as pool:\n",
    "        # Apply the worker function to a range of numbers using the pool\n",
    "        results = pool.map(worker, range(4))\n"
   ]
  },
  {
   "cell_type": "code",
   "execution_count": null,
   "id": "ae332b2f-9c84-4d08-b0ec-9989ced9a223",
   "metadata": {},
   "outputs": [],
   "source": []
  }
 ],
 "metadata": {
  "kernelspec": {
   "display_name": "Python 3 (ipykernel)",
   "language": "python",
   "name": "python3"
  },
  "language_info": {
   "codemirror_mode": {
    "name": "ipython",
    "version": 3
   },
   "file_extension": ".py",
   "mimetype": "text/x-python",
   "name": "python",
   "nbconvert_exporter": "python",
   "pygments_lexer": "ipython3",
   "version": "3.10.8"
  }
 },
 "nbformat": 4,
 "nbformat_minor": 5
}
