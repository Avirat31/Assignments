{
 "cells": [
  {
   "cell_type": "markdown",
   "id": "e62303cf-5655-445d-8ed3-93af5b7a414d",
   "metadata": {},
   "source": [
    "# Assignment"
   ]
  },
  {
   "cell_type": "markdown",
   "id": "6db74978-e8e9-49ad-a7cf-13cd722b68ef",
   "metadata": {},
   "source": [
    "## Q1. What are the three measures of central tendency?\n",
    "\n",
    "Ans: The three measures of central tendency are:\n",
    "\n",
    "Mean: It is the average of all the values in a dataset. It is calculated by summing up all the values and dividing by the total number of values.\n",
    "\n",
    "Median: It is the middle value in a dataset when it is sorted in ascending or descending order. If there is an even number of values, the median is the average of the two middle values.\n",
    "\n",
    "Mode: It is the value(s) that appear(s) most frequently in a dataset. There can be no mode, one mode, or multiple modes in a dataset.\n"
   ]
  },
  {
   "cell_type": "markdown",
   "id": "7c55e118-bd72-4417-9501-9e57db6cfb9e",
   "metadata": {},
   "source": [
    "## Q2. What is the difference between the mean, median, and mode? How are they used to measure the central tendency of a dataset?\n",
    "\n",
    "Ans: The mean, median, and mode are used to measure the central tendency of a dataset:\n",
    "\n",
    "Mean provides the average value and considers all the values in the dataset. It can be influenced by extreme values or outliers.\n",
    "\n",
    "Median represents the middle value, which is not affected by extreme values or outliers. It is useful when the dataset has skewed distributions.\n",
    "\n",
    "Mode identifies the most frequently occurring value(s) and is suitable for categorical or discrete data."
   ]
  },
  {
   "cell_type": "markdown",
   "id": "028ca59f-d729-463a-b1b3-3262828e1e9a",
   "metadata": {},
   "source": [
    "## Q3. Measure the three measures of central tendency for the given height data:\n",
    "[178,177,176,177,178.2,178,175,179,180,175,178.9,176.2,177,172.5,178,176.5]"
   ]
  },
  {
   "cell_type": "code",
   "execution_count": 1,
   "id": "b67777c4-ccc8-47e3-b7f4-9f7cddc38082",
   "metadata": {},
   "outputs": [
    {
     "name": "stdout",
     "output_type": "stream",
     "text": [
      "Mean: 177.01875\n",
      "Median: 177.0\n",
      "Mode: 178\n"
     ]
    }
   ],
   "source": [
    "from statistics import mean, median, mode\n",
    "\n",
    "height_data = [178, 177, 176, 177, 178.2, 178, 175, 179, 180, 175, 178.9, 176.2, 177, 172.5, 178, 176.5]\n",
    "\n",
    "# Calculate mean\n",
    "mean_height = mean(height_data)\n",
    "# Calculate median\n",
    "median_height = median(height_data)\n",
    "# Calculate mode\n",
    "mode_height = mode(height_data)\n",
    "print(\"Mean:\", mean_height)\n",
    "print(\"Median:\", median_height)\n",
    "print(\"Mode:\", mode_height)\n"
   ]
  },
  {
   "cell_type": "markdown",
   "id": "779ea130-723c-4711-ae6d-2bf754b068e4",
   "metadata": {},
   "source": [
    "## Q4. Find the standard deviation for the given data:\n",
    "[178,177,176,177,178.2,178,175,179,180,175,178.9,176.2,177,172.5,178,176.5]"
   ]
  },
  {
   "cell_type": "code",
   "execution_count": 3,
   "id": "62e6e5c8-00d8-4d3d-a78a-52f26a54b7d2",
   "metadata": {},
   "outputs": [
    {
     "name": "stdout",
     "output_type": "stream",
     "text": [
      "Standard Deviation: 1.8472389305844188\n"
     ]
    }
   ],
   "source": [
    "import statistics\n",
    "\n",
    "data = [178, 177, 176, 177, 178.2, 178, 175, 179, 180, 175, 178.9, 176.2, 177, 172.5, 178, 176.5]\n",
    "\n",
    "# Calculate standard deviation\n",
    "std_dev = statistics.stdev(data)\n",
    "\n",
    "print(\"Standard Deviation:\", std_dev)\n"
   ]
  },
  {
   "cell_type": "markdown",
   "id": "3ba887dd-5468-49d2-b2c5-1a3f2396435a",
   "metadata": {},
   "source": [
    "## Q5. How are measures of dispersion such as range, variance, and standard deviation used to describe the spread of a dataset? Provide an example.\n",
    "\n",
    "Ans: Measures of dispersion such as range, variance, and standard deviation are used to describe the spread of a dataset:\n",
    "\n",
    "Range: It is the difference between the maximum and minimum values in a dataset, providing a simple measure of the spread.\n",
    "\n",
    "Variance: It measures how far each value in the dataset is from the mean. It is the average of the squared deviations from the mean.\n",
    "\n",
    "Standard Deviation: It is the square root of the variance and provides a measure of the dispersion around the mean."
   ]
  },
  {
   "cell_type": "markdown",
   "id": "ac612d5c-fa40-46e6-9e59-b9a35de4cfe1",
   "metadata": {},
   "source": [
    "## Q6. What is a Venn diagram?\n",
    "\n",
    "Ans: A Venn diagram is a visual representation of the relationships between different sets. It uses overlapping circles or other shapes to show the common elements or differences between sets."
   ]
  },
  {
   "cell_type": "markdown",
   "id": "63b0e852-29ba-4856-b347-298ba7bea9dc",
   "metadata": {},
   "source": [
    "## Q7. For the two given sets A = (2,3,4,5,6,7) & B = (0,2,6,8,10). Find:\n",
    "(i) A B\n",
    "(ii) A ⋃ B"
   ]
  },
  {
   "cell_type": "code",
   "execution_count": 4,
   "id": "b0d4deb2-5721-4edd-b666-9e1747fd24d1",
   "metadata": {},
   "outputs": [
    {
     "name": "stdout",
     "output_type": "stream",
     "text": [
      "A U B: {0, 2, 3, 4, 5, 6, 7, 8, 10}\n",
      "A ∩ B: {2, 6}\n"
     ]
    }
   ],
   "source": [
    "A = {2, 3, 4, 5, 6, 7}\n",
    "B = {0, 2, 6, 8, 10}\n",
    "\n",
    "# Union of sets A and B\n",
    "union = A.union(B)\n",
    "\n",
    "# Intersection of sets A and B\n",
    "intersection = A.intersection(B)\n",
    "print(\"A U B:\", union)\n",
    "print(\"A ∩ B:\", intersection)\n"
   ]
  },
  {
   "cell_type": "markdown",
   "id": "812672e4-7956-47d6-8d94-391c6901625e",
   "metadata": {},
   "source": [
    "## Q8. What do you understand about skewness in data?\n",
    "\n",
    "Ans:  Skewness in data refers to the asymmetry or lack of symmetry in its distribution. It measures the extent to which a dataset deviates from a symmetrical distribution. Positive skewness indicates a longer right tail, while negative skewness indicates a longer left tail."
   ]
  },
  {
   "cell_type": "markdown",
   "id": "01f907c4-3607-413b-8ce3-3e51c0f7f6a9",
   "metadata": {},
   "source": [
    "## Q9. If a data is right skewed then what will be the position of median with respect to mean?\n",
    "\n",
    "Ans: In a right-skewed data distribution, the median will be positioned to the right of the mean. This is because the presence of outliers or extreme values in the right tail pulls the mean towards higher values."
   ]
  },
  {
   "cell_type": "markdown",
   "id": "fa8398a4-0ef4-4e5c-967e-2998dc469251",
   "metadata": {},
   "source": [
    "## Q10. Explain the difference between covariance and correlation. How are these measures used in statistical analysis?\n",
    "\n",
    "Ans: Covariance and correlation are both measures that describe the relationship between two variables in a dataset. However, they differ in terms of the information they provide and their scale of interpretation.\n",
    "\n",
    "Covariance measures how two variables vary together. It quantifies the degree and direction of the linear relationship between two variables. Covariance can take any value, positive or negative, and its magnitude is not standardized. A positive covariance indicates a direct relationship (both variables move in the same direction), while a negative covariance indicates an inverse relationship (variables move in opposite directions). However, the magnitude of covariance alone does not indicate the strength of the relationship.\n",
    "\n",
    "Correlation, on the other hand, is a standardized measure of the linear relationship between two variables. It measures the strength and direction of the linear association between variables. Correlation always ranges between -1 and +1, where +1 indicates a perfect positive linear relationship, -1 indicates a perfect negative linear relationship, and 0 indicates no linear relationship. Correlation is a more informative measure as it provides a standardized scale, allowing for easy comparison between different relationships.\n",
    "\n",
    "Both covariance and correlation are used in statistical analysis to understand the relationship between variables. Covariance helps identify whether two variables move together or in opposite directions. Correlation, being a standardized measure, provides a more precise indication of the strength and direction of the relationship. They are commonly used in regression analysis, portfolio management, financial modeling, and other statistical applications."
   ]
  },
  {
   "cell_type": "markdown",
   "id": "cf559bdd-b009-4353-88fa-bf147c34bfb5",
   "metadata": {},
   "source": [
    "## Q11. What is the formula for calculating the sample mean? Provide an example calculation for a dataset."
   ]
  },
  {
   "cell_type": "code",
   "execution_count": null,
   "id": "60debfca-8286-41cb-a005-2152f6ceeb78",
   "metadata": {},
   "outputs": [],
   "source": [
    "# Formula for mean\n",
    "mean = sum(dataset) / len(dataset)"
   ]
  },
  {
   "cell_type": "code",
   "execution_count": 6,
   "id": "3b423fa4-9eb2-43d8-b63e-f957d35db6c4",
   "metadata": {},
   "outputs": [
    {
     "name": "stdout",
     "output_type": "stream",
     "text": [
      "Sample Mean: 15.0\n"
     ]
    }
   ],
   "source": [
    "# Example\n",
    "dataset = [10, 12, 15, 18, 20]\n",
    "\n",
    "mean = sum(dataset) / len(dataset)\n",
    "print(\"Sample Mean:\", mean)"
   ]
  },
  {
   "cell_type": "markdown",
   "id": "a7b605e2-77b4-4ebf-bac1-3f7b8f622d15",
   "metadata": {},
   "source": [
    "## Q12. For a normal distribution data what is the relationship between its measure of central tendency?\n",
    "\n",
    "Ans: For a normal distribution, the three measures of central tendency, namely the mean, median, and mode, are equal or very close to each other. In a perfectly symmetrical normal distribution, the mean, median, and mode will all coincide at the center of the distribution.\n",
    "\n",
    "In a normal distribution:\n",
    "\n",
    "The mean represents the average or center of the distribution.\n",
    "The median also represents the center of the distribution since it is the value that splits the data into two equal halves.\n",
    "The mode, if it exists, represents the most frequently occurring value. In a normal distribution, all values have the same frequency, so there is no mode.\n",
    "The close relationship between these measures in a normal distribution reflects its symmetrical nature. However, in skewed or non-normal distributions, the mean, median, and mode may not align, and their values can provide insights into the shape and skewness of the distribution."
   ]
  },
  {
   "cell_type": "markdown",
   "id": "df626a4e-134e-43cf-8378-ff70f224f3d8",
   "metadata": {},
   "source": [
    "## Q13. How is covariance different from correlation?\n",
    "\n",
    "Ans: Covariance:\n",
    "\n",
    "Covariance measures the extent to which two variables vary together.\n",
    "It measures the direction (positive or negative) and magnitude of the linear relationship between two variables.\n",
    "Covariance can take any value, positive or negative, depending on the direction of the relationship.\n",
    "However, the magnitude of covariance is not standardized, making it difficult to compare the strength of relationships across different datasets.\n",
    "The formula for covariance between two variables X and Y is: Cov(X, Y) = Σ[(X - μX) * (Y - μY)] / (n - 1), where μX and μY are the means of X and Y respectively, and n is the number of data points.\n",
    "\n",
    "Correlation:\n",
    "\n",
    "Correlation measures the strength and direction of the linear relationship between two variables.\n",
    "It is a standardized measure that ranges from -1 to +1, providing a more interpretable and comparable measure of the relationship.\n",
    "A correlation coefficient of +1 indicates a perfect positive linear relationship, -1 indicates a perfect negative linear relationship, and 0 indicates no linear relationship.\n",
    "Correlation is calculated by dividing the covariance by the product of the standard deviations of the two variables.\n",
    "The formula for correlation between two variables X and Y is: Corr(X, Y) = Cov(X, Y) / (σX * σY), where Cov(X, Y) is the covariance, and σX and σY are the standard deviations of X and Y respectively."
   ]
  },
  {
   "cell_type": "markdown",
   "id": "d7294e12-e08b-4958-9d12-e8feae76898d",
   "metadata": {},
   "source": [
    "## Q14. How do outliers affect measures of central tendency and dispersion? Provide an example.\n",
    "\n",
    "Ans: \n",
    "### Measures of Central Tendency:\n",
    "\n",
    "Mean: Outliers have a strong influence on the mean because they pull the average towards their extreme values. A single outlier that deviates greatly from the other values can greatly skew the mean.\n",
    "\n",
    "Median: Outliers have less impact on the median since it is less sensitive to extreme values. The median is resistant to the influence of outliers as it only considers the middle value or values.\n",
    "\n",
    "Mode: Outliers generally do not affect the mode since it represents the most frequently occurring value(s). However, in cases where outliers become the most frequent values, the mode may change.\n",
    "\n",
    "### Measures of Dispersion:\n",
    "\n",
    "Range: Outliers have a direct impact on the range since it is based on the difference between the maximum and minimum values. Outliers that are far from the bulk of the data can significantly increase the range.\n",
    "\n",
    "Variance and Standard Deviation: Outliers can increase the variance and standard deviation by adding more variability to the data. The squared deviations from the mean, used in the calculation of variance and standard deviation, are influenced by outliers and result in larger values."
   ]
  },
  {
   "cell_type": "code",
   "execution_count": 11,
   "id": "61825238-202e-42c2-b2f6-be3129728557",
   "metadata": {},
   "outputs": [
    {
     "name": "stdout",
     "output_type": "stream",
     "text": [
      "Measures of Central Tendency:\n",
      "Mean: 106.41666666666667\n",
      "Median: 99.0\n",
      "Mode: 80\n",
      "\n",
      "Measures of Dispersion:\n",
      "Range: 120\n",
      "Variance: 904.4097222222223\n",
      "Standard Deviation: 30.073405564089715\n"
     ]
    },
    {
     "name": "stderr",
     "output_type": "stream",
     "text": [
      "/tmp/ipykernel_77/2696542962.py:10: FutureWarning: Unlike other reduction functions (e.g. `skew`, `kurtosis`), the default behavior of `mode` typically preserves the axis it acts along. In SciPy 1.11.0, this behavior will change: the default value of `keepdims` will become False, the `axis` over which the statistic is taken will be eliminated, and the value None will no longer be accepted. Set `keepdims` to True or False to avoid this warning.\n",
      "  mode = stats.mode(dataset)\n"
     ]
    }
   ],
   "source": [
    "import numpy as np\n",
    "from scipy import stats\n",
    "\n",
    "# Example dataset with an outlier\n",
    "dataset = [80, 85, 90, 92, 95, 98, 100, 102, 105, 110, 120, 200]\n",
    "\n",
    "# Calculate measures of central tendency\n",
    "mean = np.mean(dataset)\n",
    "median = np.median(dataset)\n",
    "mode = stats.mode(dataset)\n",
    "\n",
    "# Calculate measures of dispersion\n",
    "range_val = np.ptp(dataset)\n",
    "variance = np.var(dataset)\n",
    "std_deviation = np.std(dataset)\n",
    "\n",
    "# Print the results\n",
    "print(\"Measures of Central Tendency:\")\n",
    "print(\"Mean:\", mean)\n",
    "print(\"Median:\", median)\n",
    "print(\"Mode:\", mode.mode[0])\n",
    "\n",
    "print(\"\\nMeasures of Dispersion:\")\n",
    "print(\"Range:\", range_val)\n",
    "print(\"Variance:\", variance)\n",
    "print(\"Standard Deviation:\", std_deviation)\n"
   ]
  },
  {
   "cell_type": "code",
   "execution_count": null,
   "id": "bbe19605-3470-4c4a-b8d2-f905d01c8338",
   "metadata": {},
   "outputs": [],
   "source": []
  }
 ],
 "metadata": {
  "kernelspec": {
   "display_name": "Python 3 (ipykernel)",
   "language": "python",
   "name": "python3"
  },
  "language_info": {
   "codemirror_mode": {
    "name": "ipython",
    "version": 3
   },
   "file_extension": ".py",
   "mimetype": "text/x-python",
   "name": "python",
   "nbconvert_exporter": "python",
   "pygments_lexer": "ipython3",
   "version": "3.10.8"
  }
 },
 "nbformat": 4,
 "nbformat_minor": 5
}
