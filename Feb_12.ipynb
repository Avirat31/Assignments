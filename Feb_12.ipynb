{
 "cells": [
  {
   "cell_type": "markdown",
   "id": "beb54fbc-e368-4018-aa63-af5228abb402",
   "metadata": {},
   "source": [
    "# Assignment"
   ]
  },
  {
   "cell_type": "markdown",
   "id": "70572323-0f45-4e19-a45d-094d267eb3b5",
   "metadata": {},
   "source": [
    "### Q1. What is an Exception in python? Write the difference between Exception and Syntax error.\n",
    "\n",
    "Ans: An exception in Python is an error that occurs during the execution of a program that disrupts the normal flow of the program.\n",
    "\n",
    "A syntax error, on the other hand, is a type of error that occurs when the program's syntax is incorrect, which means that the code is not written according to the rules of the language.\n",
    "\n",
    "The main difference between an exception and a syntax error is that a syntax error is a mistake in the program's code, which can be detected by the compiler or interpreter before the program is executed, while an exception is an error that occurs during program execution due to unexpected conditions or input."
   ]
  },
  {
   "cell_type": "markdown",
   "id": "59b778dc-9a84-48f5-adde-3ded4a715e3f",
   "metadata": {},
   "source": [
    "### Q2. What happens when an exception is not handled? Explain with an example.\n",
    "\n",
    "Ans: When an exception is not handled in a program, it will cause the program to terminate abruptly, and an error message will be displayed that includes information about the type of the exception and where it occurred in the program. This is known as an unhandled exception."
   ]
  },
  {
   "cell_type": "code",
   "execution_count": 3,
   "id": "fcd5818b-8b82-4df8-8df4-4530f7854d7d",
   "metadata": {},
   "outputs": [
    {
     "name": "stdin",
     "output_type": "stream",
     "text": [
      "Enter a number:  ewe\n"
     ]
    },
    {
     "name": "stdout",
     "output_type": "stream",
     "text": [
      "Invalid input. Please enter a number.\n"
     ]
    }
   ],
   "source": [
    "# Example of exception handling\n",
    "try:\n",
    "    num1 = int(input(\"Enter a number: \"))\n",
    "    num2 = int(input(\"Enter another number: \"))\n",
    "    result = num1 / num2\n",
    "    print(result)\n",
    "except ValueError:\n",
    "    print(\"Invalid input. Please enter a number.\")\n"
   ]
  },
  {
   "cell_type": "markdown",
   "id": "1b83a711-1885-4aa0-b977-b825e2077ae2",
   "metadata": {},
   "source": [
    "### Q3. Which Python statements are used to catch and handle exceptions? Explain with an example.\n",
    "\n",
    "Ans: In Python, the 'try' and 'except' statements are used to catch and handle exceptions.\n",
    "\n",
    "The 'try' statement is used to enclose the code that may raise an exception, while the 'except' statement is used to specify what should happen if an exception is raised."
   ]
  },
  {
   "cell_type": "code",
   "execution_count": 4,
   "id": "0e757c79-8cb8-4036-aab4-8ec589f08c2d",
   "metadata": {},
   "outputs": [
    {
     "name": "stdin",
     "output_type": "stream",
     "text": [
      "Enter a number:  45\n",
      "Enter another number:  ty\n"
     ]
    },
    {
     "name": "stdout",
     "output_type": "stream",
     "text": [
      "Invalid input. Please enter a number.\n"
     ]
    }
   ],
   "source": [
    "#Example\n",
    "try:\n",
    "    num1 = int(input(\"Enter a number: \"))\n",
    "    num2 = int(input(\"Enter another number: \"))\n",
    "    result = num1 / num2\n",
    "    print(result)\n",
    "except ValueError:\n",
    "    print(\"Invalid input. Please enter a number.\")\n",
    "except ZeroDivisionError:\n",
    "    print(\"Cannot divide by zero.\")\n"
   ]
  },
  {
   "cell_type": "markdown",
   "id": "d476bcb5-334b-4dd9-b69e-319a30480644",
   "metadata": {},
   "source": [
    "### Q4. Explain with an example:\n",
    "#### a. try and else\n",
    "#### b. finally\n",
    "#### c. raise"
   ]
  },
  {
   "cell_type": "markdown",
   "id": "e6cd8e92-e308-4a2e-803c-74bf781adc3e",
   "metadata": {},
   "source": [
    "Ans: try and else:\n",
    "In Python, the else block can be used along with the try and except blocks to specify code that should be executed only if no exception is raised."
   ]
  },
  {
   "cell_type": "code",
   "execution_count": 5,
   "id": "fe9e50e9-b955-43bc-a94c-802557f068a3",
   "metadata": {},
   "outputs": [
    {
     "name": "stdin",
     "output_type": "stream",
     "text": [
      "Enter a number:  33\n",
      "Enter another number:  av\n"
     ]
    },
    {
     "name": "stdout",
     "output_type": "stream",
     "text": [
      "Invalid input. Please enter a number.\n"
     ]
    }
   ],
   "source": [
    "# Example\n",
    "try:\n",
    "    num1 = int(input(\"Enter a number: \"))\n",
    "    num2 = int(input(\"Enter another number: \"))\n",
    "    result = num1 / num2\n",
    "except ValueError:\n",
    "    print(\"Invalid input. Please enter a number.\")\n",
    "except ZeroDivisionError:\n",
    "    print(\"Cannot divide by zero.\")\n",
    "else:\n",
    "    print(\"The result is:\", result)\n"
   ]
  },
  {
   "cell_type": "markdown",
   "id": "36193764-d48f-41cb-894d-55d80544f1ea",
   "metadata": {},
   "source": [
    "--------------------------------------------------------------\n",
    "finally:\n",
    "\n",
    "In Python, the finally block can be used along with the try and except blocks to specify code that should be executed regardless of whether an exception is raised"
   ]
  },
  {
   "cell_type": "code",
   "execution_count": null,
   "id": "abbc1cf6-aaa6-48d7-888e-aa8b0afc1455",
   "metadata": {},
   "outputs": [],
   "source": [
    "# Example of finally\n",
    "try:\n",
    "    f = open(\"example.txt\", \"r\")\n",
    "    content = f.read()\n",
    "except IOError:\n",
    "    print(\"Error: File not found or could not be read.\")\n",
    "else:\n",
    "    print(content)\n",
    "finally:\n",
    "    f.close()\n"
   ]
  },
  {
   "cell_type": "markdown",
   "id": "5bf5c012-435c-4b25-bee3-ff394110f0ab",
   "metadata": {},
   "source": [
    "------------------------------------------------------------------\n",
    "raise:\n",
    "\n",
    "In Python, the raise statement can be used to raise an exception manually."
   ]
  },
  {
   "cell_type": "code",
   "execution_count": 8,
   "id": "13df80f5-59c8-40fc-83bd-1c814577a1c1",
   "metadata": {},
   "outputs": [],
   "source": [
    "def calculate_average(numbers):\n",
    "    if len(numbers) == 0:\n",
    "        raise ValueError(\"Cannot calculate average of an empty list.\")\n",
    "    return sum(numbers) / len(numbers)\n"
   ]
  },
  {
   "cell_type": "markdown",
   "id": "a0cb450e-9b21-425c-b9d7-c5a8f8da6ec9",
   "metadata": {},
   "source": [
    "### Q5. What are Custome Exceptions in python? Why do we need Custom Exceptions? Explain with an example.\n",
    "\n",
    "Ans: In Python, custom exceptions are user-defined exceptions that allow us to define our own exception types. We need custom exceptions to handle specific errors that are not covered by the built-in exception types or to provide more specific error messages to the users."
   ]
  },
  {
   "cell_type": "code",
   "execution_count": 9,
   "id": "35f1cd6a-b751-43c3-8818-f26c50c2a144",
   "metadata": {},
   "outputs": [],
   "source": [
    "class InvalidPasswordError(Exception):\n",
    "    pass\n"
   ]
  },
  {
   "cell_type": "code",
   "execution_count": 10,
   "id": "61820b20-3691-417c-bf9d-cc71901090b1",
   "metadata": {},
   "outputs": [],
   "source": [
    "def login(username, password):\n",
    "    if password != \"secret\":\n",
    "        raise InvalidPasswordError(\"Invalid password\")\n",
    "    else:\n",
    "        print(\"Login successful\")\n"
   ]
  },
  {
   "cell_type": "markdown",
   "id": "af345559-2ea6-4af3-ab1e-80886e0d49d3",
   "metadata": {},
   "source": [
    "### Q6. Create a custom exception class. Use this class to handle an exception"
   ]
  },
  {
   "cell_type": "code",
   "execution_count": 11,
   "id": "c609c1a8-bdb3-44d8-8e27-35087ebafb0a",
   "metadata": {},
   "outputs": [
    {
     "name": "stdout",
     "output_type": "stream",
     "text": [
      "Cannot calculate square root of a negative number\n"
     ]
    }
   ],
   "source": [
    "class NegativeNumberError(Exception):\n",
    "    pass\n",
    "\n",
    "def calculate_square_root(num):\n",
    "    if num < 0:\n",
    "        raise NegativeNumberError(\"Cannot calculate square root of a negative number\")\n",
    "    return num ** 0.5\n",
    "\n",
    "try:\n",
    "    result = calculate_square_root(-1)\n",
    "    print(result)\n",
    "except NegativeNumberError as e:\n",
    "    print(e)\n"
   ]
  },
  {
   "cell_type": "code",
   "execution_count": null,
   "id": "364ec89a-9fff-4560-8821-398635ed27b1",
   "metadata": {},
   "outputs": [],
   "source": []
  }
 ],
 "metadata": {
  "kernelspec": {
   "display_name": "Python 3 (ipykernel)",
   "language": "python",
   "name": "python3"
  },
  "language_info": {
   "codemirror_mode": {
    "name": "ipython",
    "version": 3
   },
   "file_extension": ".py",
   "mimetype": "text/x-python",
   "name": "python",
   "nbconvert_exporter": "python",
   "pygments_lexer": "ipython3",
   "version": "3.10.8"
  }
 },
 "nbformat": 4,
 "nbformat_minor": 5
}
