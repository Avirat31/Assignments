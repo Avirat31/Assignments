{
 "cells": [
  {
   "cell_type": "markdown",
   "id": "7027fb48-5956-4d11-8f69-475ce765a48a",
   "metadata": {},
   "source": [
    "# Assignment"
   ]
  },
  {
   "cell_type": "markdown",
   "id": "8e740802-15e7-43a7-b1a5-2bd0908bc9b1",
   "metadata": {},
   "source": [
    "## Q1: What is the difference between a t-test and a z-test? Provide an example scenario where you would use each type of test.\n",
    "\n",
    "Ans:A t-test is used when the population standard deviation is unknown and needs to be estimated from the sample. It is appropriate when the sample size is small (typically less than 30) or when the population is assumed to follow a normal distribution. For example, if you want to compare the mean heights of two groups of students, with a sample size of 25 in each group and unknown population standard deviation, you would use a t-test.\n",
    "\n",
    "On the other hand, a z-test is used when the population standard deviation is known, or when the sample size is large (typically greater than 30). It assumes a normal distribution of the population. For instance, if you want to compare the mean weights of two large populations (e.g., the mean weights of adult males and females in a country), with sample sizes of 100 or more in each group, and known population standard deviation, you would use a z-test."
   ]
  },
  {
   "cell_type": "markdown",
   "id": "fdbf18eb-b041-40d2-929a-09d92951649b",
   "metadata": {},
   "source": [
    "## Q2: Differentiate between one-tailed and two-tailed tests.\n",
    "\n",
    "Ans: The statistical significance is evaluated in only one direction. For example, if you want to test whether a new drug increases blood pressure, the one-tailed test would focus on whether the drug has a positive effect (increase) on blood pressure.\n",
    "\n",
    "In a two-tailed test, the hypothesis does not specify a direction; it only tests whether there is a significant difference or relationship. The statistical significance is evaluated in both directions. For example, if you want to test whether a new teaching method affects test scores, the two-tailed test would examine whether there is a significant difference in test scores, regardless of whether they are higher or lower."
   ]
  },
  {
   "cell_type": "markdown",
   "id": "f04769c1-6941-42b7-b2d0-20c0ab437e37",
   "metadata": {},
   "source": [
    "## Q3: Explain the concept of Type 1 and Type 2 errors in hypothesis testing. Provide an example scenario for each type of error.\n",
    "\n",
    "Ans: Type I error (False Positive) occurs when the null hypothesis is wrongly rejected, indicating that there is an effect or relationship when there is actually none in the population. This error represents concluding that there is a significant difference or relationship when, in reality, there is not. For example, rejecting the null hypothesis that a person is innocent when they are actually innocent.\n",
    "\n",
    "Type II error (False Negative) occurs when the null hypothesis is wrongly accepted, indicating that there is no effect or relationship when there is actually one in the population. This error represents failing to detect a significant difference or relationship when it exists. For example, failing to reject the null hypothesis that a person is guilty when they are actually innocent."
   ]
  },
  {
   "cell_type": "markdown",
   "id": "41cb32a9-b7d1-439a-aa31-baf72a6cf105",
   "metadata": {},
   "source": [
    "## Q4: Explain Bayes's theorem with an example.\n",
    "\n",
    "Ans: : Bayes's theorem is a fundamental concept in probability theory that calculates the probability of an event occurring based on prior knowledge or beliefs about the event and new evidence.\n",
    "\n",
    "Bayes's theorem is expressed as:\n",
    "\n",
    "P(A|B) = (P(B|A) * P(A)) / P(B)\n",
    "\n",
    "where:\n",
    "P(A|B) is the posterior probability of event A given evidence B,\n",
    "P(B|A) is the likelihood of evidence B given event A,\n",
    "P(A) is the prior probability of event A,\n",
    "P(B) is the probability of evidence B.\n",
    "\n",
    "An example scenario: Suppose you want to determine the probability of a patient having a particular disease given the results of a diagnostic test. P(A) represents the prior probability of having the disease based on general population data, P(B|A) represents the probability of the test being positive given that the patient has the disease (sensitivity), P(A|B) represents the updated probability of having the disease given the positive test result, and P(B) represents the probability of a positive test result."
   ]
  },
  {
   "cell_type": "markdown",
   "id": "34a824b4-7be0-4130-96a1-ee093bd1a098",
   "metadata": {},
   "source": [
    "## Q5: What is a confidence interval? How to calculate the confidence interval, explain with an example.\n",
    "\n",
    "Ans: A confidence interval is a range of values within which a population parameter, such as a mean or proportion, is estimated to lie with a certain level of confidence.\n",
    "\n",
    "To calculate a confidence interval, you need the sample mean, sample standard deviation (or standard error), sample size, and desired level of confidence. The formula for a confidence interval for the population mean is:\n",
    "\n",
    "Confidence Interval = Sample Mean ± (Critical Value * Standard Error)\n",
    "\n",
    "For example, if you have a sample of 100 students and want to estimate the average test score of the entire student population with a 95% confidence level, you would calculate the confidence interval using the sample mean, sample standard deviation (or standard error), and the critical value corresponding to a 95% confidence level from the t-distribution or z-distribution."
   ]
  },
  {
   "cell_type": "markdown",
   "id": "4ef8a63b-4288-4973-8dac-bc0e2e3f358d",
   "metadata": {},
   "source": [
    "## Q6. Use Bayes' Theorem to calculate the probability of an event occurring given prior knowledge of the event's probability and new evidence. Provide a sample problem and solution.\n",
    "\n",
    "Ans: \n",
    "A doctor is trying to determine whether a patient has a certain disease. The doctor knows that the disease is relatively rare, with a prior probability of 0.01. However, the doctor also knows that the patient has been experiencing some symptoms that are consistent with the disease. The doctor estimates that the probability of the patient experiencing these symptoms given that they have the disease is 0.8. What is the probability that the patient actually has the disease given that they are experiencing these symptoms?\n",
    "\n",
    "Solution:\n",
    "\n",
    "We can use Bayes' Theorem to calculate the probability of the patient having the disease given that they are experiencing the symptoms:\n",
    "\n",
    "\n",
    "P(disease | symptoms) = (P(symptoms | disease) * P(disease)) / P(symptoms)\n",
    "\n",
    "P(disease | symptoms) is the probability that the patient has the disease given that they are experiencing the symptoms. This is what we are trying to calculate.\n",
    "P(symptoms | disease) is the probability that the patient experiences the symptoms given that they have the disease. This is the doctor's estimate of 0.8.\n",
    "P(disease) is the prior probability of the patient having the disease. This is the doctor's knowledge that the disease is relatively rare, with a probability of 0.01.\n",
    "P(symptoms) is the probability that the patient experiences the symptoms regardless of whether they have the disease. This is the probability that the patient would experience these symptoms even if they did not have the disease. The doctor does not know this probability, so we will assume it to be 1.\n",
    "\n",
    "P(disease | symptoms) = (0.8 * 0.01) / 1\n",
    "= 0.08\n",
    "Therefore, the probability that the patient actually has the disease given that they are experiencing the symptoms is 0.08, or 8%.\n",
    "\n",
    "This means that, while the symptoms are consistent with the disease, they are not very strong evidence that the patient actually has the disease. The doctor should still consider other factors, such as the patient's medical history and family history, before making a diagnosis."
   ]
  },
  {
   "cell_type": "markdown",
   "id": "0c78a2b9-168a-42e6-901d-aecb68079603",
   "metadata": {},
   "source": [
    "## Q7. Calculate the 95% confidence interval for a sample of data with a mean of 50 and a standard deviation of 5. Interpret the results.\n",
    "\n",
    "Ans: Assuming the data follows a normal distribution and using a z-distribution for a large sample, the critical value for a 95% confidence level is approximately 1.96.\n",
    "\n",
    "The margin of error is calculated as:\n",
    "\n",
    "Margin of Error = Critical Value * (Standard Deviation / sqrt(Sample Size))\n",
    "\n",
    "In this case, the standard deviation is 5 and the sample size is not given, so let's assume a sample size of 100.\n",
    "\n",
    "Margin of Error = 1.96 * (5 / sqrt(100)) = 0.98\n",
    "\n",
    "The confidence interval is calculated as:\n",
    "\n",
    "Confidence Interval = Sample Mean ± Margin of Error\n",
    "\n",
    "Confidence Interval = 50 ± 0.98\n",
    "\n",
    "Interpreting the results: The 95% confidence interval for the population mean lies between (49.02, 50.98). This means that we can be 95% confident that the true population mean falls within this range based on the sample data."
   ]
  },
  {
   "cell_type": "markdown",
   "id": "baba68b7-c255-44ae-a28e-433f7b527fa1",
   "metadata": {},
   "source": [
    "## Q8. What is the margin of error in a confidence interval? How does sample size affect the margin of error? Provide an example of a scenario where a larger sample size would result in a smaller margin of error.\n",
    "\n",
    "Ans: The margin of error in a confidence interval is the range around the point estimate (such as the sample mean) within which the true population parameter is estimated to lie with a certain level of confidence. It represents the potential variability or uncertainty in the estimation.\n",
    "\n",
    "Sample size affects the margin of error inversely. As the sample size increases, the margin of error decreases. This is because larger sample sizes provide more representative and reliable information about the population, leading to a more precise estimate. A larger sample size reduces the variability in the data, resulting in a smaller margin of error.\n",
    "\n",
    "For example, consider a survey to estimate the proportion of people in a city who support a particular policy. If you survey a small random sample of 100 individuals, the margin of error might be, say, ±5%. However, if you increase the sample size to 1,000 individuals, the margin of error may reduce to ±2%. The larger sample provides more precise estimates and decreases the uncertainty associated with the estimation."
   ]
  },
  {
   "cell_type": "markdown",
   "id": "af0927e1-1d31-41d6-a4c6-32c96a1f7d1e",
   "metadata": {},
   "source": [
    "## Q9. Calculate the z-score for a data point with a value of 75, a population mean of 70, and a population standard deviation of 5. Interpret the results.\n",
    "\n",
    "Ans:  To calculate the z-score for a data point, you use the formula:\n",
    "\n",
    "z = (X - μ) / σ\n",
    "\n",
    "where X is the data point, μ is the population mean, and σ is the population standard deviation.\n",
    "\n",
    "In this case, X = 75, μ = 70, and σ = 5. Plugging these values into the formula:\n",
    "\n",
    "z = (75 - 70) / 5 = 1\n",
    "\n",
    "Interpreting the results: The z-score of 1 indicates that the data point of 75 is 1 standard deviation above the population mean of 70. It tells us how many standard deviations away the data point is from the mean and provides a measure of its relative position within the population distribution."
   ]
  },
  {
   "cell_type": "markdown",
   "id": "6c93e3f7-79de-4b42-92a8-45673d8a30a2",
   "metadata": {},
   "source": [
    "## Q10. In a study of the effectiveness of a new weight loss drug, a sample of 50 participants lost an average of 6 pounds with a standard deviation of 2.5 pounds. Conduct a hypothesis test to determine if the drug is significantly effective at a 95% confidence level using a t-test.\n",
    "\n",
    "Ans:  To conduct a hypothesis test to determine if the weight loss drug is significantly effective, we can set up the following hypotheses:\n",
    "\n",
    "Null Hypothesis (H0): The average weight loss with the drug is not significantly different from zero. μ = 0\n",
    "Alternative Hypothesis (Ha): The average weight loss with the drug is significantly different from zero. μ ≠ 0\n",
    "\n",
    "Using the sample data: sample mean (x̄) = 6, sample standard deviation (s) = 2.5, sample size (n) = 50, and a significance level of 0.05, we can perform a t-test.\n",
    "\n",
    "The t-statistic is calculated as:\n",
    "\n",
    "t = (x̄ - μ) / (s / sqrt(n))\n",
    "\n",
    "t = (6 - 0) / (2.5 / sqrt(50)) = 12.73\n",
    "\n",
    "With 50 - 1 = 49 degrees of freedom (n - 1), we can compare the calculated t-value to the critical t-value from the t-distribution with α = 0.05 and 49 degrees of freedom. If the calculated t-value falls within the rejection region (i.e., outside the critical values), we reject the null hypothesis."
   ]
  },
  {
   "cell_type": "markdown",
   "id": "6f26a295-81c1-479f-8e07-f6f9686161cf",
   "metadata": {},
   "source": [
    "## Q11. In a survey of 500 people, 65% reported being satisfied with their current job. Calculate the 95% confidence interval for the true proportion of people who are satisfied with their job.\n",
    "\n",
    "Ans: To calculate the 95% confidence interval for the proportion of people satisfied with their job, we can use the formula:\n",
    "\n",
    "Confidence Interval = sample proportion ± (Critical Value * Standard Error)\n",
    "\n",
    "The sample proportion is 65% or 0.65, and the sample size is 500. The standard error is calculated as:\n",
    "\n",
    "Standard Error = sqrt((p * (1 - p)) / n)\n",
    "\n",
    "Standard Error = sqrt((0.65 * 0.35) / 500) ≈ 0.020\n",
    "\n",
    "The critical value corresponding to a 95% confidence level is approximately 1.96 (for a large sample size). Plugging these values into the formula:\n",
    "\n",
    "Confidence Interval = 0.65 ± (1.96 * 0.020)\n",
    "\n",
    "Interpreting the results: The 95% confidence interval for the true proportion of people satisfied with their job lies between (0.611, 0.689). This means that we can be 95% confident that the true proportion falls within this range based on the sample data."
   ]
  },
  {
   "cell_type": "markdown",
   "id": "06bbc746-f04e-455e-9577-7ce70a2be39c",
   "metadata": {},
   "source": [
    "## Q12. A researcher is testing the effectiveness of two different teaching methods on student performance. Sample A has a mean score of 85 with a standard deviation of 6, while sample B has a mean score of 82 with a standard deviation of 5. Conduct a hypothesis test to determine if the two teaching methods have a significant difference in student performance using a t-test with a significance level of 0.01.\n",
    "\n",
    "Ans: To conduct a hypothesis test to determine if the two teaching methods have a significant difference in student performance, we can set up the following hypotheses:\n",
    "\n",
    "Null Hypothesis (H0): The mean scores for the two teaching methods are not significantly different. μ1 = μ2\n",
    "Alternative Hypothesis (Ha): The mean scores for the two teaching methods are significantly different. μ1 ≠ μ2\n",
    "\n",
    "Using the sample data: Sample A mean (x̄1) = 85, Sample A standard deviation (s1) = 6, Sample A size (n1) = 30, Sample B mean (x̄2) = 82, Sample B standard deviation (s2) = 5, Sample B size (n2) = 40, and a significance level of 0.01, we can perform a t-test.\n",
    "\n",
    "The pooled standard error is calculated as:\n",
    "\n",
    "Standard Error = sqrt(((s1^2 / n1) + (s2^2 / n2)) / (n1 + n2 - 2))\n",
    "\n",
    "Plugging in the values:\n",
    "\n",
    "Standard Error = sqrt(((6^2 / 30) + (5^2 / 40)) / (30 + 40 - 2)) ≈ 1.18\n",
    "\n",
    "The t-statistic is calculated as:\n",
    "\n",
    "t = (x̄1 - x̄2) / Standard Error\n",
    "\n",
    "t = (85 - 82) / 1.18 ≈ 2.54\n",
    "\n",
    "With degrees of freedom equal to (n1 + n2 - 2) = 30 + 40 - 2 = 68, we can compare the calculated t-value to the critical t-value from the t-distribution with α = 0.01 and 68 degrees of freedom. If the calculated t-value falls within the rejection region (i.e., outside the critical values), we reject the null hypothesis."
   ]
  },
  {
   "cell_type": "markdown",
   "id": "e704ea5e-36a3-412f-9877-5191639b4211",
   "metadata": {},
   "source": [
    "## Q13. A population has a mean of 60 and a standard deviation of 8. A sample of 50 observations has a mean of 65. Calculate the 90% confidence interval for the true population mean.\n",
    "\n",
    "Ans: To calculate the 90% confidence interval for the true population mean, we can use the formula:\n",
    "\n",
    "Confidence Interval = sample mean ± (Critical Value * (Standard Deviation / sqrt(Sample Size)))\n",
    "\n",
    "The sample mean is 65, the sample size is 50, the population mean is unknown, and the population standard deviation is 8.\n",
    "\n",
    "The critical value corresponding to a 90% confidence level can be obtained from the t-distribution or z-distribution, depending on the sample size and assumptions. Assuming a large enough sample size, we can use the z-distribution. For a 90% confidence level, the critical value is approximately 1.645.\n",
    "\n",
    "Plugging in the values:\n",
    "\n",
    "Confidence Interval = 65 ± (1.645 * (8 / sqrt(50)))\n",
    "\n",
    "Interpreting the results: The 90% confidence interval for the true population mean lies between two values determined by the calculation."
   ]
  },
  {
   "cell_type": "markdown",
   "id": "2f7447d5-0856-4733-95d0-9fe47064d73b",
   "metadata": {},
   "source": [
    "## Q14. In a study of the effects of caffeine on reaction time, a sample of 30 participants had an average reaction time of 0.25 seconds with a standard deviation of 0.05 seconds. Conduct a hypothesis test to determine if the caffeine has a significant effect on reaction time at a 90% confidence level using a t-test.\n",
    "\n",
    "Ans: To conduct a hypothesis test to determine if caffeine has a significant effect on reaction time, we can set up the following hypotheses:\n",
    "\n",
    "Null Hypothesis (H0): Caffeine has no significant effect on reaction time. μ = μ0 (where μ0 is a hypothetical population mean)\n",
    "Alternative Hypothesis (Ha): Caffeine has a significant effect on reaction time. μ ≠ μ0\n",
    "\n",
    "Using the sample data: Sample mean (x̄) = 0.25 seconds, Sample standard deviation (s) = 0.05 seconds, Sample size (n) = 30, and a significance level of 0.10 (90% confidence level), we can perform a t-test.\n",
    "\n",
    "First, we need to determine the critical t-value based on the significance level and the degrees of freedom. With n - 1 degrees of freedom (29 in this case), the critical t-value for a two-tailed test at a 0.10 significance level is approximately ±1.699.\n",
    "\n",
    "Next, we calculate the t-statistic:\n",
    "\n",
    "t = (x̄ - μ0) / (s / sqrt(n))\n",
    "t = (0.25 - μ0) / (0.05 / sqrt(30))\n",
    "\n",
    "Suppose we have a hypothetical population mean of μ0 = 0.20 seconds. We can plug in the values to calculate the t-statistic:\n",
    "\n",
    "t = (0.25 - 0.20) / (0.05 / sqrt(30))\n",
    "t = 0.05 / (0.05 / sqrt(30))\n",
    "t = sqrt(30)\n",
    "\n",
    "Finally, we compare the calculated t-value with the critical t-value. If the calculated t-value falls outside the range determined by the critical t-values (-1.699 to 1.699), we reject the null hypothesis and conclude that caffeine has a significant effect on reaction time. Otherwise, we fail to reject the null hypothesis.\n",
    "\n",
    "Since the calculated t-value of sqrt(30) is not within the rejection region, we would fail to reject the null hypothesis and conclude that there is not enough evidence to suggest that caffeine has a significant effect on reaction time at a 90% confidence level."
   ]
  },
  {
   "cell_type": "markdown",
   "id": "4d2e4b43-4c7e-4982-af9b-12579a40213b",
   "metadata": {},
   "source": []
  }
 ],
 "metadata": {
  "kernelspec": {
   "display_name": "Python 3 (ipykernel)",
   "language": "python",
   "name": "python3"
  },
  "language_info": {
   "codemirror_mode": {
    "name": "ipython",
    "version": 3
   },
   "file_extension": ".py",
   "mimetype": "text/x-python",
   "name": "python",
   "nbconvert_exporter": "python",
   "pygments_lexer": "ipython3",
   "version": "3.10.8"
  }
 },
 "nbformat": 4,
 "nbformat_minor": 5
}
