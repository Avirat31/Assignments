{
 "cells": [
  {
   "cell_type": "markdown",
   "id": "00963c4a-0e62-4fa3-a062-0b2fc4c88c05",
   "metadata": {},
   "source": [
    "# Assignment"
   ]
  },
  {
   "cell_type": "markdown",
   "id": "5e3fad86-b790-4294-b70c-127d42148b71",
   "metadata": {},
   "source": [
    "### Q1 You are writing code for a company. The requirement of the company is that you create a python function that will check whether the password entered by the user is correct or not. The function should take the password as input and return the string “Valid Password” if the entered password follows the below-given password guidelines else it should return “Invalid Password”.\n",
    "Note: 1. The Password should contain at least two uppercase letters and at least two lowercase letters.\n",
    "2. The Password should contain at least a number and three special characters.\n",
    "3. The length of the password should be 10 characters long."
   ]
  },
  {
   "cell_type": "code",
   "execution_count": 1,
   "id": "aca067ed-22a5-4781-94c6-398aaef69227",
   "metadata": {},
   "outputs": [],
   "source": [
    "def validate_password(password):\n",
    "    # Check the length of the password\n",
    "    if len(password) != 10:\n",
    "        return 'Invalid Password'\n",
    "\n",
    "    # Check if the password contains two uppercase letters\n",
    "    upper_count = sum(c.isupper() for c in password)\n",
    "    if upper_count < 2:\n",
    "        return 'Invalid Password'\n",
    "\n",
    "    # Check if the password contains two lowercase letters\n",
    "    lower_count = sum(c.islower() for c in password)\n",
    "    if lower_count < 2:\n",
    "        return 'Invalid Password'\n",
    "\n",
    "    # Check if the password contains a number\n",
    "    num_count = sum(c.isdigit() for c in password)\n",
    "    if num_count < 1:\n",
    "        return 'Invalid Password'\n",
    "\n",
    "    # Check if the password contains three special characters\n",
    "    special_count = sum(not c.isalnum() for c in password)\n",
    "    if special_count < 3:\n",
    "        return 'Invalid Password'\n",
    "\n",
    "    # Return valid if all checks are passed\n",
    "    return 'Valid Password'\n"
   ]
  },
  {
   "cell_type": "code",
   "execution_count": 2,
   "id": "229865f2-f334-459c-b5ff-0d7b102c37a1",
   "metadata": {},
   "outputs": [
    {
     "data": {
      "text/plain": [
       "'Invalid Password'"
      ]
     },
     "execution_count": 2,
     "metadata": {},
     "output_type": "execute_result"
    }
   ],
   "source": [
    "validate_password(\"Aa#1B%^*&2c3D4\")"
   ]
  },
  {
   "cell_type": "markdown",
   "id": "954accd0-9299-4064-b1a9-7804f2961e0d",
   "metadata": {},
   "source": [
    "### Q2 Solve the below-given questions using at least one of the following:\n",
    "1. Lambda functioJ\n",
    "2. Filter functioJ\n",
    "3. Zap functioJ\n",
    "4. List ComprehensioI\n",
    "\n",
    "B Check if the string starts with a particular letterY\n",
    "B Check if the string is numericY\n",
    "B Sort a list of tuples having fruit names and their quantity. [(\"mango\",99),(\"orange\",80), (\"grapes\", 1000)-\n",
    "\n",
    "B Find the squares of numbers from 1 to 10Y\n",
    "\n",
    "B Find the cube root of numbers from 1 to 10Y\n",
    "\n",
    "B Check if a given number is evenY\n",
    "\n",
    "B Filter odd numbers from the given list.\n",
    "[1,2,3,4,5,6,7,8,9,10-\n",
    "\n",
    "B Sort a list of integers into positive and negative integers lists.\n",
    "[1,2,3,4,5,6,-1,-2,-3,-4,-5,0]"
   ]
  },
  {
   "cell_type": "code",
   "execution_count": 3,
   "id": "6eed9c2e-45ac-4100-9624-9a30304488d1",
   "metadata": {},
   "outputs": [
    {
     "name": "stdout",
     "output_type": "stream",
     "text": [
      "True\n"
     ]
    }
   ],
   "source": [
    "# Check if the string starts with a particular letter\n",
    "starts_with = lambda x, y: x.startswith(y)\n",
    "\n",
    "string = \"Hello, world!\"\n",
    "letter = \"H\"\n",
    "print(starts_with(string, letter))\n"
   ]
  },
  {
   "cell_type": "code",
   "execution_count": 4,
   "id": "79f162e7-bf20-4cf7-8271-80055cc01f51",
   "metadata": {},
   "outputs": [
    {
     "name": "stdout",
     "output_type": "stream",
     "text": [
      "True\n"
     ]
    }
   ],
   "source": [
    "# Check if the string is numeric:\n",
    "is_numeric = lambda x: x.isdigit()\n",
    "\n",
    "string = \"12345\"\n",
    "print(is_numeric(string))"
   ]
  },
  {
   "cell_type": "code",
   "execution_count": 5,
   "id": "7f5a8981-e2db-43ef-ada3-bfa438f91220",
   "metadata": {},
   "outputs": [
    {
     "name": "stdout",
     "output_type": "stream",
     "text": [
      "[('orange', 80), ('mango', 99), ('grapes', 1000)]\n"
     ]
    }
   ],
   "source": [
    "# Sort a list of tuples having fruit names and their quantity:\n",
    "def sort_fruits(fruits):\n",
    "    return sorted(fruits, key=lambda x: x[1])\n",
    "\n",
    "fruits = [(\"mango\", 99), (\"orange\", 80), (\"grapes\", 1000)]\n",
    "print(sort_fruits(fruits))\n"
   ]
  },
  {
   "cell_type": "code",
   "execution_count": 6,
   "id": "d8a60cb4-a7ca-4be0-9c1e-38562008556d",
   "metadata": {},
   "outputs": [
    {
     "name": "stdout",
     "output_type": "stream",
     "text": [
      "[1, 4, 9, 16, 25, 36, 49, 64, 81, 100]\n"
     ]
    }
   ],
   "source": [
    "# Find the squares of numbers from 1 to 10:\n",
    "squared = list(map(lambda x: x**2, range(1, 11)))\n",
    "print(squared)"
   ]
  },
  {
   "cell_type": "code",
   "execution_count": 7,
   "id": "3e197ed1-3a23-45d9-88c0-257c6c285ef9",
   "metadata": {},
   "outputs": [
    {
     "name": "stdout",
     "output_type": "stream",
     "text": [
      "[1.0, 1.2599210498948732, 1.4422495703074083, 1.5874010519681994, 1.7099759466766968, 1.8171205928321397, 1.912931182772389, 2.0, 2.080083823051904, 2.154434690031884]\n"
     ]
    }
   ],
   "source": [
    "# Find the cube root of numbers from 1 to 10:\n",
    "import math\n",
    "\n",
    "def cube_roots(numbers):\n",
    "    return [math.pow(x, 1/3) for x in numbers]\n",
    "\n",
    "numbers = [1, 2, 3, 4, 5, 6, 7, 8, 9, 10]\n",
    "print(cube_roots(numbers)) "
   ]
  },
  {
   "cell_type": "code",
   "execution_count": 8,
   "id": "1b3d38f1-8f27-4497-98bb-5a4cc56baf8d",
   "metadata": {},
   "outputs": [
    {
     "name": "stdout",
     "output_type": "stream",
     "text": [
      "True\n"
     ]
    }
   ],
   "source": [
    "# Check if a given number is even:\n",
    "is_even = lambda x: x % 2 == 0\n",
    "\n",
    "number = 4\n",
    "print(is_even(number))\n"
   ]
  },
  {
   "cell_type": "code",
   "execution_count": 9,
   "id": "f7e97079-d2d7-406b-aac8-7ba13c519e81",
   "metadata": {},
   "outputs": [
    {
     "name": "stdout",
     "output_type": "stream",
     "text": [
      "[1, 3, 5, 7, 9]\n"
     ]
    }
   ],
   "source": [
    "# Filter odd numbers from the given list:\n",
    "def filter_odd(numbers):\n",
    "    return list(filter(lambda x: x % 2 != 0, numbers))\n",
    "\n",
    "numbers = [1, 2, 3, 4, 5, 6, 7, 8, 9, 10]\n",
    "print(filter_odd(numbers)) \n"
   ]
  },
  {
   "cell_type": "code",
   "execution_count": 10,
   "id": "3fd5dc5c-3ec1-443c-bede-f8ff25c20ee8",
   "metadata": {},
   "outputs": [
    {
     "name": "stdout",
     "output_type": "stream",
     "text": [
      "([1, 2, 3, 4, 5, 6], [-1, -2, -3, -4, -5])\n"
     ]
    }
   ],
   "source": [
    "# Sort a list of integers into positive and negative integers lists:\n",
    "def sort_positive_negative(numbers):\n",
    "    positive_numbers = list(filter(lambda x: x > 0, numbers))\n",
    "    negative_numbers = list(filter(lambda x: x < 0, numbers))\n",
    "    return (positive_numbers, negative_numbers)\n",
    "\n",
    "numbers = [1, 2, 3, 4, 5, 6, -1, -2, -3, -4, -5, 0]\n",
    "print(sort_positive_negative(numbers))\n"
   ]
  },
  {
   "cell_type": "code",
   "execution_count": null,
   "id": "dde36b72-4b57-4cf1-bace-c7617c1500dd",
   "metadata": {},
   "outputs": [],
   "source": []
  }
 ],
 "metadata": {
  "kernelspec": {
   "display_name": "Python 3 (ipykernel)",
   "language": "python",
   "name": "python3"
  },
  "language_info": {
   "codemirror_mode": {
    "name": "ipython",
    "version": 3
   },
   "file_extension": ".py",
   "mimetype": "text/x-python",
   "name": "python",
   "nbconvert_exporter": "python",
   "pygments_lexer": "ipython3",
   "version": "3.10.8"
  }
 },
 "nbformat": 4,
 "nbformat_minor": 5
}
