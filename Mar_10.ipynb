{
 "cells": [
  {
   "cell_type": "markdown",
   "id": "fffd38cb-cc36-4ea9-8724-4e84dda19b97",
   "metadata": {},
   "source": [
    "# Assignment"
   ]
  },
  {
   "cell_type": "markdown",
   "id": "027daec4-281a-48bc-a8d3-d4ee6a4a2a10",
   "metadata": {},
   "source": [
    "## Q1: What is Estimation Statistics? Explain point estimate and interval estimate.\n",
    "\n",
    "Ans: Estimation statistics is a branch of statistics that deals with estimating population parameters based on sample data. It involves using sample statistics to make inferences or predictions about unknown population parameters.\n",
    "\n",
    "Point estimate: A point estimate is a single value that is used to estimate an unknown population parameter. It is typically calculated using a sample statistic, such as the sample mean or sample proportion. A point estimate provides a best guess or approximation of the population parameter but does not provide information about the uncertainty or variability associated with the estimate.\n",
    "\n",
    "Interval estimate: An interval estimate, also known as a confidence interval, provides a range of values within which the true population parameter is likely to lie. It takes into account both the point estimate and the variability in the sample data. Interval estimates are constructed by specifying a confidence level, which represents the probability that the interval will contain the true parameter. The wider the interval, the higher the confidence level."
   ]
  },
  {
   "cell_type": "markdown",
   "id": "ba809f43-8701-4cb9-a08a-c6461b692d65",
   "metadata": {},
   "source": [
    "## Q2. Write a Python function to estimate the population mean using a sample mean and standard deviation."
   ]
  },
  {
   "cell_type": "code",
   "execution_count": 1,
   "id": "f4ac663c-0fdd-4789-a5d8-e26f6f34afd8",
   "metadata": {},
   "outputs": [],
   "source": [
    "import math\n",
    "\n",
    "def estimate_population_mean(sample_mean, sample_std_dev, sample_size):\n",
    "    z_critical = 1.96  # Assuming a 95% confidence level (standard normal distribution)\n",
    "    margin_of_error = z_critical * (sample_std_dev / math.sqrt(sample_size))\n",
    "    \n",
    "    lower_bound = sample_mean - margin_of_error\n",
    "    upper_bound = sample_mean + margin_of_error\n",
    "    \n",
    "    return lower_bound, upper_bound\n"
   ]
  },
  {
   "cell_type": "markdown",
   "id": "4b671da6-cd0b-4d26-9dad-1a4db3598f1f",
   "metadata": {},
   "source": [
    "## Q3: What is Hypothesis testing? Why is it used? State the importance of Hypothesis testing.\n",
    "\n",
    "Ans: Hypothesis testing is a statistical method used to make inferences or decisions about population parameters based on sample data\n",
    "\n",
    "Hypothesis testing is used to:\n",
    "\n",
    "1. Make objective decisions: Hypothesis testing provides a structured framework to assess the evidence in favor of one hypothesis over another. It helps to make data-driven decisions based on statistical evidence rather than subjective opinions.\n",
    "\n",
    "2. Draw conclusions about population parameters: By analyzing sample data, hypothesis testing allows us to make inferences about population parameters, such as means, proportions, or variances.\n",
    "\n",
    "3. Test scientific theories: Hypothesis testing plays a crucial role in scientific research by enabling researchers to test theories, validate hypotheses, and contribute to the accumulation of knowledge.\n",
    "\n",
    "The importance of hypothesis testing lies in its ability to provide a systematic and rigorous approach to drawing conclusions from data. It helps to avoid making decisions based on random variation or chance, and instead provides a statistical framework for assessing the strength of evidence in support of a hypothesis."
   ]
  },
  {
   "cell_type": "markdown",
   "id": "f2f9adff-c453-43a4-991f-74f4d78ed5ce",
   "metadata": {},
   "source": [
    "## Q4. Create a hypothesis that states whether the average weight of male college students is greater than the average weight of female college students.\n",
    "\n",
    "Ans: Hypothesis: The average weight of male college students is greater than the average weight of female college students.\n",
    "\n",
    "Null Hypothesis (H0): The average weight of male college students is equal to or less than the average weight of female college students.\n",
    "Alternative Hypothesis (Ha): The average weight of male college students is greater than the average weight of female college students."
   ]
  },
  {
   "cell_type": "markdown",
   "id": "664f1aa3-f183-4fd4-a04f-0f899ba95525",
   "metadata": {},
   "source": [
    "## Q5. Write a Python script to conduct a hypothesis test on the difference between two population means,given a sample from each population."
   ]
  },
  {
   "cell_type": "code",
   "execution_count": 2,
   "id": "ebbc7426-2eff-418a-b6cf-22f409d4b3d0",
   "metadata": {},
   "outputs": [
    {
     "name": "stdout",
     "output_type": "stream",
     "text": [
      "Fail to reject the null hypothesis\n"
     ]
    }
   ],
   "source": [
    "import scipy.stats as stats\n",
    "\n",
    "# Sample data from two populations\n",
    "sample1 = [20, 25, 30, 35, 40]\n",
    "sample2 = [15, 18, 22, 27, 30]\n",
    "\n",
    "# Perform independent t-test\n",
    "t_stat, p_value = stats.ttest_ind(sample1, sample2)\n",
    "\n",
    "alpha = 0.05  # Significance level\n",
    "\n",
    "if p_value < alpha:\n",
    "    print(\"Reject the null hypothesis\")\n",
    "else:\n",
    "    print(\"Fail to reject the null hypothesis\")\n"
   ]
  },
  {
   "cell_type": "markdown",
   "id": "93e3437d-6dd4-4f3e-acb7-1cdd62d9e6e6",
   "metadata": {},
   "source": [
    "## Q6: What is a null and alternative hypothesis? Give some examples.\n",
    "\n",
    "Ans: In hypothesis testing, the null hypothesis (H0) and alternative hypothesis (Ha or H1) are two competing statements about a population parameter. They represent different claims or assumptions that we want to test using sample data.\n",
    "\n",
    "The null hypothesis (H0) is the statement of no effect, no difference, or no relationship. It assumes that any observed difference or effect in the sample is due to random chance or sampling variability. It represents the status quo or the prevailing belief before conducting the study.\n",
    "\n",
    "The alternative hypothesis (Ha or H1) is the statement that contradicts the null hypothesis. It suggests that there is a significant difference, effect, or relationship in the population. The alternative hypothesis can be one-sided, indicating a directional difference, or two-sided, indicating a difference in either direction.\n",
    "\n",
    "Examples:\n",
    "\n",
    "1. Null Hypothesis (H0): The average response time for two different website designs is the same. Alternative Hypothesis (Ha): \n",
    "The average response time for one website design is significantly faster than the other.\n",
    "\n",
    "2. Null Hypothesis (H0): There is no difference in mean scores between two groups. \n",
    "Alternative Hypothesis (Ha): The mean scores of one group are significantly higher than the other group."
   ]
  },
  {
   "cell_type": "markdown",
   "id": "0bd239b2-ead4-4978-8f06-c241469ca84e",
   "metadata": {},
   "source": [
    "## Q7: Write down the steps involved in hypothesis testing.\n",
    "\n",
    "Ans: The steps involved in hypothesis testing are as follows:\n",
    "\n",
    "1. Formulate the hypotheses: Clearly state the null hypothesis (H0) and alternative hypothesis (Ha or H1) based on the research question or problem.\n",
    "\n",
    "2. Choose the significance level: Determine the level of significance (alpha) that represents the acceptable probability of rejecting the null hypothesis when it is true. Commonly used values are 0.05 or 0.01.\n",
    "\n",
    "3. Collect and analyze the data: Collect a sample from the population of interest and perform appropriate statistical analysis based on the type of data and hypothesis being tested.\n",
    "\n",
    "4. Calculate the test statistic: Calculate the appropriate test statistic based on the chosen statistical test (e.g., t-statistic, z-statistic, chi-square statistic).\n",
    "\n",
    "5. Determine the critical region: Determine the critical region or rejection region based on the chosen significance level and the distribution of the test statistic. This region represents the extreme values that would lead to rejecting the null hypothesis.\n",
    "\n",
    "6. Compare the test statistic with the critical region: Compare the calculated test statistic with the critical region. If the test statistic falls within the critical region, reject the null hypothesis. Otherwise, fail to reject the null hypothesis.\n",
    "\n",
    "7. Draw conclusions: Based on the comparison, draw conclusions about the null hypothesis and make inferences about the population based on the sample data."
   ]
  },
  {
   "cell_type": "markdown",
   "id": "10884ae6-a809-4be6-a960-9c0f96a837bd",
   "metadata": {},
   "source": [
    "## Q8: Define p-value and explain its significance in hypothesis testing.\n",
    "\n",
    "Ans: The p-value is a measure of the strength of evidence against the null hypothesis in hypothesis testing. It represents the probability of obtaining a test statistic as extreme or more extreme than the observed one, assuming that the null hypothesis is true. In other words, it quantifies the likelihood of obtaining the observed data if the null hypothesis is correct.\n",
    "\n",
    "The significance level (alpha) is chosen before conducting the test, and it determines the threshold below which the null hypothesis is rejected. The p-value is compared to the significance level to make a decision. If the p-value is smaller than the significance level, typically denoted as alpha, the null hypothesis is rejected in favor of the alternative hypothesis. Conversely, if the p-value is larger than alpha, the null hypothesis is not rejected, indicating that there is insufficient evidence to support the alternative hypothesis.\n",
    "\n",
    "A smaller p-value indicates stronger evidence against the null hypothesis. For example, a p-value of 0.01 implies stronger evidence than a p-value of 0.05. The p-value does not provide information about the magnitude of the effect or the practical significance, but it helps to determine the statistical significance of the results."
   ]
  },
  {
   "cell_type": "markdown",
   "id": "92cc291e-c52f-416f-b6f0-503dbb771833",
   "metadata": {},
   "source": [
    "## Q9. Generate a Student's t-distribution plot using Python's matplotlib library, with the degrees of freedom parameter set to 10.\n"
   ]
  },
  {
   "cell_type": "code",
   "execution_count": 5,
   "id": "6ca89f29-d29c-4b8b-a52e-41fe70becb71",
   "metadata": {},
   "outputs": [
    {
     "data": {
      "image/png": "[encoded data removed]",
      "text/plain": [
       "<Figure size 640x480 with 1 Axes>"
      ]
     },
     "metadata": {},
     "output_type": "display_data"
    }
   ],
   "source": [
    "import matplotlib.pyplot as plt\n",
    "import numpy as np\n",
    "from scipy.stats import t\n",
    "\n",
    "df = 10  # Degrees of freedom\n",
    "\n",
    "x = np.linspace(-4, 4, 100)\n",
    "y = t.pdf(x, df)\n",
    "\n",
    "plt.plot(x, y)\n",
    "plt.title(\"Student's t-distribution (df=10)\")\n",
    "plt.xlabel(\"x\")\n",
    "plt.ylabel(\"Probability density\")\n",
    "plt.grid(True)\n",
    "plt.show()\n"
   ]
  },
  {
   "cell_type": "markdown",
   "id": "1e13ab9a-0660-4a34-ba5a-1ebdd3f6dcfd",
   "metadata": {},
   "source": [
    "## Q10. Write a Python program to calculate the two-sample t-test for independent samples, given two random samples of equal size and a null hypothesis that the population means are equal."
   ]
  },
  {
   "cell_type": "code",
   "execution_count": 6,
   "id": "f26455cb-8dec-4567-831e-4c64b92eafdc",
   "metadata": {},
   "outputs": [
    {
     "name": "stdout",
     "output_type": "stream",
     "text": [
      "Fail to reject the null hypothesis\n"
     ]
    }
   ],
   "source": [
    "import scipy.stats as stats\n",
    "import numpy as np\n",
    "\n",
    "# Random samples of equal size\n",
    "sample1 = np.random.normal(5, 2, 100)\n",
    "sample2 = np.random.normal(6, 2, 100)\n",
    "\n",
    "# Perform two-sample t-test\n",
    "t_stat, p_value = stats.ttest_ind(sample1, sample2)\n",
    "\n",
    "alpha = 0.05  # Significance level\n",
    "\n",
    "if p_value < alpha:\n",
    "    print(\"Reject the null hypothesis\")\n",
    "else:\n",
    "    print(\"Fail to reject the null hypothesis\")\n"
   ]
  },
  {
   "cell_type": "markdown",
   "id": "c8031b6a-8a4d-47c9-a125-bf74820283bc",
   "metadata": {},
   "source": [
    "## Q11: What is Student’s t distribution? When to use the t-Distribution.\n",
    "\n",
    "Ans: Student's t-distribution, often referred to as the t-distribution, is a probability distribution that is similar to the standard normal distribution (Z-distribution) but accounts for the uncertainty introduced when estimating population parameters from small sample sizes. It was developed by William Gosset, who used the pseudonym \"Student\" hence the name.\n",
    "\n",
    "The t-distribution is bell-shaped and symmetric, with a mean of 0, but has fatter tails compared to the standard normal distribution. The shape of the t-distribution depends on the degrees of freedom, which are determined by the sample size. As the degrees of freedom increase, the t-distribution approaches the standard normal distribution.\n",
    "\n",
    "The t-distribution is used in situations where the population standard deviation is unknown or when working with small sample sizes. It is commonly used in hypothesis testing, particularly for comparing means or conducting t-tests, when the assumptions for using the standard normal distribution are not met."
   ]
  },
  {
   "cell_type": "markdown",
   "id": "bf5ec4d7-6ef6-4aaf-87b7-dc82b16108a4",
   "metadata": {},
   "source": [
    "## Q12: What is t-statistic? State the formula for t-statistic.\n",
    "\n",
    "Ans: The t-statistic is a measure of how large the difference between the sample mean and the hypothesized population mean is relative to the variability in the sample data. It quantifies the difference in means in terms of standard errors.\n",
    "\n",
    "The formula for the t-statistic when comparing two sample means is:\n",
    "\n",
    "t = (x1 - x2) / sqrt((s1^2 / n1) + (s2^2 / n2))\n",
    "\n",
    "where:\n",
    "\n",
    "x1 and x2 are the sample means of the two groups being compared,\n",
    "s1 and s2 are the sample standard deviations of the two groups,\n",
    "n1 and n2 are the sample sizes of the two groups.\n",
    "The t-statistic is calculated by taking the difference between the sample means and dividing it by the standard error of the difference. It measures the number of standard errors that the difference between the means deviates from the null hypothesis. Positive values indicate that the sample mean is greater than the hypothesized mean, while negative values indicate the opposite.\n",
    "\n",
    "The t-statistic is used in hypothesis testing to assess the significance of the difference between two sample means, particularly when the population standard deviations are unknown or the sample sizes are small."
   ]
  },
  {
   "cell_type": "markdown",
   "id": "6b323b28-bf5b-4119-baaf-80f3aca1fcc3",
   "metadata": {},
   "source": [
    "## Q13. A coffee shop owner wants to estimate the average daily revenue for their shop. They take a random sample of 50 days and find the sample mean revenue to be $500 with a standard deviation of $50.Estimate the population mean revenue with a 95% confidence interval."
   ]
  },
  {
   "cell_type": "raw",
   "id": "4edb587a-5100-4b91-ac77-fe0171c87c53",
   "metadata": {},
   "source": [
    "Confidence interval = sample mean ± (critical value) * (standard deviation / sqrt(sample size))\n",
    "\n",
    "Since the sample size is 50 and the sample mean is $500 with a standard deviation of $50, we need to determine the critical value corresponding to a 95% confidence level.\n",
    "\n",
    "The critical value can be found using a t-distribution with (n-1) degrees of freedom, where n is the sample size. Since the sample size is relatively large (n = 50), we can approximate the critical value using the standard normal distribution.\n",
    "\n",
    "For a 95% confidence level, the critical value (z-score) is approximately 1.96.\n",
    "\n",
    "Plugging the values into the formula:\n",
    "\n",
    "Confidence interval = $500 ± (1.96) * ($50 / sqrt(50))\n",
    "\n",
    "Confidence interval = $500 ± 6.97\n",
    "\n",
    "Therefore, the 95% confidence interval estimate for the population mean revenue is approximately $493.03 to $506.97."
   ]
  },
  {
   "cell_type": "markdown",
   "id": "8323f7ed-cd37-46ca-b07e-e2d49312b4dc",
   "metadata": {},
   "source": [
    "## Q14. A researcher hypothesizes that a new drug will decrease blood pressure by 10 mmHg. They conduct a clinical trial with 100 patients and find that the sample mean decrease in blood pressure is 8 mmHg with a standard deviation of 3 mmHg. Test the hypothesis with a significance level of 0.05.\n",
    "\n",
    "Ans: Null hypothesis (H0): The mean decrease in blood pressure is equal to 10 mmHg.\n",
    "Alternative hypothesis (Ha): The mean decrease in blood pressure is not equal to 10 mmHg.\n",
    "\n",
    "The test statistic can be calculated as:\n",
    "\n",
    "t = (sample mean - hypothesized mean) / (standard deviation / sqrt(sample size))\n",
    "\n",
    "t = (8 - 10) / (3 / sqrt(100))\n",
    "\n",
    "t = -2 / 0.3\n",
    "\n",
    "t ≈ -6.67\n",
    "\n",
    "Using a significance level of 0.05 and the degrees of freedom (sample size - 1 = 100 - 1 = 99), we can compare the calculated t-value to the critical t-value. Since the t-value is highly significant, we reject the null hypothesis.\n",
    "\n",
    "Therefore, there is sufficient evidence to conclude that the new drug has a significant effect on reducing blood pressure."
   ]
  },
  {
   "cell_type": "markdown",
   "id": "91bde6bc-cbdc-4735-bbbd-32aa12f73166",
   "metadata": {},
   "source": [
    "## Q15. An electronics company produces a certain type of product with a mean weight of 5 pounds and a standard deviation of 0.5 pounds. A random sample of 25 products is taken, and the sample mean weight is found to be 4.8 pounds. Test the hypothesis that the true mean weight of the products is less than 5 pounds with a significance level of 0.01.\n",
    "\n",
    "Ans: Null hypothesis (H0): The true mean weight of the products is equal to 5 pounds.\n",
    "Alternative hypothesis (Ha): The true mean weight of the products is less than 5 pounds.\n",
    "\n",
    "The test statistic can be calculated as:\n",
    "\n",
    "t = (sample mean - hypothesized mean) / (standard deviation / sqrt(sample size))\n",
    "\n",
    "t = (4.8 - 5) / (0.5 / sqrt(25))\n",
    "\n",
    "t = -0.2 / 0.1\n",
    "\n",
    "t = -2\n",
    "\n",
    "Using a significance level of 0.01 and the degrees of freedom (sample size - 1 = 25 - 1 = 24), we can compare the calculated t-value to the critical t-value. Since the t-value is not in the rejection region, we fail to reject the null hypothesis.\n",
    "\n",
    "Therefore, there is insufficient evidence to conclude that the true mean weight of the products is less than 5 pounds."
   ]
  },
  {
   "cell_type": "markdown",
   "id": "11e0b15b-64d8-4882-9741-59ef855f0138",
   "metadata": {},
   "source": [
    "## Q16. Two groups of students are given different study materials to prepare for a test. The first group (n1 =\n",
    "30) has a mean score of 80 with a standard deviation of 10, and the second group (n2 = 40) has a mean score of 75 with a standard deviation of 8. Test the hypothesis that the population means for the two groups are equal with a significance level of 0.01.\n",
    "\n",
    "Ans: Null hypothesis (H0): The population means for the two groups are equal.\n",
    "Alternative hypothesis (Ha): The population means for the two groups are not equal.\n",
    "\n",
    "The test statistic can be calculated as:\n",
    "\n",
    "t = (mean1 - mean2) / sqrt((s1^2 / n1) + (s2^2 / n2))\n",
    "\n",
    "t = (80 - 75) / sqrt((10^2 / 30) + (8^2 / 40))\n",
    "\n",
    "t = 5 / sqrt(11.11 + 3.2)\n",
    "\n",
    "t ≈ 5 / sqrt(14.31)\n",
    "\n",
    "t ≈ 5 / 3.78\n",
    "\n",
    "t ≈ 1.32\n",
    "\n",
    "Using a significance level of 0.01 and the degrees of freedom (n1 - 1 + n2 - 1 = 30 - 1 + 40 - 1 = 68), we can compare the calculated t-value to the critical t-value. Since the t-value is not in the rejection region, we fail to reject the null hypothesis.\n",
    "\n",
    "Therefore, there is insufficient evidence to conclude that the population means for the two groups are different."
   ]
  },
  {
   "cell_type": "markdown",
   "id": "fbf609b0-cdd0-4b5d-912d-6e47e64619a4",
   "metadata": {},
   "source": [
    "## Q17. A marketing company wants to estimate the average number of ads watched by viewers during a TV program. They take a random sample of 50 viewers and find that the sample mean is 4 with a standard deviation of 1.5. Estimate the population mean with a 99% confidence interval.\n",
    "\n",
    "Ans: Confidence interval = sample mean ± (critical value) * (standard deviation / sqrt(sample size))\n",
    "\n",
    "Since the sample size is 50 and the sample mean is 4 with a standard deviation of 1.5, we need to determine the critical value corresponding to a 99% confidence level.\n",
    "\n",
    "The critical value can be found using a t-distribution with (n-1) degrees of freedom, where n is the sample size. Since the sample size is relatively large (n = 50), we can approximate the critical value using the standard normal distribution.\n",
    "\n",
    "For a 99% confidence level, the critical value (z-score) is approximately 2.58.\n",
    "\n",
    "Plugging the values into the formula:\n",
    "\n",
    "Confidence interval = 4 ± (2.58) * (1.5 / sqrt(50))\n",
    "\n",
    "Confidence interval = 4 ± 0.57\n",
    "\n",
    "Therefore, the 99% confidence interval estimate for the population mean number of ads watched is approximately 3.43 to 4.57."
   ]
  },
  {
   "cell_type": "code",
   "execution_count": null,
   "id": "c058bf67-6af2-4264-848b-16d83ea72b50",
   "metadata": {},
   "outputs": [],
   "source": []
  }
 ],
 "metadata": {
  "kernelspec": {
   "display_name": "Python 3 (ipykernel)",
   "language": "python",
   "name": "python3"
  },
  "language_info": {
   "codemirror_mode": {
    "name": "ipython",
    "version": 3
   },
   "file_extension": ".py",
   "mimetype": "text/x-python",
   "name": "python",
   "nbconvert_exporter": "python",
   "pygments_lexer": "ipython3",
   "version": "3.10.8"
  }
 },
 "nbformat": 4,
 "nbformat_minor": 5
}
