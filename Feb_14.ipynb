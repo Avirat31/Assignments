{
 "cells": [
  {
   "cell_type": "markdown",
   "id": "bb2bde02-9675-49fb-8366-064cec282eaa",
   "metadata": {},
   "source": [
    "# Assignment"
   ]
  },
  {
   "cell_type": "markdown",
   "id": "40df9529-1993-4226-9ef5-452be66e0ba4",
   "metadata": {},
   "source": [
    "### Q1. What is multithreading in python? Why is it used? Name the module used to handle threads in python\n",
    "\n",
    "Ans: Multithreading in Python is a feature that allows you to run multiple threads (smaller units of a program) concurrently, within the same process. This can help you to increase the performance and responsiveness of your program, especially when you are working with I/O-bound or waiting for a large number of tasks.\n",
    "\n",
    "Python provides the threading module to handle threads. The threading module provides a way to execute functions as separate threads. You can create a new thread by creating an instance of the Thread class and then calling its start() method. The Thread class provides several methods and attributes to control and manage the threads, such as the join() method to wait for the thread to complete and the is_alive() method to check if a thread is still running."
   ]
  },
  {
   "cell_type": "markdown",
   "id": "af3804b3-a5f5-4190-ae27-5a43e17b8e68",
   "metadata": {},
   "source": [
    "### Q2. Why threading module used? Write the use of the following functions\n",
    "#### 1.activeCount \n",
    "#### 2.currentThread \n",
    "#### 3.enumerate\n",
    "\n",
    "Ans: The threading module in Python is used to handle multiple threads in a program. It provides a way to create, start, stop, and manage threads, allowing you to execute multiple tasks concurrently and make your program more responsive and efficient.\n",
    "\n",
    "1. activeCount(): This function returns the number of active threads in the current process.\n",
    "\n",
    "2. currentThread(): This function returns the current thread object.\n",
    "\n",
    "3. enumerate(): This function returns a list of all active thread objects in the current process."
   ]
  },
  {
   "cell_type": "code",
   "execution_count": null,
   "id": "48cb41f6-fa0b-4f6b-bfbb-d75082da628b",
   "metadata": {},
   "outputs": [],
   "source": []
  }
 ],
 "metadata": {
  "kernelspec": {
   "display_name": "Python 3 (ipykernel)",
   "language": "python",
   "name": "python3"
  },
  "language_info": {
   "codemirror_mode": {
    "name": "ipython",
    "version": 3
   },
   "file_extension": ".py",
   "mimetype": "text/x-python",
   "name": "python",
   "nbconvert_exporter": "python",
   "pygments_lexer": "ipython3",
   "version": "3.10.8"
  }
 },
 "nbformat": 4,
 "nbformat_minor": 5
}
