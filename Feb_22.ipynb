{
 "cells": [
  {
   "cell_type": "markdown",
   "id": "fc6bb595-d624-4281-8e76-cbf3ba1e3253",
   "metadata": {},
   "source": [
    "# Assignment"
   ]
  },
  {
   "cell_type": "markdown",
   "id": "a4901c7f-3187-4e2e-83c5-3f5e4268b8a3",
   "metadata": {},
   "source": [
    "# Q1. Create a Pandas Series that contains the following data: 4, 8, 15, 16, 23, and 42. Then, print the series."
   ]
  },
  {
   "cell_type": "code",
   "execution_count": 1,
   "id": "6faffac0-35cf-4b3c-ab27-fbef6373f3a2",
   "metadata": {},
   "outputs": [
    {
     "name": "stdout",
     "output_type": "stream",
     "text": [
      "0     4\n",
      "1     8\n",
      "2    15\n",
      "3    16\n",
      "4    23\n",
      "5    42\n",
      "dtype: int64\n"
     ]
    }
   ],
   "source": [
    "import pandas as pd\n",
    "data = [4, 8, 15, 16, 23, 42]\n",
    "series = pd.Series(data)\n",
    "print(series)\n"
   ]
  },
  {
   "cell_type": "markdown",
   "id": "34bf23e4-c026-4324-be22-2a17fba43c9b",
   "metadata": {},
   "source": [
    "# Q2. Create a variable of list type containing 10 elements in it, and apply pandas.Series function on the variable print it."
   ]
  },
  {
   "cell_type": "code",
   "execution_count": 1,
   "id": "c1b89c47-64d9-4674-a8ba-50769478e8a0",
   "metadata": {},
   "outputs": [
    {
     "name": "stdout",
     "output_type": "stream",
     "text": [
      "0     1\n",
      "1     2\n",
      "2     3\n",
      "3     4\n",
      "4     5\n",
      "5     6\n",
      "6     7\n",
      "7     8\n",
      "8     9\n",
      "9    10\n",
      "dtype: int64\n"
     ]
    }
   ],
   "source": [
    "import pandas as pd\n",
    "my_list = [1, 2, 3, 4, 5, 6, 7, 8, 9, 10]\n",
    "series = pd.Series(my_list)\n",
    "print(series)"
   ]
  },
  {
   "cell_type": "markdown",
   "id": "82130d5b-8c5e-4662-9180-3f0b6875fc99",
   "metadata": {},
   "source": [
    "## Q2. Create a Pandas DataFrame that contains the following data:"
   ]
  },
  {
   "cell_type": "code",
   "execution_count": 2,
   "id": "ade8cd3b-fff3-42f0-84db-7d8169fd2b7d",
   "metadata": {},
   "outputs": [
    {
     "name": "stdout",
     "output_type": "stream",
     "text": [
      "     Name  Age  Gender\n",
      "0   Alice   25  Female\n",
      "1     Bob   30    Male\n",
      "2  Claire   27  Female\n"
     ]
    }
   ],
   "source": [
    "import pandas as pd\n",
    "data = {\n",
    "    'Name': ['Alice', 'Bob', 'Claire'],\n",
    "    'Age': [25, 30, 27],\n",
    "    'Gender': ['Female', 'Male', 'Female']\n",
    "}\n",
    "df = pd.DataFrame(data)\n",
    "print(df)\n"
   ]
  },
  {
   "cell_type": "markdown",
   "id": "5e540be1-2503-427a-be2e-5a888b29161c",
   "metadata": {},
   "source": [
    "## Q4. What is ‘DataFrame’ in pandas and how is it different from pandas.series? Explain with an example."
   ]
  },
  {
   "cell_type": "markdown",
   "id": "86b96b3b-c2db-4a09-a6a6-a1446233ef9b",
   "metadata": {},
   "source": [
    "In Pandas, a DataFrame is a two-dimensional data structure that represents tabular data. It consists of rows and columns, similar to a spreadsheet or a SQL table. Each column in a DataFrame represents a variable or a feature, while each row represents an observation or a data point.\n",
    "\n",
    "On the other hand, a Series is a one-dimensional labeled array in Pandas. It can be thought of as a single column of data within a DataFrame. A Series can hold any data type and is labeled with an index that provides a unique identifier for each element in the Series."
   ]
  },
  {
   "cell_type": "code",
   "execution_count": 3,
   "id": "732791d2-767d-4933-8c00-333777f504b4",
   "metadata": {},
   "outputs": [
    {
     "name": "stdout",
     "output_type": "stream",
     "text": [
      "DataFrame:\n",
      "     Name  Age  Gender\n",
      "0   Alice   25  Female\n",
      "1     Bob   30    Male\n",
      "2  Claire   27  Female\n",
      "\n",
      "Series:\n",
      "0    25\n",
      "1    30\n",
      "2    27\n",
      "dtype: int64\n"
     ]
    }
   ],
   "source": [
    "import pandas as pd\n",
    "\n",
    "# Creating a DataFrame\n",
    "data = {\n",
    "    'Name': ['Alice', 'Bob', 'Claire'],\n",
    "    'Age': [25, 30, 27],\n",
    "    'Gender': ['Female', 'Male', 'Female']\n",
    "}\n",
    "\n",
    "df = pd.DataFrame(data)\n",
    "\n",
    "# Creating a Series\n",
    "ages = pd.Series([25, 30, 27])\n",
    "\n",
    "# Printing the DataFrame\n",
    "print(\"DataFrame:\")\n",
    "print(df)\n",
    "print()\n",
    "\n",
    "# Printing the Series\n",
    "print(\"Series:\")\n",
    "print(ages)\n"
   ]
  },
  {
   "cell_type": "markdown",
   "id": "9c89c7b6-c7bd-41b3-9e2d-4233155fe396",
   "metadata": {},
   "source": [
    "## Q5. What are some common functions you can use to manipulate data in a Pandas DataFrame? Can you give an example of when you might use one of these functions?"
   ]
  },
  {
   "cell_type": "markdown",
   "id": "b2577c51-5850-4be6-8d1c-92677779dcb3",
   "metadata": {},
   "source": [
    "Pandas provides a wide range of functions to manipulate data in a DataFrame. Here are some common functions that you can use:\n",
    "\n",
    "head(): This function is used to view the top rows of the DataFrame. It helps to quickly inspect the structure and content of the data.\n",
    "\n",
    "tail(): Similar to head(), this function allows you to view the bottom rows of the DataFrame.\n",
    "\n",
    "info(): It provides a summary of the DataFrame, including the data types of each column and the count of non-null values. This function helps in understanding the data types and identifying missing values.\n",
    "\n",
    "describe(): This function generates descriptive statistics of the numerical columns in the DataFrame, such as count, mean, standard deviation, minimum, maximum, and quartile values.\n",
    "\n",
    "shape: This attribute returns a tuple representing the dimensions of the DataFrame (number of rows, number of columns).\n",
    "\n",
    "columns: This attribute returns the column labels of the DataFrame.\n",
    "\n",
    "sort_values(): It is used to sort the DataFrame based on one or more columns. You can specify the column(s) to sort by and the sorting order (ascending or descending).\n",
    "\n",
    "groupby(): This function is used for grouping the DataFrame by one or more columns and performing operations on the grouped data. It allows for tasks such as aggregation, transformation, and filtering based on groups.\n",
    "\n",
    "drop(): This function is used to remove specified rows or columns from the DataFrame.\n",
    "\n",
    "fillna(): It is used to fill missing values in the DataFrame with a specified value or a predefined method, such as filling with the mean, median, or previous/following values.\n",
    "\n",
    "apply(): This function applies a function to each element or row/column of the DataFrame, allowing for custom data transformations.\n",
    "\n",
    "merge(): It is used to combine multiple DataFrames based on common columns or indices. This function enables database-style joins, such as inner join, left join, right join, and outer join."
   ]
  },
  {
   "cell_type": "markdown",
   "id": "40046b2a-490c-4cb8-9a36-0d70bf4a26b1",
   "metadata": {},
   "source": [
    "## Q6. Which of the following is mutable in nature Series, DataFrame, Panel?"
   ]
  },
  {
   "cell_type": "markdown",
   "id": "ce45017e-f132-4ec1-8438-ea2ab76b72b5",
   "metadata": {},
   "source": [
    "Among the three options mentioned (Series, DataFrame, Panel), only the DataFrame is mutable in nature.\n",
    "\n",
    "In Pandas, a mutable object is one that can be modified after its creation. While both Series and DataFrame are data structures provided by Pandas, the key difference lies in their mutability.\n",
    "\n",
    "Series: A Series is an immutable object in Pandas. Once created, its elements and index labels cannot be modified directly. However, you can assign a new Series to a variable, effectively creating a new Series object with updated values or index labels.\n",
    "\n",
    "DataFrame: A DataFrame, on the other hand, is mutable. You can modify the data, add or remove columns, change column names, and perform various operations on the DataFrame to manipulate the underlying data.\n",
    "\n",
    "Panel: The Panel data structure has been deprecated in recent versions of Pandas and is no longer recommended for use. Instead, multi-dimensional data can be represented using other structures like multi-index DataFrames or multi-dimensional NumPy arrays. Nevertheless, if we consider the Panel data structure, it is mutable, similar to a DataFrame."
   ]
  },
  {
   "cell_type": "markdown",
   "id": "834970a9-095b-4cdc-bcee-decfa098b62b",
   "metadata": {},
   "source": [
    "## Q7. Create a DataFrame using multiple Series. Explain with an example."
   ]
  },
  {
   "cell_type": "markdown",
   "id": "78cf6d31-45eb-4fd7-91aa-8bd50373f0af",
   "metadata": {},
   "source": [
    "To create a DataFrame using multiple Series, you can combine the Series objects into a dictionary and then pass that dictionary to the pd.DataFrame() function in Pandas. Each Series will represent a column in the resulting DataFrame."
   ]
  },
  {
   "cell_type": "code",
   "execution_count": 5,
   "id": "a30e27c5-8a32-4971-b097-701107442e74",
   "metadata": {},
   "outputs": [
    {
     "name": "stdout",
     "output_type": "stream",
     "text": [
      "     Name  Age  Gender\n",
      "0   Alice   25  Female\n",
      "1     Bob   30    Male\n",
      "2  Claire   27  Female\n"
     ]
    }
   ],
   "source": [
    "import pandas as pd\n",
    "\n",
    "name_series = pd.Series(['Alice', 'Bob', 'Claire'])\n",
    "age_series = pd.Series([25, 30, 27])\n",
    "gender_series = pd.Series(['Female', 'Male', 'Female'])\n",
    "\n",
    "data = {\n",
    "    'Name': name_series,\n",
    "    'Age': age_series,\n",
    "    'Gender': gender_series\n",
    "}\n",
    "df = pd.DataFrame(data)\n",
    "print(df)\n"
   ]
  },
  {
   "cell_type": "code",
   "execution_count": null,
   "id": "54979cf6-2e8f-4026-b0ad-cad7a7ffc032",
   "metadata": {},
   "outputs": [],
   "source": []
  }
 ],
 "metadata": {
  "kernelspec": {
   "display_name": "Python 3 (ipykernel)",
   "language": "python",
   "name": "python3"
  },
  "language_info": {
   "codemirror_mode": {
    "name": "ipython",
    "version": 3
   },
   "file_extension": ".py",
   "mimetype": "text/x-python",
   "name": "python",
   "nbconvert_exporter": "python",
   "pygments_lexer": "ipython3",
   "version": "3.10.8"
  }
 },
 "nbformat": 4,
 "nbformat_minor": 5
}
