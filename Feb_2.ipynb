{
 "cells": [
  {
   "cell_type": "markdown",
   "id": "1fc5a0fd-2d7f-4ec2-bdef-a63dbadf87a7",
   "metadata": {},
   "source": [
    "# Assignment"
   ]
  },
  {
   "cell_type": "markdown",
   "id": "a5ed7c69-50f1-4adf-89ff-41f6f6a8733f",
   "metadata": {},
   "source": [
    "### Q1: What are the characteristics of the tuples? Is tuple immutable?\n",
    "\n",
    "Ans:  These tuples are an ordered collection of elements of different data types. We represent them by writing the elements inside the parenthesis separated by commas. We can also define tuples as lists that we cannot change. Therefore, we can call them immutable tuples. Hence, tuples are not modifiable in nature. These immutable tuples are a kind of group data type.We access elements by using the index starting from zero."
   ]
  },
  {
   "cell_type": "markdown",
   "id": "04ecace2-d843-4343-b2ea-7f64ff7c2ec6",
   "metadata": {},
   "source": [
    "### Q2: What are the two tuple methods in python? Give an example of each method. Give a reason why tuples have only two in-built methods as compared to Lists.\n",
    "\n",
    "Ans:  count() and index() are the two tuple method in python\n",
    "      count() = Returns the number of times a specified value occurs in a tuple\n",
    "      index() = Searches the tuple for a specified value and returns the position of where it was found\n",
    "      "
   ]
  },
  {
   "cell_type": "code",
   "execution_count": 7,
   "id": "df830066-d1dd-44eb-b709-0ba9ee0250bc",
   "metadata": {},
   "outputs": [
    {
     "name": "stdout",
     "output_type": "stream",
     "text": [
      "Count of 3 in Tuple1 is: 3\n"
     ]
    }
   ],
   "source": [
    "## Example of count()\n",
    "tpl = (0, 1, 2, 3, 2, 3, 1, 3, 2)\n",
    "\n",
    "temp = tpl.count(3)\n",
    "print('Count of 3 in Tuple1 is:', temp)\n"
   ]
  },
  {
   "cell_type": "code",
   "execution_count": 12,
   "id": "9b5fed59-1a7e-4620-bc3f-7fc0c163c87f",
   "metadata": {},
   "outputs": [
    {
     "name": "stdout",
     "output_type": "stream",
     "text": [
      "First occurrence of 3 is 3\n"
     ]
    }
   ],
   "source": [
    "## Example of index()\n",
    "tpl1 = (0, 1, 2, 3, 2, 3, 1, 3, 2)\n",
    "  \n",
    "temp1 = tpl1.index(3)\n",
    "print('First occurrence of 3 is', temp1)\n",
    "  "
   ]
  },
  {
   "cell_type": "raw",
   "id": "e9321900-f0a4-4b41-b670-59384c38ec9c",
   "metadata": {},
   "source": [
    "Tuples are immutable, whereas lists can be modified. This in itself explains why tuples don't have any way of modifying them. Thats why tuples have only two in-built methods as compared to Lists."
   ]
  },
  {
   "cell_type": "markdown",
   "id": "1b7e47c8-fd0d-4013-b7a9-b2b3be48a0a2",
   "metadata": {
    "tags": []
   },
   "source": [
    "### Q3: Which collection datatypes in python do not allow duplicate items? Write a code using a set to remove duplicates from the given list.\n",
    "\n",
    "Ans: Set datatype do not allow duplicate items in python"
   ]
  },
  {
   "cell_type": "code",
   "execution_count": 8,
   "id": "aeca3710-f285-4756-93a8-cedd7ccc06d1",
   "metadata": {},
   "outputs": [
    {
     "data": {
      "text/plain": [
       "{1, 2, 3, 4}"
      ]
     },
     "execution_count": 8,
     "metadata": {},
     "output_type": "execute_result"
    }
   ],
   "source": [
    "List = [1, 1, 1, 2, 1, 3, 1, 4, 2, 1, 2, 2, 2, 3, 2, 4, 3, 1, 3, 2, 3, 3, 3, 4, 4, 1, 4, 2, 4, 3, 4, 4]\n",
    "set1 = set(List)\n",
    "set1"
   ]
  },
  {
   "cell_type": "markdown",
   "id": "63a04da4-7137-4887-9ad4-6b4093071228",
   "metadata": {},
   "source": [
    "### Q4: Explain the difference between the union() and update() methods for a set. Give an example of each method.\n",
    "\n",
    "Ans: The union() method returns a set that contains all items from the original set, and all items from the specified set(s).\n",
    "You can specify as many sets you want, separated by commas.It does not have to be a set, it can be any iterable object.\n",
    "If an item is present in more than one set, the result will contain only one appearance of this item\n",
    "\n",
    "The update() method updates the current set, by adding items from another set (or any other iterable).\n",
    "If an item is present in both sets, only one appearance of this item will be present in the updated set."
   ]
  },
  {
   "cell_type": "code",
   "execution_count": 1,
   "id": "fea9a8a8-0d13-4dce-a696-4ea5bf96ba09",
   "metadata": {},
   "outputs": [
    {
     "name": "stdout",
     "output_type": "stream",
     "text": [
      "{'a', 'e', 'c', 'b', 'd', 'f'}\n"
     ]
    }
   ],
   "source": [
    "## Example of union()\n",
    "x = {\"a\", \"b\", \"c\"}\n",
    "y = {\"f\", \"d\", \"a\"}\n",
    "z = {\"c\", \"d\", \"e\"}\n",
    "result = x.union(y, z)\n",
    "print(result)"
   ]
  },
  {
   "cell_type": "code",
   "execution_count": 2,
   "id": "6d386366-09c0-40b4-bc85-5515a7b71129",
   "metadata": {},
   "outputs": [
    {
     "name": "stdout",
     "output_type": "stream",
     "text": [
      "{'apple', 'microsoft', 'banana', 'cherry', 'google'}\n"
     ]
    }
   ],
   "source": [
    "## Exampe of update()\n",
    "x = {\"apple\", \"banana\", \"cherry\"}\n",
    "y = {\"google\", \"microsoft\", \"apple\"}\n",
    "x.update(y)\n",
    "print(x)\n"
   ]
  },
  {
   "cell_type": "markdown",
   "id": "138fb263-1cb7-4ebb-9f0e-80e9ade690d8",
   "metadata": {},
   "source": [
    "### Q5: What is a dictionary? Give an example. Also, state whether a dictionary is ordered or unordered.\n",
    "\n",
    "Ans: Dictionary in Python is a collection of keys values, used to store data values like a map, which, unlike other data types which hold only a single value as an element.\n",
    "   Dictionary is a Ordered datatype in python"
   ]
  },
  {
   "cell_type": "code",
   "execution_count": 4,
   "id": "58bc995f-4829-4a46-9055-9f418309b099",
   "metadata": {},
   "outputs": [
    {
     "name": "stdout",
     "output_type": "stream",
     "text": [
      "Ford\n"
     ]
    }
   ],
   "source": [
    "## Example of Dictionary datatype\n",
    "thisdict = {\n",
    "  \"brand\": \"Ford\",\n",
    "  \"model\": \"Mustang\",\n",
    "  \"year\": 1964\n",
    "}\n",
    "print(thisdict[\"brand\"])"
   ]
  },
  {
   "cell_type": "markdown",
   "id": "0b018f5a-6cb1-479c-a8cd-886251a0ca7b",
   "metadata": {},
   "source": [
    "### Q6: Can we create a nested dictionary? If so, please give an example by creating a simple one-level nested dictionary.\n",
    "\n",
    "Ans: Yes, we can create a nested dictionary."
   ]
  },
  {
   "cell_type": "code",
   "execution_count": 6,
   "id": "bec4d47d-4b0b-40d7-9e6e-0c0ea43b3380",
   "metadata": {},
   "outputs": [
    {
     "name": "stdout",
     "output_type": "stream",
     "text": [
      "{'emp1': {'name': 'Avi', 'job': 'Mgr'}, 'emp2': {'name': 'Kunal', 'job': 'Dev'}, 'emp3': {'name': 'Aditya', 'job': 'Dev'}}\n"
     ]
    }
   ],
   "source": [
    "## Example of Nested Dictionary\n",
    "D = dict(emp1 = {'name': 'Avi', 'job': 'Mgr'},\n",
    "         emp2 = {'name': 'Kunal', 'job': 'Dev'},\n",
    "         emp3 = {'name': 'Aditya', 'job': 'Dev'})\n",
    "\n",
    "print(D)"
   ]
  },
  {
   "cell_type": "markdown",
   "id": "843fa0d7-bfbb-4709-834e-fdfcb4154e87",
   "metadata": {},
   "source": [
    "### Q7. Using setdefault() method, create key named topics in the given dictionary and also add the value of the key as this list ['Python', 'Machine Learning’, 'Deep Learning'], dict1 = {'language' : 'Python', 'course': 'Data Science Masters'}"
   ]
  },
  {
   "cell_type": "code",
   "execution_count": 12,
   "id": "0b47506d-dc7e-4bc5-ad7b-6feb4e9d1914",
   "metadata": {},
   "outputs": [
    {
     "name": "stdout",
     "output_type": "stream",
     "text": [
      "{'topics': ['Python', 'Machine Learning', 'Deep Learning']}\n"
     ]
    }
   ],
   "source": [
    "dict = {} \n",
    "dict.setdefault('topics', ['Python','Machine Learning', 'Deep Learning']) \n",
    "\n",
    "print(dict) "
   ]
  },
  {
   "cell_type": "code",
   "execution_count": 10,
   "id": "9148ca62-4c35-428d-b176-d079d196af35",
   "metadata": {},
   "outputs": [],
   "source": [
    "dict1 = {'language' : 'Python', 'course': 'Data Science Masters'}\n",
    "dict.update(dict1)"
   ]
  },
  {
   "cell_type": "code",
   "execution_count": 11,
   "id": "48a37c43-1390-401c-92b9-7d9fb08803d8",
   "metadata": {},
   "outputs": [
    {
     "data": {
      "text/plain": [
       "{'topics': ['Python', 'Machine Learning', 'Deep Learning'],\n",
       " 'language': 'Python',\n",
       " 'course': 'Data Science Masters'}"
      ]
     },
     "execution_count": 11,
     "metadata": {},
     "output_type": "execute_result"
    }
   ],
   "source": [
    "dict"
   ]
  },
  {
   "cell_type": "markdown",
   "id": "4ccc4ec9-b1ee-402a-b2eb-d8aa4c0844ca",
   "metadata": {},
   "source": [
    "### Q8. What are the three view objects in dictionaries? Use the three in-built methods in python to display these three view objects for the given dictionary. dict1 = {'Sport': 'Cricket' , 'Teams': ['India', 'Australia', 'England', 'South Africa', 'Sri Lanka', 'New Zealand']}\n",
    "\n",
    "Ans:  keys, values and items are the three view objects in dictionaries."
   ]
  },
  {
   "cell_type": "code",
   "execution_count": 13,
   "id": "d96fac8a-3ebb-4a0e-af6b-df09a0b6cbdd",
   "metadata": {},
   "outputs": [
    {
     "name": "stdout",
     "output_type": "stream",
     "text": [
      "dict_keys(['Sport', 'Teams'])\n",
      "dict_values(['Cricket', ['India', 'Australia', 'England', 'South Africa', 'Sri Lanka', 'New Zealand']])\n",
      "dict_items([('Sport', 'Cricket'), ('Teams', ['India', 'Australia', 'England', 'South Africa', 'Sri Lanka', 'New Zealand'])])\n"
     ]
    }
   ],
   "source": [
    "# create a dictionary\n",
    "dict1 = {'Sport': 'Cricket' , 'Teams': ['India', 'Australia', 'England', 'South Africa', 'Sri Lanka', 'New Zealand']}\n",
    "\n",
    "# view objects using in-built methods\n",
    "# view keys\n",
    "print(dict1.keys())\n",
    "\n",
    "# view values\n",
    "print(dict1.values())\n",
    "\n",
    "# view items\n",
    "print(dict1.items())"
   ]
  },
  {
   "cell_type": "code",
   "execution_count": null,
   "id": "acc8b063-ee43-435d-8f0b-0d37cdd732a7",
   "metadata": {},
   "outputs": [],
   "source": [
    "s"
   ]
  }
 ],
 "metadata": {
  "kernelspec": {
   "display_name": "Python 3 (ipykernel)",
   "language": "python",
   "name": "python3"
  },
  "language_info": {
   "codemirror_mode": {
    "name": "ipython",
    "version": 3
   },
   "file_extension": ".py",
   "mimetype": "text/x-python",
   "name": "python",
   "nbconvert_exporter": "python",
   "pygments_lexer": "ipython3",
   "version": "3.10.8"
  }
 },
 "nbformat": 4,
 "nbformat_minor": 5
}
