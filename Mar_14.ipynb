{
 "cells": [
  {
   "cell_type": "markdown",
   "id": "fc68476d-ccb9-4d25-b5d6-4ed84cb7327a",
   "metadata": {},
   "source": [
    "# Assignment"
   ]
  },
  {
   "cell_type": "markdown",
   "id": "bc02709c-aee8-479a-a055-9bc9e5f2caed",
   "metadata": {},
   "source": [
    "## Q1. Write a Python function that takes in two arrays of data and calculates the F-value for a variance ratio test. The function should return the F-value and the corresponding p-value for the test."
   ]
  },
  {
   "cell_type": "code",
   "execution_count": 1,
   "id": "380ee90d-6bed-4f4e-a531-43fcdcdcb027",
   "metadata": {},
   "outputs": [
    {
     "data": {
      "text/plain": [
       "(1.0, 1.0)"
      ]
     },
     "execution_count": 1,
     "metadata": {},
     "output_type": "execute_result"
    }
   ],
   "source": [
    "import numpy as np\n",
    "from scipy.stats import f\n",
    "\n",
    "def calculate_f_value(data1, data2):\n",
    "    n1 = len(data1)\n",
    "    n2 = len(data2)\n",
    "    var1 = np.var(data1, ddof=1)\n",
    "    var2 = np.var(data2, ddof=1)\n",
    "    \n",
    "    f_value = var1 / var2\n",
    "    p_value = f.sf(f_value, n1-1, n2-1) * 2  # two-tailed test\n",
    "    \n",
    "    return f_value, p_value\n",
    "\n",
    "data1 = [5,6,4,7,3,7,1]\n",
    "data2 = [1,3,7,7,6,5,4]\n",
    "calculate_f_value(data1,data2)\n"
   ]
  },
  {
   "cell_type": "markdown",
   "id": "9d3de54f-576b-43a4-9a65-3a8fc2b7bc62",
   "metadata": {},
   "source": [
    "## Q2. Given a significance level of 0.05 and the degrees of freedom for the numerator and denominator of an F-distribution, write a Python function that returns the critical F-value for a two-tailed test."
   ]
  },
  {
   "cell_type": "code",
   "execution_count": 2,
   "id": "b4fc53d0-857d-4a23-b918-496b6f82dad2",
   "metadata": {},
   "outputs": [],
   "source": [
    "from scipy.stats import f\n",
    "\n",
    "def get_critical_f_value(alpha, df_num, df_denom):\n",
    "    return f.ppf(1 - alpha/2, df_num, df_denom)\n"
   ]
  },
  {
   "cell_type": "markdown",
   "id": "f8bcdcfc-cc4c-4232-8a92-ecfaec9fb282",
   "metadata": {},
   "source": [
    "## Q3. Write a Python program that generates random samples from two normal distributions with known variances and uses an F-test to determine if the variances are equal. The program should output the F-value, degrees of freedom, and p-value for the test."
   ]
  },
  {
   "cell_type": "code",
   "execution_count": 3,
   "id": "ca801a8c-8055-4db7-b044-415b85201ad6",
   "metadata": {},
   "outputs": [
    {
     "name": "stdout",
     "output_type": "stream",
     "text": [
      "F-value: 0.7504455046053625\n",
      "Degrees of freedom: (99, 99)\n",
      "P-value: 0.9225180967354863\n"
     ]
    }
   ],
   "source": [
    "import numpy as np\n",
    "from scipy.stats import f\n",
    "\n",
    "def perform_f_test(sample1, sample2):\n",
    "    var1 = np.var(sample1, ddof=1)\n",
    "    var2 = np.var(sample2, ddof=1)\n",
    "    n1 = len(sample1)\n",
    "    n2 = len(sample2)\n",
    "    \n",
    "    f_value = var1 / var2\n",
    "    df1 = n1 - 1\n",
    "    df2 = n2 - 1\n",
    "    p_value = f.sf(f_value, df1, df2)\n",
    "    \n",
    "    return f_value, (df1, df2), p_value\n",
    "\n",
    "# Example usage:\n",
    "sample1 = np.random.normal(0, 1, size=100)\n",
    "sample2 = np.random.normal(0, 1, size=100)\n",
    "f_value, degrees_of_freedom, p_value = perform_f_test(sample1, sample2)\n",
    "print(f\"F-value: {f_value}\")\n",
    "print(f\"Degrees of freedom: {degrees_of_freedom}\")\n",
    "print(f\"P-value: {p_value}\")\n"
   ]
  },
  {
   "cell_type": "markdown",
   "id": "e3caf963-fa44-408c-8b5c-1dd9cc72e64d",
   "metadata": {},
   "source": [
    "## Q4.The variances of two populations are known to be 10 and 15. A sample of 12 observations is taken from each population. Conduct an F-test at the 5% significance level to determine if the variances are significantly different."
   ]
  },
  {
   "cell_type": "code",
   "execution_count": 4,
   "id": "00391c7e-b708-4138-8283-9cbd7565acdd",
   "metadata": {},
   "outputs": [
    {
     "name": "stdout",
     "output_type": "stream",
     "text": [
      "The variances are not significantly different.\n"
     ]
    }
   ],
   "source": [
    "from scipy.stats import f\n",
    "\n",
    "variance1 = 10\n",
    "variance2 = 15\n",
    "sample_size = 12\n",
    "alpha = 0.05\n",
    "\n",
    "f_critical = f.ppf(1 - alpha/2, sample_size - 1, sample_size - 1)\n",
    "f_value = variance1 / variance2\n",
    "\n",
    "if f_value > f_critical or f_value < 1/f_critical:\n",
    "    print(\"The variances are significantly different.\")\n",
    "else:\n",
    "    print(\"The variances are not significantly different.\")"
   ]
  },
  {
   "cell_type": "markdown",
   "id": "8f4465d9-03fc-4acd-a498-9696133a62d0",
   "metadata": {},
   "source": [
    "## Q5. A manufacturer claims that the variance of the diameter of a certain product is 0.005. A sample of 25 products is taken, and the sample variance is found to be 0.006. Conduct an F-test at the 1% significance level to determine if the claim is justified."
   ]
  },
  {
   "cell_type": "code",
   "execution_count": 5,
   "id": "8a1f0b00-6915-4011-8225-85aa1075f00c",
   "metadata": {},
   "outputs": [
    {
     "name": "stdout",
     "output_type": "stream",
     "text": [
      "The claim is justified.\n"
     ]
    }
   ],
   "source": [
    "from scipy.stats import f\n",
    "\n",
    "claimed_variance = 0.005\n",
    "sample_variance = 0.006\n",
    "sample_size = 25\n",
    "alpha = 0.01\n",
    "\n",
    "f_critical = f.ppf(1 - alpha/2, sample_size - 1, sample_size - 1)\n",
    "f_value = sample_variance / claimed_variance\n",
    "\n",
    "if f_value > f_critical or f_value < 1/f_critical:\n",
    "    print(\"The claim is not justified.\")\n",
    "else:\n",
    "    print(\"The claim is justified.\")"
   ]
  },
  {
   "cell_type": "markdown",
   "id": "08aed42f-8273-4ecb-a819-46bc439c854c",
   "metadata": {},
   "source": [
    "## Q6. Write a Python function that takes in the degrees of freedom for the numerator and denominator of an F-distribution and calculates the mean and variance of the distribution. The function should return the mean and variance as a tuple."
   ]
  },
  {
   "cell_type": "code",
   "execution_count": 6,
   "id": "762143b2-438a-4760-b9a5-9bdc5a33e3c4",
   "metadata": {},
   "outputs": [],
   "source": [
    "from scipy.stats import f\n",
    "\n",
    "def calculate_f_distribution_stats(df_num, df_denom):\n",
    "    mean = df_denom / (df_denom - 2)\n",
    "    variance = (2 * (df_denom ** 2) * (df_num + df_denom - 2)) / (df_num * (df_denom - 2) ** 2 * (df_denom - 4))\n",
    "    \n",
    "    return mean, variance"
   ]
  },
  {
   "cell_type": "markdown",
   "id": "0afa24bb-99b1-4cc7-8cea-02c4df77ffe9",
   "metadata": {},
   "source": [
    "## Q7. A random sample of 10 measurements is taken from a normal population with unknown variance. The sample variance is found to be 25. Another random sample of 15 measurements is taken from another normal population with unknown variance, and the sample variance is found to be 20. Conduct an F-test at the 10% significance level to determine if the variances are significantly different."
   ]
  },
  {
   "cell_type": "code",
   "execution_count": 7,
   "id": "62a9a32f-33d4-402d-8162-c7f3b3f9ba8c",
   "metadata": {},
   "outputs": [
    {
     "name": "stdout",
     "output_type": "stream",
     "text": [
      "The variances are not significantly different.\n"
     ]
    }
   ],
   "source": [
    "from scipy.stats import f\n",
    "\n",
    "sample_variance1 = 25\n",
    "sample_variance2 = 20\n",
    "sample_size1 = 10\n",
    "sample_size2 = 15\n",
    "alpha = 0.1\n",
    "\n",
    "f_critical = f.ppf(1 - alpha/2, sample_size1 - 1, sample_size2 - 1)\n",
    "f_value = sample_variance1 / sample_variance2\n",
    "\n",
    "if f_value > f_critical or f_value < 1/f_critical:\n",
    "    print(\"The variances are significantly different.\")\n",
    "else:\n",
    "    print(\"The variances are not significantly different.\")"
   ]
  },
  {
   "cell_type": "markdown",
   "id": "d1d8610d-098b-498a-8407-c4706c4c892b",
   "metadata": {},
   "source": [
    "## Q8. The following data represent the waiting times in minutes at two different restaurants on a Saturday night: Restaurant A: 24, 25, 28, 23, 22, 20, 27; Restaurant B: 31, 33, 35, 30, 32, 36. Conduct an F-test at the 5% significance level to determine if the variances are significantly different."
   ]
  },
  {
   "cell_type": "code",
   "execution_count": 8,
   "id": "d711d71b-6af9-4de8-85b4-57f9d19c8959",
   "metadata": {},
   "outputs": [
    {
     "name": "stdout",
     "output_type": "stream",
     "text": [
      "The variances are not significantly different.\n"
     ]
    }
   ],
   "source": [
    "from scipy.stats import f\n",
    "\n",
    "restaurant_A = [24, 25, 28, 23, 22, 20, 27]\n",
    "restaurant_B = [31, 33, 35, 30, 32, 36]\n",
    "alpha = 0.05\n",
    "\n",
    "variance_A = np.var(restaurant_A, ddof=1)\n",
    "variance_B = np.var(restaurant_B, ddof=1)\n",
    "n_A = len(restaurant_A)\n",
    "n_B = len(restaurant_B)\n",
    "\n",
    "f_critical = f.ppf(1 - alpha/2, n_A - 1, n_B - 1)\n",
    "f_value = variance_A / variance_B\n",
    "\n",
    "if f_value > f_critical or f_value < 1/f_critical:\n",
    "    print(\"The variances are significantly different.\")\n",
    "else:\n",
    "    print(\"The variances are not significantly different.\")"
   ]
  },
  {
   "cell_type": "markdown",
   "id": "0135ab0b-06be-4d87-a43a-ebe575c9fbc6",
   "metadata": {},
   "source": [
    "## Q9. The following data represent the test scores of two groups of students: Group A: 80, 85, 90, 92, 87, 83; Group B: 75, 78, 82, 79, 81, 84. Conduct an F-test at the 1% significance level to determine if the variances are significantly different."
   ]
  },
  {
   "cell_type": "code",
   "execution_count": 9,
   "id": "27af6bac-3eed-44f4-a674-4f5eb1263c88",
   "metadata": {},
   "outputs": [
    {
     "name": "stdout",
     "output_type": "stream",
     "text": [
      "The variances are not significantly different.\n"
     ]
    }
   ],
   "source": [
    "from scipy.stats import f\n",
    "\n",
    "group_A = [80, 85, 90, 92, 87, 83]\n",
    "group_B = [75, 78, 82, 79, 81, 84]\n",
    "alpha = 0.01\n",
    "\n",
    "variance_A = np.var(group_A, ddof=1)\n",
    "variance_B = np.var(group_B, ddof=1)\n",
    "n_A = len(group_A)\n",
    "n_B = len(group_B)\n",
    "\n",
    "f_critical = f.ppf(1 - alpha/2, n_A - 1, n_B - 1)\n",
    "f_value = variance_A / variance_B\n",
    "\n",
    "if f_value > f_critical or f_value < 1/f_critical:\n",
    "    print(\"The variances are significantly different.\")\n",
    "else:\n",
    "    print(\"The variances are not significantly different.\")"
   ]
  },
  {
   "cell_type": "code",
   "execution_count": null,
   "id": "6db24c2f-6c6a-4c14-bba3-02e62adea16a",
   "metadata": {},
   "outputs": [],
   "source": []
  }
 ],
 "metadata": {
  "kernelspec": {
   "display_name": "Python 3 (ipykernel)",
   "language": "python",
   "name": "python3"
  },
  "language_info": {
   "codemirror_mode": {
    "name": "ipython",
    "version": 3
   },
   "file_extension": ".py",
   "mimetype": "text/x-python",
   "name": "python",
   "nbconvert_exporter": "python",
   "pygments_lexer": "ipython3",
   "version": "3.10.8"
  }
 },
 "nbformat": 4,
 "nbformat_minor": 5
}
