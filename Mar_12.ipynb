{
 "cells": [
  {
   "cell_type": "markdown",
   "id": "0513c909-a76d-46ea-9555-3f41abcbc446",
   "metadata": {},
   "source": [
    "# Assignment"
   ]
  },
  {
   "cell_type": "markdown",
   "id": "2496baae-62da-48eb-98f7-7d1d41a2e179",
   "metadata": {},
   "source": [
    "## Q1. Calculate the 95% confidence interval for a sample of data with a mean of 50 and a standard deviation of 5 using Python. Interpret the results."
   ]
  },
  {
   "cell_type": "code",
   "execution_count": 1,
   "id": "f86cd62e-6f24-40e8-a986-60507c34073c",
   "metadata": {},
   "outputs": [
    {
     "name": "stdout",
     "output_type": "stream",
     "text": [
      "The 95% confidence interval is (49.01, 50.99)\n"
     ]
    }
   ],
   "source": [
    "import scipy.stats as stats\n",
    "\n",
    "sample_mean = 50\n",
    "sample_std = 5\n",
    "sample_size = 100  # Assuming a sample size of 100\n",
    "\n",
    "confidence_level = 0.95\n",
    "\n",
    "# Calculate the standard error\n",
    "standard_error = sample_std / (sample_size ** 0.5)\n",
    "\n",
    "# Calculate the margin of error\n",
    "margin_of_error = stats.t.ppf((1 + confidence_level) / 2, sample_size - 1) * standard_error\n",
    "\n",
    "# Calculate the lower and upper bounds of the confidence interval\n",
    "lower_bound = sample_mean - margin_of_error\n",
    "upper_bound = sample_mean + margin_of_error\n",
    "\n",
    "print(f\"The 95% confidence interval is ({lower_bound:.2f}, {upper_bound:.2f})\")"
   ]
  },
  {
   "cell_type": "markdown",
   "id": "e0048c31-4c4b-493b-8a4d-1b7e38a4ab2e",
   "metadata": {},
   "source": [
    "## Q2. Conduct a chi-square goodness of fit test to determine if the distribution of colors of M&Ms in a bag matches the expected distribution of 20% blue, 20% orange, 20% green, 10% yellow, 10% red, and 20% brown. Use Python to perform the test with a significance level of 0.05."
   ]
  },
  {
   "cell_type": "code",
   "execution_count": 6,
   "id": "ece6814f-5142-4642-91f1-54d915ed3c1b",
   "metadata": {},
   "outputs": [
    {
     "name": "stdout",
     "output_type": "stream",
     "text": [
      "Chi-square statistic: 11.100000000000001\n",
      "P-value: 0.04943293394384851\n"
     ]
    }
   ],
   "source": [
    "import numpy as np\n",
    "import scipy.stats as stats\n",
    "\n",
    "# Define the expected distribution of M&M colors\n",
    "expected_distribution = [20, 20, 20, 10, 10, 20]\n",
    "\n",
    "# Observed distribution of M&M colors\n",
    "observed_distribution = [15, 25, 12, 8, 10, 10]\n",
    "\n",
    "# Convert the lists to NumPy arrays\n",
    "expected_distribution = np.array(expected_distribution)\n",
    "observed_distribution = np.array(observed_distribution)\n",
    "\n",
    "# Calculate the chi-square statistic\n",
    "chi_square = np.sum((observed_distribution - expected_distribution)**2 / expected_distribution)\n",
    "\n",
    "# Calculate the p-value\n",
    "p_value = 1 - stats.chi2.cdf(chi_square, df=6 - 1)\n",
    "\n",
    "# Print the results\n",
    "print(\"Chi-square statistic:\", chi_square)\n",
    "print(\"P-value:\", p_value)"
   ]
  },
  {
   "cell_type": "markdown",
   "id": "a7e27293-36d6-45c9-a378-40ad503d90ff",
   "metadata": {},
   "source": [
    "## Q3. Use Python to calculate the chi-square statistic and p-value for a contingency table with the following data:"
   ]
  },
  {
   "cell_type": "code",
   "execution_count": 7,
   "id": "a5e5d263-be48-4168-85ab-bedeb7844424",
   "metadata": {},
   "outputs": [
    {
     "name": "stdout",
     "output_type": "stream",
     "text": [
      "Fail to reject the null hypothesis. There is no evidence of an association between the groups and outcomes.\n"
     ]
    }
   ],
   "source": [
    "import numpy as np\n",
    "import scipy.stats as stats\n",
    "\n",
    "# Create the contingency table\n",
    "observed = np.array([[20, 15],\n",
    "                     [10, 25],\n",
    "                     [15, 20]])\n",
    "\n",
    "# Perform the chi-square test\n",
    "chi2_statistic, p_value, _, _ = stats.chi2_contingency(observed)\n",
    "\n",
    "# Set the significance level\n",
    "significance_level = 0.05\n",
    "\n",
    "# Compare the p-value to the significance level\n",
    "if p_value < significance_level:\n",
    "    print(\"Reject the null hypothesis. There is evidence of an association between the groups and outcomes.\")\n",
    "else:\n",
    "    print(\"Fail to reject the null hypothesis. There is no evidence of an association between the groups and outcomes.\")"
   ]
  },
  {
   "cell_type": "markdown",
   "id": "769095e7-bd12-4a6c-baa5-2cf29080405a",
   "metadata": {},
   "source": [
    "## Q4. A study of the prevalence of smoking in a population of 500 individuals found that 60 individuals smoked. Use Python to calculate the 95% confidence interval for the true proportion of individuals in the population who smoke."
   ]
  },
  {
   "cell_type": "code",
   "execution_count": 8,
   "id": "06d5d383-00a5-4f3b-b1de-83f3cac7cad0",
   "metadata": {},
   "outputs": [
    {
     "name": "stdout",
     "output_type": "stream",
     "text": [
      "95% Confidence Interval: (0.09151638887130706, 0.14848361112869293)\n"
     ]
    }
   ],
   "source": [
    "import statsmodels.stats.proportion as proportion\n",
    "\n",
    "# Number of individuals in the population\n",
    "population_size = 500\n",
    "\n",
    "# Number of individuals who smoke\n",
    "smokers = 60\n",
    "\n",
    "# Calculate the proportion of smokers\n",
    "proportion_smokers = smokers / population_size\n",
    "\n",
    "# Calculate the confidence interval\n",
    "confidence_interval = proportion.proportion_confint(smokers, population_size, alpha=0.05, method='normal')\n",
    "\n",
    "# Print the confidence interval\n",
    "print(\"95% Confidence Interval:\", confidence_interval)"
   ]
  },
  {
   "cell_type": "markdown",
   "id": "a592ffc5-633e-4720-aee1-dacbee3ff3af",
   "metadata": {},
   "source": [
    "## Q5. Calculate the 90% confidence interval for a sample of data with a mean of 75 and a standard deviation of 12 using Python. Interpret the results."
   ]
  },
  {
   "cell_type": "code",
   "execution_count": null,
   "id": "b373f751-274f-4244-ad3e-6e6c19244417",
   "metadata": {},
   "outputs": [],
   "source": [
    "import numpy as np\n",
    "import scipy.stats as stats\n",
    "\n",
    "# Define the sample mean and standard deviation\n",
    "mean = 75\n",
    "std_dev = 12\n",
    "\n",
    "# Calculate the t-statistic for a 90% confidence interval\n",
    "t_value = stats.t.ppf(0.95, df=len(data) - 1)\n",
    "\n",
    "# Calculate the confidence interval\n",
    "confidence_interval = (mean - t_value * std_dev / np.sqrt(len(data)), mean + t_value * std_dev / np.sqrt(len(data)))\n",
    "\n",
    "# Print the confidence interval\n",
    "print(\"90% confidence interval:\", confidence_interval)\n"
   ]
  },
  {
   "cell_type": "markdown",
   "id": "0b93b44a-2ad6-46e2-ba46-8419ee252806",
   "metadata": {},
   "source": [
    "## Q6. Use Python to plot the chi-square distribution with 10 degrees of freedom. Label the axes and shade the area corresponding to a chi-square statistic of 15."
   ]
  },
  {
   "cell_type": "code",
   "execution_count": 11,
   "id": "afde29d9-1ce1-45ca-a0c8-1816381dc633",
   "metadata": {},
   "outputs": [
    {
     "data": {
      "image/png": "[encoded data removed]",
      "text/plain": [
       "<Figure size 640x480 with 1 Axes>"
      ]
     },
     "metadata": {},
     "output_type": "display_data"
    }
   ],
   "source": [
    "import numpy as np\n",
    "import matplotlib.pyplot as plt\n",
    "from scipy.stats import chi2\n",
    "\n",
    "# Define the chi-square distribution\n",
    "chi_square_distribution = chi2(df=10)\n",
    "\n",
    "# Plot the chi-square distribution\n",
    "plt.plot(chi_square_distribution.ppf(np.arange(0, 1.01, 0.01)), chi_square_distribution.pdf(np.arange(0, 1.01, 0.01)))\n",
    "plt.xlabel(\"Chi-square statistic\")\n",
    "plt.ylabel(\"Density\")\n",
    "\n",
    "# Shade the area corresponding to a chi-square statistic of 15\n",
    "plt.axvspan(15, 1.01, alpha=0.5, color=\"red\")\n",
    "\n",
    "# Show the plot\n",
    "plt.show()"
   ]
  },
  {
   "cell_type": "markdown",
   "id": "227c0236-1356-43ce-84a8-cc7dfb58c758",
   "metadata": {},
   "source": [
    "## Q7. A random sample of 1000 people was asked if they preferred Coke or Pepsi. Of the sample, 520 preferred Coke. Calculate a 99% confidence interval for the true proportion of people in the population who prefer Coke."
   ]
  },
  {
   "cell_type": "code",
   "execution_count": 12,
   "id": "4c338842-51aa-4a96-8f77-b7fb569ed983",
   "metadata": {},
   "outputs": [
    {
     "name": "stdout",
     "output_type": "stream",
     "text": [
      "99% confidence interval: (0.4793051576779699, 0.5606948423220302)\n"
     ]
    }
   ],
   "source": [
    "import numpy as np\n",
    "import scipy.stats as stats\n",
    "\n",
    "# Define the sample size and number of successes\n",
    "sample_size = 1000\n",
    "number_of_successes = 520\n",
    "\n",
    "# Calculate the sample proportion\n",
    "sample_proportion = number_of_successes / sample_size\n",
    "\n",
    "# Calculate the z-score for a 99% confidence interval\n",
    "z_score = stats.norm.ppf(0.995)\n",
    "\n",
    "# Calculate the confidence interval\n",
    "confidence_interval = (sample_proportion - z_score * np.sqrt(sample_proportion * (1 - sample_proportion) / sample_size),\n",
    "                     sample_proportion + z_score * np.sqrt(sample_proportion * (1 - sample_proportion) / sample_size))\n",
    "\n",
    "# Print the confidence interval\n",
    "print(\"99% confidence interval:\", confidence_interval)"
   ]
  },
  {
   "cell_type": "markdown",
   "id": "f3d74265-9cdd-4ce6-8a84-d47de0535955",
   "metadata": {},
   "source": [
    "## Q8. A researcher hypothesizes that a coin is biased towards tails. They flip the coin 100 times and observe 45 tails. Conduct a chi-square goodness of fit test to determine if the observed frequencies match the expected frequencies of a fair coin. Use a significance level of 0.05."
   ]
  },
  {
   "cell_type": "code",
   "execution_count": 14,
   "id": "c398946c-c0ca-47d4-ad72-3a01d4e26704",
   "metadata": {},
   "outputs": [
    {
     "name": "stdout",
     "output_type": "stream",
     "text": [
      "Chi-square statistic: 1.0\n",
      "P-value: 0.31731050786291415\n"
     ]
    }
   ],
   "source": [
    "import numpy as np\n",
    "import scipy.stats as stats\n",
    "\n",
    "# Define the expected frequencies for a fair coin\n",
    "expected_frequencies = np.array([50, 50])\n",
    "\n",
    "# Observed frequencies\n",
    "observed_frequencies = np.array([45, 55])\n",
    "\n",
    "# Calculate the chi-square statistic\n",
    "chi_square = np.sum((observed_frequencies - expected_frequencies)**2 / expected_frequencies)\n",
    "\n",
    "# Calculate the p-value\n",
    "p_value = 1 - stats.chi2.cdf(chi_square, df=1)\n",
    "\n",
    "# Print the results\n",
    "print(\"Chi-square statistic:\", chi_square)\n",
    "print(\"P-value:\", p_value)\n"
   ]
  },
  {
   "cell_type": "markdown",
   "id": "80ff198b-d968-4de5-aff9-ad57bb624b4d",
   "metadata": {},
   "source": [
    "## Q9. A study was conducted to determine if there is an association between smoking status (smoker or non-smoker) and lung cancer diagnosis (yes or no). The results are shown in the contingency table below. Conduct a chi-square test for independence to determine if there is a significant association between smoking status and lung cancer diagnosis."
   ]
  },
  {
   "cell_type": "code",
   "execution_count": 15,
   "id": "02e7b78f-be9f-4806-8c11-6dec8e9a9550",
   "metadata": {},
   "outputs": [
    {
     "name": "stdout",
     "output_type": "stream",
     "text": [
      "Reject the null hypothesis. There is evidence of an association between smoking status and lung cancer diagnosis.\n"
     ]
    }
   ],
   "source": [
    "import numpy as np\n",
    "import scipy.stats as stats\n",
    "\n",
    "# Create the contingency table\n",
    "observed = np.array([[60, 140],\n",
    "                     [30, 170]])\n",
    "\n",
    "# Perform the chi-square test for independence\n",
    "chi2_statistic, p_value, _, _ = stats.chi2_contingency(observed)\n",
    "\n",
    "# Set the significance level\n",
    "significance_level = 0.05\n",
    "\n",
    "# Compare the p-value to the significance level\n",
    "if p_value < significance_level:\n",
    "    print(\"Reject the null hypothesis. There is evidence of an association between smoking status and lung cancer diagnosis.\")\n",
    "else:\n",
    "    print(\"Fail to reject the null hypothesis. There is no evidence of an association between smoking status and lung cancer diagnosis.\")\n"
   ]
  },
  {
   "cell_type": "markdown",
   "id": "d3c16765-edd4-4b46-b394-340f1eb5d25d",
   "metadata": {},
   "source": [
    "## Q10. A study was conducted to determine if the proportion of people who prefer milk chocolate, dark chocolate, or white chocolate is different in the U.S. versus the U.K. A random sample of 500 people from the U.S. and a random sample of 500 people from the U.K. were surveyed. The results are shown in the contingency table below. Conduct a chi-square test for independence to determine if there is a significant association between chocolate preference and country of origin."
   ]
  },
  {
   "cell_type": "code",
   "execution_count": 16,
   "id": "3b293f8e-89ee-45a0-8564-3b611a935ecd",
   "metadata": {},
   "outputs": [
    {
     "name": "stdout",
     "output_type": "stream",
     "text": [
      "Reject the null hypothesis. There is evidence of an association between chocolate preference and country of origin.\n"
     ]
    }
   ],
   "source": [
    "import numpy as np\n",
    "import scipy.stats as stats\n",
    "\n",
    "# Create the contingency table\n",
    "observed = np.array([[200, 150, 150],\n",
    "                     [225, 175, 100]])\n",
    "\n",
    "# Perform the chi-square test for independence\n",
    "chi2_statistic, p_value, _, _ = stats.chi2_contingency(observed)\n",
    "\n",
    "# Set the significance level\n",
    "significance_level = 0.01\n",
    "\n",
    "# Compare the p-value to the significance level\n",
    "if p_value < significance_level:\n",
    "    print(\"Reject the null hypothesis. There is evidence of an association between chocolate preference and country of origin.\")\n",
    "else:\n",
    "    print(\"Fail to reject the null hypothesis. There is no evidence of an association between chocolate preference and country of origin.\")\n"
   ]
  },
  {
   "cell_type": "markdown",
   "id": "f60c5b05-3a05-43ee-953d-ded705786e9c",
   "metadata": {},
   "source": [
    "## Q11. A random sample of 30 people was selected from a population with an unknown mean and standard deviation. The sample mean was found to be 72 and the sample standard deviation was found to be 10. Conduct a hypothesis test to determine if the population mean is significantly different from 70. Use a significance level of 0.05."
   ]
  },
  {
   "cell_type": "code",
   "execution_count": 17,
   "id": "b623623d-7fb0-4084-9437-8c4b8d95c489",
   "metadata": {},
   "outputs": [
    {
     "name": "stdout",
     "output_type": "stream",
     "text": [
      "Fail to reject the null hypothesis. There is not enough evidence to conclude that the population mean is significantly different from 70.\n"
     ]
    }
   ],
   "source": [
    "import numpy as np\n",
    "import scipy.stats as stats\n",
    "\n",
    "# Sample data\n",
    "sample_mean = 72\n",
    "sample_std = 10\n",
    "sample_size = 30\n",
    "population_mean = 70\n",
    "\n",
    "# Calculate the t-statistic\n",
    "t_statistic = (sample_mean - population_mean) / (sample_std / np.sqrt(sample_size))\n",
    "\n",
    "# Degrees of freedom\n",
    "df = sample_size - 1\n",
    "\n",
    "# Set the significance level\n",
    "significance_level = 0.05\n",
    "\n",
    "# Calculate the critical value (two-tailed test)\n",
    "critical_value = stats.t.ppf(1 - significance_level / 2, df)\n",
    "\n",
    "# Calculate the p-value (two-tailed test)\n",
    "p_value = 2 * (1 - stats.t.cdf(np.abs(t_statistic), df))\n",
    "\n",
    "# Compare the t-statistic to the critical value and p-value to the significance level\n",
    "if np.abs(t_statistic) > critical_value or p_value < significance_level:\n",
    "    print(\"Reject the null hypothesis. The population mean is significantly different from 70.\")\n",
    "else:\n",
    "    print(\"Fail to reject the null hypothesis. There is not enough evidence to conclude that the population mean is significantly different from 70.\")\n"
   ]
  },
  {
   "cell_type": "code",
   "execution_count": null,
   "id": "2d7d7665-a174-4220-9f98-f99f9ed271f6",
   "metadata": {},
   "outputs": [],
   "source": []
  }
 ],
 "metadata": {
  "kernelspec": {
   "display_name": "Python 3 (ipykernel)",
   "language": "python",
   "name": "python3"
  },
  "language_info": {
   "codemirror_mode": {
    "name": "ipython",
    "version": 3
   },
   "file_extension": ".py",
   "mimetype": "text/x-python",
   "name": "python",
   "nbconvert_exporter": "python",
   "pygments_lexer": "ipython3",
   "version": "3.10.8"
  }
 },
 "nbformat": 4,
 "nbformat_minor": 5
}
