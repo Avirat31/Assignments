{
 "cells": [
  {
   "cell_type": "markdown",
   "id": "cc657364-1e1e-411e-be65-63df546d4aa7",
   "metadata": {},
   "source": [
    "# Assignment"
   ]
  },
  {
   "cell_type": "markdown",
   "id": "7f3feccd-27e1-4494-96cd-057d437907b2",
   "metadata": {},
   "source": [
    "### Q1: Who developed Python programming language?\n",
    "\n",
    "Ans: Guido van Rossum"
   ]
  },
  {
   "cell_type": "markdown",
   "id": "9fe0de01-41b5-409e-beb4-cf693e85357f",
   "metadata": {},
   "source": [
    "### Q2: which type of programming does Python support?\n",
    "Ans: Python supports Object-oriented programming and structured programming"
   ]
  },
  {
   "cell_type": "markdown",
   "id": "ee44947e-b579-48fc-b189-0b8806d2738f",
   "metadata": {},
   "source": [
    "### Q3 Is python case sensitive when dealing with identifiers?\n",
    "\n",
    "Ans: Yes, Python is a case-sensitive language, it treats uppercase and lowercase characters differently"
   ]
  },
  {
   "cell_type": "markdown",
   "id": "9b91a52e-1781-46c2-ade3-9335a9cc927d",
   "metadata": {},
   "source": [
    "### Q4 What is the correct extension of python file?\n",
    "\n",
    "Ans: .py is the correct extension of python file"
   ]
  },
  {
   "cell_type": "markdown",
   "id": "730235f8-a5e6-4709-8471-85dc4be2a40a",
   "metadata": {},
   "source": [
    "### Q5 Is python code compiled or interpreted?\n",
    "\n",
    "Ans: Python code is interpreted"
   ]
  },
  {
   "cell_type": "markdown",
   "id": "b8ee71da-b7cf-44d5-bf7e-c3195197a589",
   "metadata": {},
   "source": [
    "### Q6 Name a few blocks of code used to define a Python language?\n",
    "\n",
    "Ans: In Python, there are several blocks of code used to define the language: comments, strings, numbers, variables, classes, functions, conditionals, loops, and imports. "
   ]
  },
  {
   "cell_type": "markdown",
   "id": "e05bf0f9-44bd-4ec9-ab0c-546bfba05f4a",
   "metadata": {},
   "source": [
    "### Q7 State character used to give single line comment in Python?\n",
    "\n",
    "Ans: # character is used to give single line comment in python"
   ]
  },
  {
   "cell_type": "markdown",
   "id": "e0abafc8-233f-4d0b-a08a-4ae9a2593802",
   "metadata": {},
   "source": [
    "### Q8 Mention functions which can help us to find the version of python that we currently working on?\n",
    "\n",
    "Ans: The function sys. version can help us to find the version of python that we are currently working on"
   ]
  },
  {
   "cell_type": "markdown",
   "id": "5fc358b7-6f54-40d2-80f3-062624013312",
   "metadata": {},
   "source": [
    "### Q9 Creation of anonymous functions at runtime using a constructor called?\n",
    "\n",
    "Ans: lambda function "
   ]
  },
  {
   "cell_type": "markdown",
   "id": "c0908089-e6f6-41a1-b8ff-1513b3188709",
   "metadata": {},
   "source": [
    "### Q10 What does PIP stand for python?\n",
    "\n",
    "Ans: PIP stands for Preferred Installer Program"
   ]
  },
  {
   "cell_type": "markdown",
   "id": "bfddd64a-15d7-4fe9-a663-017a43cdbc19",
   "metadata": {},
   "source": [
    "### Q11 Mention a few built in function in Python?\n",
    "\n",
    "Ans: print( ) function.\n",
    "\n",
    "type( ) function.\n",
    "\n",
    "input( ) function.\n",
    "\n",
    "abs( ) function.\n",
    "\n",
    "pow( ) function.\n",
    "\n",
    "dir( ) function.\n",
    "\n",
    "sorted( ) function.\n",
    "\n",
    "max( ) function.\n"
   ]
  },
  {
   "cell_type": "markdown",
   "id": "6e442998-352e-4db4-9d44-e159d069fb03",
   "metadata": {},
   "source": [
    "### Q12 What is the maximum possible length of an identifier in Python?\n",
    "\n",
    "Ans: 79 Characters"
   ]
  },
  {
   "cell_type": "markdown",
   "id": "9a8e6977-b4bf-4211-b1c0-46047723196d",
   "metadata": {},
   "source": [
    "### Q13 What are the benefit of using python?\n",
    "\n",
    "Ans: Presence of third-party modules \n",
    "\n",
    "Extensive support libraries(NumPy for numerical calculations, Pandas for data analytics, etc.) \n",
    "\n",
    "Open source and large active community base \n",
    "\n",
    "Versatile, Easy to read, learn and write\n",
    "\n",
    "User-friendly data structures \n",
    "\n",
    "High-level language \n",
    "\n",
    "Dynamically typed language(No need to mention data type based on the value assigned, it takes data type) "
   ]
  },
  {
   "cell_type": "markdown",
   "id": "96718a52-b2d5-4914-9a2f-a4176936fd7e",
   "metadata": {},
   "source": [
    "### Q14 How is Memory Managed in Python?\n",
    "\n",
    "Ans: Memory management in Python involves a private heap containing all Python objects and data structures"
   ]
  },
  {
   "cell_type": "markdown",
   "id": "4076ae4b-7839-46b4-a85d-8691bbf6b467",
   "metadata": {},
   "source": [
    "### Q15 How to install Python on Windows and set path variable?\n",
    "\n",
    "Ans: Installing Python on a Windows machine is relatively easy. The first step is to download the latest version of Python from the official Python website. Once the file is downloaded, double-click on the setup file to run the installation wizard.\n",
    "\n",
    "Once the installation is complete, you’ll need to set up the PATH environment variable. This is done in the Advanced System Settings, which can be accessed by searching for “Advanced System Settings” in the Windows search bar. In the Advanced System Settings, select the “Environment Variables” button and add the path to the Python folder in the “Path” variable.\n",
    "\n",
    "Once the path is set, you should be able to run Python from the command line. To test it, open the command prompt and type “python” to see if it works. If it does, you’ve successfully installed Python on your Windows machine."
   ]
  },
  {
   "cell_type": "markdown",
   "id": "5e1da12f-8cd9-476f-8281-82de0949b1f1",
   "metadata": {},
   "source": [
    "### Q16 Is indentation required in Python?\n",
    "\n",
    "Ans: Yes, indentation is very important in python"
   ]
  },
  {
   "cell_type": "code",
   "execution_count": null,
   "id": "cc273c9f-9d22-49b2-a5ef-166da17dc803",
   "metadata": {},
   "outputs": [],
   "source": []
  }
 ],
 "metadata": {
  "kernelspec": {
   "display_name": "Python 3 (ipykernel)",
   "language": "python",
   "name": "python3"
  },
  "language_info": {
   "codemirror_mode": {
    "name": "ipython",
    "version": 3
   },
   "file_extension": ".py",
   "mimetype": "text/x-python",
   "name": "python",
   "nbconvert_exporter": "python",
   "pygments_lexer": "ipython3",
   "version": "3.10.8"
  }
 },
 "nbformat": 4,
 "nbformat_minor": 5
}
