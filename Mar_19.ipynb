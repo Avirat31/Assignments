{
 "cells": [
  {
   "cell_type": "markdown",
   "id": "b229eb7d-cb71-43dd-b408-44d1fb68bbc7",
   "metadata": {},
   "source": [
    "# Assignment"
   ]
  },
  {
   "cell_type": "markdown",
   "id": "5864404b-243b-4c65-a360-a32d7ba6452f",
   "metadata": {},
   "source": [
    "## Q1. What is Min-Max scaling, and how is it used in data preprocessing? Provide an example to illustrate its application.\n",
    "\n",
    "Ans: Min-Max scaling, also known as normalization, is a technique used in data preprocessing to scale numerical features within a specific range. It rescales the values of the feature to a range typically between 0 and 1, preserving the relative relationships between the data points. The formula for Min-Max scaling is:\n",
    "\n",
    "scaled_value = (value - min_value) / (max_value - min_value)\n",
    "\n",
    "Example: Suppose we have a feature representing the age of individuals in a dataset. The minimum and maximum values of the age feature are 20 and 60, respectively. By applying Min-Max scaling, an age value of 30 would be scaled to (30 - 20) / (60 - 20) = 0.25."
   ]
  },
  {
   "cell_type": "markdown",
   "id": "1b01d85e-c7ec-4044-b560-665dddeb70cf",
   "metadata": {},
   "source": [
    "## Q2. What is the Unit Vector technique in feature scaling, and how does it differ from Min-Max scaling? Provide an example to illustrate its application.\n",
    "\n",
    "Ans: The Unit Vector technique, also known as normalization or feature scaling, scales the feature vector to have a unit norm or length of 1. It rescales the feature values such that the Euclidean norm of the vector is 1. The formula for Unit Vector scaling is:\n",
    "\n",
    "scaled_vector = vector / norm(vector)\n",
    "\n",
    "Example: Consider a feature vector [3, 4, 1]. To scale it using the Unit Vector technique, we calculate its Euclidean norm as sqrt(3^2 + 4^2 + 1^2) = sqrt(26). Dividing the original vector by the norm, we get [3/√26, 4/√26, 1/√26]."
   ]
  },
  {
   "cell_type": "markdown",
   "id": "ea9b106d-39fe-4199-a909-d0cc52156550",
   "metadata": {},
   "source": [
    "## Q3. What is PCA (Principle Component Analysis), and how is it used in dimensionality reduction? Provide an example to illustrate its application.\n",
    "\n",
    "Ans: PCA (Principal Component Analysis) is a dimensionality reduction technique used to transform a high-dimensional dataset into a lower-dimensional space while retaining as much information as possible. It achieves this by identifying the principal components, which are linear combinations of the original features, that capture the maximum variance in the data.\n",
    "\n",
    "Example: Suppose we have a dataset with multiple numerical features. By applying PCA, we can project the data onto a lower-dimensional subspace while maintaining most of the important information. This can be useful for visualizing high-dimensional data or reducing computational complexity."
   ]
  },
  {
   "cell_type": "markdown",
   "id": "222f34d0-5891-43d6-9bd9-f3a08f47d7e6",
   "metadata": {},
   "source": [
    "## Q4. What is the relationship between PCA and Feature Extraction, and how can PCA be used for Feature Extraction? Provide an example to illustrate this concept.\n",
    "\n",
    "Ans:  PCA can be used for feature extraction by selecting a subset of the principal components as the new features. These components capture the most significant variation in the data. By discarding the components with lower importance, the dimensionality of the dataset is reduced while preserving most of the information.\n",
    "\n",
    "Example: Consider a dataset with multiple correlated features. By applying PCA, we can obtain the principal components. We can then select a subset of the most important components, discarding the rest. The retained components serve as the new features, representing the original data in a lower-dimensional space."
   ]
  },
  {
   "cell_type": "markdown",
   "id": "c74fd2f6-4f04-4b63-8868-eef1284b7dca",
   "metadata": {},
   "source": [
    "## Q5. You are working on a project to build a recommendation system for a food delivery service. The dataset contains features such as price, rating, and delivery time. Explain how you would use Min-Max scaling to preprocess the data.\n",
    "\n",
    "Ans:  In the food delivery recommendation system project, Min-Max scaling can be used to preprocess the data. The features such as price, rating, and delivery time can have different scales and ranges. By applying Min-Max scaling to these features, we can transform them to a common range, such as 0 to 1. This ensures that all features have equal importance during the analysis and modeling process."
   ]
  },
  {
   "cell_type": "markdown",
   "id": "4b372f7a-a190-4dd9-9b9a-1340c86f61bc",
   "metadata": {},
   "source": [
    "## Q6. You are working on a project to build a model to predict stock prices. The dataset contains many features, such as company financial data and market trends. Explain how you would use PCA to reduce the dimensionality of the dataset.\n",
    "\n",
    "Ans: In the stock price prediction project, PCA can be used to reduce the dimensionality of the dataset. The dataset may contain numerous features, such as company financial data and market trends. By applying PCA, we can identify the principal components that capture the most significant variance in the data. Selecting a subset of these components can effectively reduce the dimensionality while retaining the most important information for predicting stock prices."
   ]
  },
  {
   "cell_type": "markdown",
   "id": "3f65b422-c3d5-45d3-8fd9-d283f70a123c",
   "metadata": {},
   "source": [
    "## Q7. For a dataset containing the following values: [1, 5, 10, 15, 20], perform Min-Max scaling to transform the values to a range of -1 to 1.\n",
    "\n",
    "Ans:  For the given dataset [1, 5, 10, 15, 20], to transform the values to a range of -1 to 1 using Min-Max scaling, we need to calculate the minimum and maximum values of the dataset. In this case, the minimum value is 1, and the maximum value is 20. Applying the Min-Max scaling formula:\n",
    "\n",
    "scaled_value = (value - min_value) / (max_value - min_value)\n",
    "\n",
    "The transformed values would be [-1, -0.5, 0, 0.5, 1]."
   ]
  },
  {
   "cell_type": "markdown",
   "id": "c4cb7ce1-5bf2-4b3b-98f2-7a85221452f0",
   "metadata": {},
   "source": [
    "## Q8. For a dataset containing the following features: [height, weight, age, gender, blood pressure], perform Feature Extraction using PCA. How many principal components would you choose to retain, and why?\n",
    "\n",
    "Ans: To perform Feature Extraction using PCA on the dataset with features [height, weight, age, gender, blood pressure], the number of principal components to retain depends on the desired level of dimensionality reduction and the amount of variance explained. It can be determined by analyzing the explained variance ratio or conducting a scree plot analysis. The choice of the number of principal components is often a trade-off between the desired level of dimensionality reduction and the amount of information retained."
   ]
  },
  {
   "cell_type": "code",
   "execution_count": null,
   "id": "dc3b47ef-b57d-4fe4-8a13-b641bc717fc0",
   "metadata": {},
   "outputs": [],
   "source": []
  }
 ],
 "metadata": {
  "kernelspec": {
   "display_name": "Python 3 (ipykernel)",
   "language": "python",
   "name": "python3"
  },
  "language_info": {
   "codemirror_mode": {
    "name": "ipython",
    "version": 3
   },
   "file_extension": ".py",
   "mimetype": "text/x-python",
   "name": "python",
   "nbconvert_exporter": "python",
   "pygments_lexer": "ipython3",
   "version": "3.10.8"
  }
 },
 "nbformat": 4,
 "nbformat_minor": 5
}
